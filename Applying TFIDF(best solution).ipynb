{
 "cells": [
  {
   "cell_type": "markdown",
   "id": "58f18d8d",
   "metadata": {},
   "source": [
    "# 1. Imports"
   ]
  },
  {
   "cell_type": "code",
   "execution_count": 89,
   "id": "953bbdb2",
   "metadata": {},
   "outputs": [
    {
     "name": "stdout",
     "output_type": "stream",
     "text": [
      "Requirement already satisfied: xgboost in c:\\users\\vishwa\\anaconda3\\lib\\site-packages (1.5.1)\n",
      "Requirement already satisfied: scipy in c:\\users\\vishwa\\anaconda3\\lib\\site-packages (from xgboost) (1.6.2)\n",
      "Requirement already satisfied: numpy in c:\\users\\vishwa\\anaconda3\\lib\\site-packages (from xgboost) (1.20.1)\n"
     ]
    },
    {
     "name": "stderr",
     "output_type": "stream",
     "text": [
      "[nltk_data] Downloading package punkt to\n",
      "[nltk_data]     C:\\Users\\Vishwa\\AppData\\Roaming\\nltk_data...\n",
      "[nltk_data]   Package punkt is already up-to-date!\n",
      "[nltk_data] Downloading package stopwords to\n",
      "[nltk_data]     C:\\Users\\Vishwa\\AppData\\Roaming\\nltk_data...\n",
      "[nltk_data]   Package stopwords is already up-to-date!\n",
      "[nltk_data] Downloading package wordnet to\n",
      "[nltk_data]     C:\\Users\\Vishwa\\AppData\\Roaming\\nltk_data...\n",
      "[nltk_data]   Package wordnet is already up-to-date!\n"
     ]
    }
   ],
   "source": [
    "import sys\n",
    "!{sys.executable} -m pip install xgboost\n",
    "import numpy as np \n",
    "import pandas as pd\n",
    "import nltk\n",
    "import matplotlib.pyplot as plt \n",
    "import seaborn as sns \n",
    "import re\n",
    "import random\n",
    "import nltk\n",
    "import string\n",
    "from nltk.tokenize import word_tokenize\n",
    "from nltk.corpus import stopwords\n",
    "from nltk.stem.porter import PorterStemmer\n",
    "from nltk.stem import SnowballStemmer\n",
    "nltk.download('punkt')\n",
    "nltk.download('stopwords')\n",
    "nltk.download('wordnet')\n",
    "from nltk.stem import WordNetLemmatizer\n",
    "import xgboost as xgb\n",
    "import pandas as pd\n",
    "import seaborn as sns\n",
    "sns.set(style=\"darkgrid\", font_scale=1.2)\n",
    "from sklearn.metrics import accuracy_score\n",
    "from sklearn.metrics import matthews_corrcoef\n",
    "from sklearn.metrics import f1_score"
   ]
  },
  {
   "cell_type": "code",
   "execution_count": 22,
   "id": "fa0ee157",
   "metadata": {},
   "outputs": [
    {
     "name": "stdout",
     "output_type": "stream",
     "text": [
      "Train shape :  (5916, 27) \tTest shape :  (1479, 26)\n"
     ]
    }
   ],
   "source": [
    "train = pd.read_csv(\"./help-boost-our-online-reach/train_data.csv\")\n",
    "test = pd.read_csv(\"./help-boost-our-online-reach/test_data.csv\")\n",
    "print(\"Train shape : \",train.shape,\"\\tTest shape : \", test.shape)"
   ]
  },
  {
   "cell_type": "code",
   "execution_count": 23,
   "id": "0862a823",
   "metadata": {},
   "outputs": [],
   "source": [
    "test['label'] = 2\n",
    "test['indicator'] = 0\n",
    "train['indicator'] = 1\n",
    "train_df = pd.concat([test,train])"
   ]
  },
  {
   "cell_type": "code",
   "execution_count": 24,
   "id": "1f9e4bf1",
   "metadata": {},
   "outputs": [
    {
     "data": {
      "text/html": [
       "<div>\n",
       "<style scoped>\n",
       "    .dataframe tbody tr th:only-of-type {\n",
       "        vertical-align: middle;\n",
       "    }\n",
       "\n",
       "    .dataframe tbody tr th {\n",
       "        vertical-align: top;\n",
       "    }\n",
       "\n",
       "    .dataframe thead th {\n",
       "        text-align: right;\n",
       "    }\n",
       "</style>\n",
       "<table border=\"1\" class=\"dataframe\">\n",
       "  <thead>\n",
       "    <tr style=\"text-align: right;\">\n",
       "      <th></th>\n",
       "      <th>url</th>\n",
       "      <th>webpageDescription</th>\n",
       "      <th>alchemy_category</th>\n",
       "      <th>alchemy_category_score</th>\n",
       "      <th>avgLinkWordLength</th>\n",
       "      <th>AvglinkWithOneCommonWord</th>\n",
       "      <th>AvglinkWithTwoCommonWord</th>\n",
       "      <th>AvglinkWithThreeCommonWord</th>\n",
       "      <th>AvglinkWithFourCommonWord</th>\n",
       "      <th>redundancyMeasure</th>\n",
       "      <th>...</th>\n",
       "      <th>hyperlinkToAllWordsRatio</th>\n",
       "      <th>isFrontPageNews</th>\n",
       "      <th>alphanumCharCount</th>\n",
       "      <th>linksCount</th>\n",
       "      <th>wordCount</th>\n",
       "      <th>parametrizedLinkRatio</th>\n",
       "      <th>spellingErrorsRatio</th>\n",
       "      <th>id</th>\n",
       "      <th>label</th>\n",
       "      <th>indicator</th>\n",
       "    </tr>\n",
       "  </thead>\n",
       "  <tbody>\n",
       "    <tr>\n",
       "      <th>0</th>\n",
       "      <td>http://www.ocweekly.com/2013-04-11/news/deport...</td>\n",
       "      <td>{\"url\":\"ocweekly 2013 04 11 news deported mexi...</td>\n",
       "      <td>sports</td>\n",
       "      <td>0.300004</td>\n",
       "      <td>2.307692</td>\n",
       "      <td>0.424749</td>\n",
       "      <td>0.190635</td>\n",
       "      <td>0.036789</td>\n",
       "      <td>0.020067</td>\n",
       "      <td>0.439444</td>\n",
       "      <td>...</td>\n",
       "      <td>23</td>\n",
       "      <td>0</td>\n",
       "      <td>8670</td>\n",
       "      <td>299</td>\n",
       "      <td>9</td>\n",
       "      <td>0.397993</td>\n",
       "      <td>0.098242</td>\n",
       "      <td>7172</td>\n",
       "      <td>2</td>\n",
       "      <td>0</td>\n",
       "    </tr>\n",
       "    <tr>\n",
       "      <th>1</th>\n",
       "      <td>http://www.youbeauty.com/nutrition/galleries/1...</td>\n",
       "      <td>{\"title\":\"10 Exotic Fruits Vegetables 10 exoti...</td>\n",
       "      <td>science_technology</td>\n",
       "      <td>0.625228</td>\n",
       "      <td>1.712500</td>\n",
       "      <td>0.492063</td>\n",
       "      <td>0.301587</td>\n",
       "      <td>0.005291</td>\n",
       "      <td>0.000000</td>\n",
       "      <td>0.488178</td>\n",
       "      <td>...</td>\n",
       "      <td>26</td>\n",
       "      <td>0</td>\n",
       "      <td>3800</td>\n",
       "      <td>189</td>\n",
       "      <td>6</td>\n",
       "      <td>0.137566</td>\n",
       "      <td>0.089463</td>\n",
       "      <td>2687</td>\n",
       "      <td>2</td>\n",
       "      <td>0</td>\n",
       "    </tr>\n",
       "    <tr>\n",
       "      <th>2</th>\n",
       "      <td>http://www.you-made-that.com/skinny-german-cho...</td>\n",
       "      <td>{\"title\":\"Skinny German Chocolate Cookies \",\"b...</td>\n",
       "      <td>?</td>\n",
       "      <td>?</td>\n",
       "      <td>1.400000</td>\n",
       "      <td>0.207547</td>\n",
       "      <td>0.018868</td>\n",
       "      <td>0.000000</td>\n",
       "      <td>0.000000</td>\n",
       "      <td>0.513166</td>\n",
       "      <td>...</td>\n",
       "      <td>12</td>\n",
       "      <td>0</td>\n",
       "      <td>2253</td>\n",
       "      <td>53</td>\n",
       "      <td>4</td>\n",
       "      <td>0.132075</td>\n",
       "      <td>0.070922</td>\n",
       "      <td>6990</td>\n",
       "      <td>2</td>\n",
       "      <td>0</td>\n",
       "    </tr>\n",
       "    <tr>\n",
       "      <th>3</th>\n",
       "      <td>http://drpullen.com/carpediem/</td>\n",
       "      <td>{\"title\":\"Carpe Diem DrPullen com Medical and ...</td>\n",
       "      <td>?</td>\n",
       "      <td>?</td>\n",
       "      <td>1.600000</td>\n",
       "      <td>0.303030</td>\n",
       "      <td>0.000000</td>\n",
       "      <td>0.000000</td>\n",
       "      <td>0.000000</td>\n",
       "      <td>0.461538</td>\n",
       "      <td>...</td>\n",
       "      <td>6</td>\n",
       "      <td>0</td>\n",
       "      <td>3266</td>\n",
       "      <td>33</td>\n",
       "      <td>1</td>\n",
       "      <td>0.060606</td>\n",
       "      <td>0.100000</td>\n",
       "      <td>5639</td>\n",
       "      <td>2</td>\n",
       "      <td>0</td>\n",
       "    </tr>\n",
       "    <tr>\n",
       "      <th>4</th>\n",
       "      <td>http://bradcolbow.com/archive/view/the_brads_t...</td>\n",
       "      <td>{\"title\":\"Brad Colbow Independent Web Designer...</td>\n",
       "      <td>computer_internet</td>\n",
       "      <td>0.85</td>\n",
       "      <td>3.967213</td>\n",
       "      <td>0.596330</td>\n",
       "      <td>0.449541</td>\n",
       "      <td>0.431193</td>\n",
       "      <td>0.422018</td>\n",
       "      <td>0.505411</td>\n",
       "      <td>...</td>\n",
       "      <td>7</td>\n",
       "      <td>0</td>\n",
       "      <td>13721</td>\n",
       "      <td>109</td>\n",
       "      <td>9</td>\n",
       "      <td>0.027523</td>\n",
       "      <td>0.144509</td>\n",
       "      <td>2701</td>\n",
       "      <td>2</td>\n",
       "      <td>0</td>\n",
       "    </tr>\n",
       "  </tbody>\n",
       "</table>\n",
       "<p>5 rows × 28 columns</p>\n",
       "</div>"
      ],
      "text/plain": [
       "                                                 url  \\\n",
       "0  http://www.ocweekly.com/2013-04-11/news/deport...   \n",
       "1  http://www.youbeauty.com/nutrition/galleries/1...   \n",
       "2  http://www.you-made-that.com/skinny-german-cho...   \n",
       "3                     http://drpullen.com/carpediem/   \n",
       "4  http://bradcolbow.com/archive/view/the_brads_t...   \n",
       "\n",
       "                                  webpageDescription    alchemy_category  \\\n",
       "0  {\"url\":\"ocweekly 2013 04 11 news deported mexi...              sports   \n",
       "1  {\"title\":\"10 Exotic Fruits Vegetables 10 exoti...  science_technology   \n",
       "2  {\"title\":\"Skinny German Chocolate Cookies \",\"b...                   ?   \n",
       "3  {\"title\":\"Carpe Diem DrPullen com Medical and ...                   ?   \n",
       "4  {\"title\":\"Brad Colbow Independent Web Designer...   computer_internet   \n",
       "\n",
       "  alchemy_category_score  avgLinkWordLength  AvglinkWithOneCommonWord  \\\n",
       "0               0.300004           2.307692                  0.424749   \n",
       "1               0.625228           1.712500                  0.492063   \n",
       "2                      ?           1.400000                  0.207547   \n",
       "3                      ?           1.600000                  0.303030   \n",
       "4                   0.85           3.967213                  0.596330   \n",
       "\n",
       "   AvglinkWithTwoCommonWord  AvglinkWithThreeCommonWord  \\\n",
       "0                  0.190635                    0.036789   \n",
       "1                  0.301587                    0.005291   \n",
       "2                  0.018868                    0.000000   \n",
       "3                  0.000000                    0.000000   \n",
       "4                  0.449541                    0.431193   \n",
       "\n",
       "   AvglinkWithFourCommonWord  redundancyMeasure  ...  \\\n",
       "0                   0.020067           0.439444  ...   \n",
       "1                   0.000000           0.488178  ...   \n",
       "2                   0.000000           0.513166  ...   \n",
       "3                   0.000000           0.461538  ...   \n",
       "4                   0.422018           0.505411  ...   \n",
       "\n",
       "   hyperlinkToAllWordsRatio  isFrontPageNews  alphanumCharCount  linksCount  \\\n",
       "0                        23                0               8670         299   \n",
       "1                        26                0               3800         189   \n",
       "2                        12                0               2253          53   \n",
       "3                         6                0               3266          33   \n",
       "4                         7                0              13721         109   \n",
       "\n",
       "   wordCount  parametrizedLinkRatio spellingErrorsRatio    id  label indicator  \n",
       "0          9               0.397993            0.098242  7172      2         0  \n",
       "1          6               0.137566            0.089463  2687      2         0  \n",
       "2          4               0.132075            0.070922  6990      2         0  \n",
       "3          1               0.060606            0.100000  5639      2         0  \n",
       "4          9               0.027523            0.144509  2701      2         0  \n",
       "\n",
       "[5 rows x 28 columns]"
      ]
     },
     "execution_count": 24,
     "metadata": {},
     "output_type": "execute_result"
    }
   ],
   "source": [
    "train_df.head()"
   ]
  },
  {
   "cell_type": "markdown",
   "id": "a3f62fdd",
   "metadata": {},
   "source": [
    "# 2.EDA "
   ]
  },
  {
   "cell_type": "markdown",
   "id": "c4d0ba9e",
   "metadata": {},
   "source": [
    "## 2.1 checking null values"
   ]
  },
  {
   "cell_type": "code",
   "execution_count": 25,
   "id": "2a37dd84",
   "metadata": {},
   "outputs": [
    {
     "data": {
      "text/plain": [
       "url                           0\n",
       "webpageDescription            0\n",
       "alchemy_category              0\n",
       "alchemy_category_score        0\n",
       "avgLinkWordLength             0\n",
       "AvglinkWithOneCommonWord      0\n",
       "AvglinkWithTwoCommonWord      0\n",
       "AvglinkWithThreeCommonWord    0\n",
       "AvglinkWithFourCommonWord     0\n",
       "redundancyMeasure             0\n",
       "embedRatio                    0\n",
       "framebased                    0\n",
       "frameTagRatio                 0\n",
       "domainLink                    0\n",
       "tagRatio                      0\n",
       "imageTagRatio                 0\n",
       "isNews                        0\n",
       "lengthyDomain                 0\n",
       "hyperlinkToAllWordsRatio      0\n",
       "isFrontPageNews               0\n",
       "alphanumCharCount             0\n",
       "linksCount                    0\n",
       "wordCount                     0\n",
       "parametrizedLinkRatio         0\n",
       "spellingErrorsRatio           0\n",
       "id                            0\n",
       "label                         0\n",
       "indicator                     0\n",
       "dtype: int64"
      ]
     },
     "execution_count": 25,
     "metadata": {},
     "output_type": "execute_result"
    }
   ],
   "source": [
    "train_df.isna().sum()"
   ]
  },
  {
   "cell_type": "code",
   "execution_count": 26,
   "id": "6fb40311",
   "metadata": {},
   "outputs": [
    {
     "data": {
      "text/plain": [
       "url                              0\n",
       "webpageDescription               0\n",
       "alchemy_category              2342\n",
       "alchemy_category_score        2342\n",
       "avgLinkWordLength                0\n",
       "AvglinkWithOneCommonWord         0\n",
       "AvglinkWithTwoCommonWord         0\n",
       "AvglinkWithThreeCommonWord       0\n",
       "AvglinkWithFourCommonWord        0\n",
       "redundancyMeasure                0\n",
       "embedRatio                       0\n",
       "framebased                       0\n",
       "frameTagRatio                    0\n",
       "domainLink                       0\n",
       "tagRatio                         0\n",
       "imageTagRatio                    0\n",
       "isNews                        2843\n",
       "lengthyDomain                    0\n",
       "hyperlinkToAllWordsRatio         0\n",
       "isFrontPageNews               1248\n",
       "alphanumCharCount                0\n",
       "linksCount                       0\n",
       "wordCount                        0\n",
       "parametrizedLinkRatio            0\n",
       "spellingErrorsRatio              0\n",
       "id                               0\n",
       "label                            0\n",
       "indicator                        0\n",
       "dtype: int64"
      ]
     },
     "execution_count": 26,
     "metadata": {},
     "output_type": "execute_result"
    }
   ],
   "source": [
    "(train_df == \"?\").sum()"
   ]
  },
  {
   "cell_type": "code",
   "execution_count": 27,
   "id": "8f2046e4",
   "metadata": {},
   "outputs": [
    {
     "data": {
      "text/plain": [
       "?                     2342\n",
       "recreation            1229\n",
       "arts_entertainment     941\n",
       "business               880\n",
       "health                 506\n",
       "sports                 380\n",
       "culture_politics       343\n",
       "computer_internet      296\n",
       "science_technology     289\n",
       "gaming                  76\n",
       "religion                72\n",
       "law_crime               31\n",
       "unknown                  6\n",
       "weather                  4\n",
       "Name: alchemy_category, dtype: int64"
      ]
     },
     "execution_count": 27,
     "metadata": {},
     "output_type": "execute_result"
    }
   ],
   "source": [
    "train_df['alchemy_category'].value_counts()"
   ]
  },
  {
   "cell_type": "code",
   "execution_count": 28,
   "id": "87fe17b7",
   "metadata": {},
   "outputs": [
    {
     "data": {
      "text/plain": [
       "<AxesSubplot:>"
      ]
     },
     "execution_count": 28,
     "metadata": {},
     "output_type": "execute_result"
    },
    {
     "data": {
      "image/png": "[encoded data removed]",
      "text/plain": [
       "<Figure size 432x288 with 1 Axes>"
      ]
     },
     "metadata": {},
     "output_type": "display_data"
    }
   ],
   "source": [
    "train_df['alchemy_category'].value_counts()[:10].plot(kind='barh')"
   ]
  },
  {
   "cell_type": "code",
   "execution_count": 29,
   "id": "3f8ac52c",
   "metadata": {},
   "outputs": [
    {
     "data": {
      "text/plain": [
       "0                   sports\n",
       "1       science_technology\n",
       "2       arts_entertainment\n",
       "3       arts_entertainment\n",
       "4        computer_internet\n",
       "               ...        \n",
       "5911              business\n",
       "5912             law_crime\n",
       "5913              business\n",
       "5914            recreation\n",
       "5915            recreation\n",
       "Name: alchemy_category, Length: 7395, dtype: object"
      ]
     },
     "execution_count": 29,
     "metadata": {},
     "output_type": "execute_result"
    }
   ],
   "source": [
    "# replacing ? values with random value\n",
    "train_df['alchemy_category'] = train_df['alchemy_category'].replace(to_replace =\"?\",value =random.choice(train_df['alchemy_category'].values.tolist()))\n",
    "train_df['alchemy_category']"
   ]
  },
  {
   "cell_type": "code",
   "execution_count": null,
   "id": "728ac38f",
   "metadata": {},
   "outputs": [],
   "source": []
  },
  {
   "cell_type": "code",
   "execution_count": 30,
   "id": "ce5e6941",
   "metadata": {},
   "outputs": [
    {
     "data": {
      "text/plain": [
       "<seaborn.axisgrid.FacetGrid at 0x20712582e50>"
      ]
     },
     "execution_count": 30,
     "metadata": {},
     "output_type": "execute_result"
    },
    {
     "data": {
      "image/png": "[encoded data removed]",
      "text/plain": [
       "<Figure size 504x360 with 1 Axes>"
      ]
     },
     "metadata": {},
     "output_type": "display_data"
    }
   ],
   "source": [
    "sns.displot(data=train_df,x=\"linksCount\",kind=\"hist\",aspect=1.4)"
   ]
  },
  {
   "cell_type": "code",
   "execution_count": 31,
   "id": "63d18077",
   "metadata": {},
   "outputs": [
    {
     "data": {
      "text/plain": [
       "<seaborn.axisgrid.FacetGrid at 0x207141e9790>"
      ]
     },
     "execution_count": 31,
     "metadata": {},
     "output_type": "execute_result"
    },
    {
     "data": {
      "image/png": "[encoded data removed]",
      "text/plain": [
       "<Figure size 504x360 with 1 Axes>"
      ]
     },
     "metadata": {},
     "output_type": "display_data"
    }
   ],
   "source": [
    "sns.displot(data=train_df,x=\"hyperlinkToAllWordsRatio\",kind=\"hist\",aspect=1.4)"
   ]
  },
  {
   "cell_type": "code",
   "execution_count": 32,
   "id": "9194268e",
   "metadata": {},
   "outputs": [],
   "source": [
    "train_df['alchemy_category_score'] = train_df['alchemy_category_score'].replace(to_replace =\"?\",value = np.NaN)\n",
    "train_df['alchemy_category_score'] = train_df['alchemy_category_score'].astype('float')"
   ]
  },
  {
   "cell_type": "code",
   "execution_count": 33,
   "id": "9da4a0b6",
   "metadata": {},
   "outputs": [
    {
     "name": "stdout",
     "output_type": "stream",
     "text": [
      "median:  0.625616\n",
      "mean :  0.6033343166237869\n"
     ]
    }
   ],
   "source": [
    "print('median: ',train_df['alchemy_category_score'].median())\n",
    "print('mean : ',train_df['alchemy_category_score'].mean())"
   ]
  },
  {
   "cell_type": "code",
   "execution_count": 34,
   "id": "4877c050",
   "metadata": {},
   "outputs": [],
   "source": [
    "train_df['alchemy_category_score'].fillna(train_df['alchemy_category_score'].mean(), inplace=True)"
   ]
  },
  {
   "cell_type": "code",
   "execution_count": 35,
   "id": "e08367b4",
   "metadata": {},
   "outputs": [
    {
     "data": {
      "text/plain": [
       "0    1\n",
       "dtype: object"
      ]
     },
     "execution_count": 35,
     "metadata": {},
     "output_type": "execute_result"
    }
   ],
   "source": [
    "train_df['isNews'].mode() "
   ]
  },
  {
   "cell_type": "code",
   "execution_count": 36,
   "id": "f9c11a37",
   "metadata": {},
   "outputs": [
    {
     "data": {
      "text/plain": [
       "0    0\n",
       "dtype: object"
      ]
     },
     "execution_count": 36,
     "metadata": {},
     "output_type": "execute_result"
    }
   ],
   "source": [
    "train_df['isFrontPageNews'].mode()"
   ]
  },
  {
   "cell_type": "code",
   "execution_count": 37,
   "id": "a14b8d22",
   "metadata": {},
   "outputs": [],
   "source": [
    "train_df['isFrontPageNews'] = train_df['isFrontPageNews'].replace(to_replace =\"?\",value =0)\n",
    "train_df['isNews'] = train_df['isNews'].replace(to_replace =\"?\",value =1)"
   ]
  },
  {
   "cell_type": "code",
   "execution_count": 38,
   "id": "7f19edc2",
   "metadata": {},
   "outputs": [],
   "source": [
    "train_df['isNews']=train_df['isNews'].astype('float')\n",
    "train_df['isFrontPageNews']=train_df['isFrontPageNews'].astype('float')"
   ]
  },
  {
   "cell_type": "code",
   "execution_count": 39,
   "id": "0a247bc4",
   "metadata": {},
   "outputs": [
    {
     "data": {
      "text/plain": [
       "url                           0\n",
       "webpageDescription            0\n",
       "alchemy_category              0\n",
       "alchemy_category_score        0\n",
       "avgLinkWordLength             0\n",
       "AvglinkWithOneCommonWord      0\n",
       "AvglinkWithTwoCommonWord      0\n",
       "AvglinkWithThreeCommonWord    0\n",
       "AvglinkWithFourCommonWord     0\n",
       "redundancyMeasure             0\n",
       "embedRatio                    0\n",
       "framebased                    0\n",
       "frameTagRatio                 0\n",
       "domainLink                    0\n",
       "tagRatio                      0\n",
       "imageTagRatio                 0\n",
       "isNews                        0\n",
       "lengthyDomain                 0\n",
       "hyperlinkToAllWordsRatio      0\n",
       "isFrontPageNews               0\n",
       "alphanumCharCount             0\n",
       "linksCount                    0\n",
       "wordCount                     0\n",
       "parametrizedLinkRatio         0\n",
       "spellingErrorsRatio           0\n",
       "id                            0\n",
       "label                         0\n",
       "indicator                     0\n",
       "dtype: int64"
      ]
     },
     "execution_count": 39,
     "metadata": {},
     "output_type": "execute_result"
    }
   ],
   "source": [
    "(train_df == \"?\").sum()"
   ]
  },
  {
   "cell_type": "code",
   "execution_count": 40,
   "id": "f8aafaae",
   "metadata": {},
   "outputs": [
    {
     "data": {
      "text/html": [
       "<div>\n",
       "<style scoped>\n",
       "    .dataframe tbody tr th:only-of-type {\n",
       "        vertical-align: middle;\n",
       "    }\n",
       "\n",
       "    .dataframe tbody tr th {\n",
       "        vertical-align: top;\n",
       "    }\n",
       "\n",
       "    .dataframe thead th {\n",
       "        text-align: right;\n",
       "    }\n",
       "</style>\n",
       "<table border=\"1\" class=\"dataframe\">\n",
       "  <thead>\n",
       "    <tr style=\"text-align: right;\">\n",
       "      <th></th>\n",
       "      <th>url</th>\n",
       "      <th>webpageDescription</th>\n",
       "      <th>alchemy_category</th>\n",
       "      <th>alchemy_category_score</th>\n",
       "      <th>avgLinkWordLength</th>\n",
       "      <th>AvglinkWithOneCommonWord</th>\n",
       "      <th>AvglinkWithTwoCommonWord</th>\n",
       "      <th>AvglinkWithThreeCommonWord</th>\n",
       "      <th>AvglinkWithFourCommonWord</th>\n",
       "      <th>redundancyMeasure</th>\n",
       "      <th>...</th>\n",
       "      <th>hyperlinkToAllWordsRatio</th>\n",
       "      <th>isFrontPageNews</th>\n",
       "      <th>alphanumCharCount</th>\n",
       "      <th>linksCount</th>\n",
       "      <th>wordCount</th>\n",
       "      <th>parametrizedLinkRatio</th>\n",
       "      <th>spellingErrorsRatio</th>\n",
       "      <th>id</th>\n",
       "      <th>label</th>\n",
       "      <th>indicator</th>\n",
       "    </tr>\n",
       "  </thead>\n",
       "  <tbody>\n",
       "    <tr>\n",
       "      <th>0</th>\n",
       "      <td>http://www.ocweekly.com/2013-04-11/news/deport...</td>\n",
       "      <td>{\"url\":\"ocweekly 2013 04 11 news deported mexi...</td>\n",
       "      <td>sports</td>\n",
       "      <td>0.300004</td>\n",
       "      <td>2.307692</td>\n",
       "      <td>0.424749</td>\n",
       "      <td>0.190635</td>\n",
       "      <td>0.036789</td>\n",
       "      <td>0.020067</td>\n",
       "      <td>0.439444</td>\n",
       "      <td>...</td>\n",
       "      <td>23</td>\n",
       "      <td>0.0</td>\n",
       "      <td>8670</td>\n",
       "      <td>299</td>\n",
       "      <td>9</td>\n",
       "      <td>0.397993</td>\n",
       "      <td>0.098242</td>\n",
       "      <td>7172</td>\n",
       "      <td>2</td>\n",
       "      <td>0</td>\n",
       "    </tr>\n",
       "    <tr>\n",
       "      <th>1</th>\n",
       "      <td>http://www.youbeauty.com/nutrition/galleries/1...</td>\n",
       "      <td>{\"title\":\"10 Exotic Fruits Vegetables 10 exoti...</td>\n",
       "      <td>science_technology</td>\n",
       "      <td>0.625228</td>\n",
       "      <td>1.712500</td>\n",
       "      <td>0.492063</td>\n",
       "      <td>0.301587</td>\n",
       "      <td>0.005291</td>\n",
       "      <td>0.000000</td>\n",
       "      <td>0.488178</td>\n",
       "      <td>...</td>\n",
       "      <td>26</td>\n",
       "      <td>0.0</td>\n",
       "      <td>3800</td>\n",
       "      <td>189</td>\n",
       "      <td>6</td>\n",
       "      <td>0.137566</td>\n",
       "      <td>0.089463</td>\n",
       "      <td>2687</td>\n",
       "      <td>2</td>\n",
       "      <td>0</td>\n",
       "    </tr>\n",
       "    <tr>\n",
       "      <th>2</th>\n",
       "      <td>http://www.you-made-that.com/skinny-german-cho...</td>\n",
       "      <td>{\"title\":\"Skinny German Chocolate Cookies \",\"b...</td>\n",
       "      <td>arts_entertainment</td>\n",
       "      <td>0.603334</td>\n",
       "      <td>1.400000</td>\n",
       "      <td>0.207547</td>\n",
       "      <td>0.018868</td>\n",
       "      <td>0.000000</td>\n",
       "      <td>0.000000</td>\n",
       "      <td>0.513166</td>\n",
       "      <td>...</td>\n",
       "      <td>12</td>\n",
       "      <td>0.0</td>\n",
       "      <td>2253</td>\n",
       "      <td>53</td>\n",
       "      <td>4</td>\n",
       "      <td>0.132075</td>\n",
       "      <td>0.070922</td>\n",
       "      <td>6990</td>\n",
       "      <td>2</td>\n",
       "      <td>0</td>\n",
       "    </tr>\n",
       "    <tr>\n",
       "      <th>3</th>\n",
       "      <td>http://drpullen.com/carpediem/</td>\n",
       "      <td>{\"title\":\"Carpe Diem DrPullen com Medical and ...</td>\n",
       "      <td>arts_entertainment</td>\n",
       "      <td>0.603334</td>\n",
       "      <td>1.600000</td>\n",
       "      <td>0.303030</td>\n",
       "      <td>0.000000</td>\n",
       "      <td>0.000000</td>\n",
       "      <td>0.000000</td>\n",
       "      <td>0.461538</td>\n",
       "      <td>...</td>\n",
       "      <td>6</td>\n",
       "      <td>0.0</td>\n",
       "      <td>3266</td>\n",
       "      <td>33</td>\n",
       "      <td>1</td>\n",
       "      <td>0.060606</td>\n",
       "      <td>0.100000</td>\n",
       "      <td>5639</td>\n",
       "      <td>2</td>\n",
       "      <td>0</td>\n",
       "    </tr>\n",
       "    <tr>\n",
       "      <th>4</th>\n",
       "      <td>http://bradcolbow.com/archive/view/the_brads_t...</td>\n",
       "      <td>{\"title\":\"Brad Colbow Independent Web Designer...</td>\n",
       "      <td>computer_internet</td>\n",
       "      <td>0.850000</td>\n",
       "      <td>3.967213</td>\n",
       "      <td>0.596330</td>\n",
       "      <td>0.449541</td>\n",
       "      <td>0.431193</td>\n",
       "      <td>0.422018</td>\n",
       "      <td>0.505411</td>\n",
       "      <td>...</td>\n",
       "      <td>7</td>\n",
       "      <td>0.0</td>\n",
       "      <td>13721</td>\n",
       "      <td>109</td>\n",
       "      <td>9</td>\n",
       "      <td>0.027523</td>\n",
       "      <td>0.144509</td>\n",
       "      <td>2701</td>\n",
       "      <td>2</td>\n",
       "      <td>0</td>\n",
       "    </tr>\n",
       "  </tbody>\n",
       "</table>\n",
       "<p>5 rows × 28 columns</p>\n",
       "</div>"
      ],
      "text/plain": [
       "                                                 url  \\\n",
       "0  http://www.ocweekly.com/2013-04-11/news/deport...   \n",
       "1  http://www.youbeauty.com/nutrition/galleries/1...   \n",
       "2  http://www.you-made-that.com/skinny-german-cho...   \n",
       "3                     http://drpullen.com/carpediem/   \n",
       "4  http://bradcolbow.com/archive/view/the_brads_t...   \n",
       "\n",
       "                                  webpageDescription    alchemy_category  \\\n",
       "0  {\"url\":\"ocweekly 2013 04 11 news deported mexi...              sports   \n",
       "1  {\"title\":\"10 Exotic Fruits Vegetables 10 exoti...  science_technology   \n",
       "2  {\"title\":\"Skinny German Chocolate Cookies \",\"b...  arts_entertainment   \n",
       "3  {\"title\":\"Carpe Diem DrPullen com Medical and ...  arts_entertainment   \n",
       "4  {\"title\":\"Brad Colbow Independent Web Designer...   computer_internet   \n",
       "\n",
       "   alchemy_category_score  avgLinkWordLength  AvglinkWithOneCommonWord  \\\n",
       "0                0.300004           2.307692                  0.424749   \n",
       "1                0.625228           1.712500                  0.492063   \n",
       "2                0.603334           1.400000                  0.207547   \n",
       "3                0.603334           1.600000                  0.303030   \n",
       "4                0.850000           3.967213                  0.596330   \n",
       "\n",
       "   AvglinkWithTwoCommonWord  AvglinkWithThreeCommonWord  \\\n",
       "0                  0.190635                    0.036789   \n",
       "1                  0.301587                    0.005291   \n",
       "2                  0.018868                    0.000000   \n",
       "3                  0.000000                    0.000000   \n",
       "4                  0.449541                    0.431193   \n",
       "\n",
       "   AvglinkWithFourCommonWord  redundancyMeasure  ...  \\\n",
       "0                   0.020067           0.439444  ...   \n",
       "1                   0.000000           0.488178  ...   \n",
       "2                   0.000000           0.513166  ...   \n",
       "3                   0.000000           0.461538  ...   \n",
       "4                   0.422018           0.505411  ...   \n",
       "\n",
       "   hyperlinkToAllWordsRatio  isFrontPageNews  alphanumCharCount  linksCount  \\\n",
       "0                        23              0.0               8670         299   \n",
       "1                        26              0.0               3800         189   \n",
       "2                        12              0.0               2253          53   \n",
       "3                         6              0.0               3266          33   \n",
       "4                         7              0.0              13721         109   \n",
       "\n",
       "   wordCount  parametrizedLinkRatio  spellingErrorsRatio    id  label  \\\n",
       "0          9               0.397993             0.098242  7172      2   \n",
       "1          6               0.137566             0.089463  2687      2   \n",
       "2          4               0.132075             0.070922  6990      2   \n",
       "3          1               0.060606             0.100000  5639      2   \n",
       "4          9               0.027523             0.144509  2701      2   \n",
       "\n",
       "   indicator  \n",
       "0          0  \n",
       "1          0  \n",
       "2          0  \n",
       "3          0  \n",
       "4          0  \n",
       "\n",
       "[5 rows x 28 columns]"
      ]
     },
     "execution_count": 40,
     "metadata": {},
     "output_type": "execute_result"
    }
   ],
   "source": [
    "train_df.head()\n",
    "#pd.set_option(\"display.max_columns\",None)"
   ]
  },
  {
   "cell_type": "markdown",
   "id": "c5479f79",
   "metadata": {},
   "source": [
    "## 2.2 One-Hot encoding"
   ]
  },
  {
   "cell_type": "code",
   "execution_count": 41,
   "id": "1c269af1",
   "metadata": {},
   "outputs": [
    {
     "data": {
      "text/html": [
       "<div>\n",
       "<style scoped>\n",
       "    .dataframe tbody tr th:only-of-type {\n",
       "        vertical-align: middle;\n",
       "    }\n",
       "\n",
       "    .dataframe tbody tr th {\n",
       "        vertical-align: top;\n",
       "    }\n",
       "\n",
       "    .dataframe thead th {\n",
       "        text-align: right;\n",
       "    }\n",
       "</style>\n",
       "<table border=\"1\" class=\"dataframe\">\n",
       "  <thead>\n",
       "    <tr style=\"text-align: right;\">\n",
       "      <th></th>\n",
       "      <th>url</th>\n",
       "      <th>webpageDescription</th>\n",
       "      <th>alchemy_category_score</th>\n",
       "      <th>avgLinkWordLength</th>\n",
       "      <th>AvglinkWithOneCommonWord</th>\n",
       "      <th>AvglinkWithTwoCommonWord</th>\n",
       "      <th>AvglinkWithThreeCommonWord</th>\n",
       "      <th>AvglinkWithFourCommonWord</th>\n",
       "      <th>redundancyMeasure</th>\n",
       "      <th>embedRatio</th>\n",
       "      <th>...</th>\n",
       "      <th>alchemy_category_culture_politics</th>\n",
       "      <th>alchemy_category_gaming</th>\n",
       "      <th>alchemy_category_health</th>\n",
       "      <th>alchemy_category_law_crime</th>\n",
       "      <th>alchemy_category_recreation</th>\n",
       "      <th>alchemy_category_religion</th>\n",
       "      <th>alchemy_category_science_technology</th>\n",
       "      <th>alchemy_category_sports</th>\n",
       "      <th>alchemy_category_unknown</th>\n",
       "      <th>alchemy_category_weather</th>\n",
       "    </tr>\n",
       "  </thead>\n",
       "  <tbody>\n",
       "    <tr>\n",
       "      <th>0</th>\n",
       "      <td>http://www.ocweekly.com/2013-04-11/news/deport...</td>\n",
       "      <td>{\"url\":\"ocweekly 2013 04 11 news deported mexi...</td>\n",
       "      <td>0.300004</td>\n",
       "      <td>2.307692</td>\n",
       "      <td>0.424749</td>\n",
       "      <td>0.190635</td>\n",
       "      <td>0.036789</td>\n",
       "      <td>0.020067</td>\n",
       "      <td>0.439444</td>\n",
       "      <td>0.0</td>\n",
       "      <td>...</td>\n",
       "      <td>0</td>\n",
       "      <td>0</td>\n",
       "      <td>0</td>\n",
       "      <td>0</td>\n",
       "      <td>0</td>\n",
       "      <td>0</td>\n",
       "      <td>0</td>\n",
       "      <td>1</td>\n",
       "      <td>0</td>\n",
       "      <td>0</td>\n",
       "    </tr>\n",
       "    <tr>\n",
       "      <th>1</th>\n",
       "      <td>http://www.youbeauty.com/nutrition/galleries/1...</td>\n",
       "      <td>{\"title\":\"10 Exotic Fruits Vegetables 10 exoti...</td>\n",
       "      <td>0.625228</td>\n",
       "      <td>1.712500</td>\n",
       "      <td>0.492063</td>\n",
       "      <td>0.301587</td>\n",
       "      <td>0.005291</td>\n",
       "      <td>0.000000</td>\n",
       "      <td>0.488178</td>\n",
       "      <td>0.0</td>\n",
       "      <td>...</td>\n",
       "      <td>0</td>\n",
       "      <td>0</td>\n",
       "      <td>0</td>\n",
       "      <td>0</td>\n",
       "      <td>0</td>\n",
       "      <td>0</td>\n",
       "      <td>1</td>\n",
       "      <td>0</td>\n",
       "      <td>0</td>\n",
       "      <td>0</td>\n",
       "    </tr>\n",
       "    <tr>\n",
       "      <th>2</th>\n",
       "      <td>http://www.you-made-that.com/skinny-german-cho...</td>\n",
       "      <td>{\"title\":\"Skinny German Chocolate Cookies \",\"b...</td>\n",
       "      <td>0.603334</td>\n",
       "      <td>1.400000</td>\n",
       "      <td>0.207547</td>\n",
       "      <td>0.018868</td>\n",
       "      <td>0.000000</td>\n",
       "      <td>0.000000</td>\n",
       "      <td>0.513166</td>\n",
       "      <td>0.0</td>\n",
       "      <td>...</td>\n",
       "      <td>0</td>\n",
       "      <td>0</td>\n",
       "      <td>0</td>\n",
       "      <td>0</td>\n",
       "      <td>0</td>\n",
       "      <td>0</td>\n",
       "      <td>0</td>\n",
       "      <td>0</td>\n",
       "      <td>0</td>\n",
       "      <td>0</td>\n",
       "    </tr>\n",
       "    <tr>\n",
       "      <th>3</th>\n",
       "      <td>http://drpullen.com/carpediem/</td>\n",
       "      <td>{\"title\":\"Carpe Diem DrPullen com Medical and ...</td>\n",
       "      <td>0.603334</td>\n",
       "      <td>1.600000</td>\n",
       "      <td>0.303030</td>\n",
       "      <td>0.000000</td>\n",
       "      <td>0.000000</td>\n",
       "      <td>0.000000</td>\n",
       "      <td>0.461538</td>\n",
       "      <td>0.0</td>\n",
       "      <td>...</td>\n",
       "      <td>0</td>\n",
       "      <td>0</td>\n",
       "      <td>0</td>\n",
       "      <td>0</td>\n",
       "      <td>0</td>\n",
       "      <td>0</td>\n",
       "      <td>0</td>\n",
       "      <td>0</td>\n",
       "      <td>0</td>\n",
       "      <td>0</td>\n",
       "    </tr>\n",
       "    <tr>\n",
       "      <th>4</th>\n",
       "      <td>http://bradcolbow.com/archive/view/the_brads_t...</td>\n",
       "      <td>{\"title\":\"Brad Colbow Independent Web Designer...</td>\n",
       "      <td>0.850000</td>\n",
       "      <td>3.967213</td>\n",
       "      <td>0.596330</td>\n",
       "      <td>0.449541</td>\n",
       "      <td>0.431193</td>\n",
       "      <td>0.422018</td>\n",
       "      <td>0.505411</td>\n",
       "      <td>0.0</td>\n",
       "      <td>...</td>\n",
       "      <td>0</td>\n",
       "      <td>0</td>\n",
       "      <td>0</td>\n",
       "      <td>0</td>\n",
       "      <td>0</td>\n",
       "      <td>0</td>\n",
       "      <td>0</td>\n",
       "      <td>0</td>\n",
       "      <td>0</td>\n",
       "      <td>0</td>\n",
       "    </tr>\n",
       "  </tbody>\n",
       "</table>\n",
       "<p>5 rows × 40 columns</p>\n",
       "</div>"
      ],
      "text/plain": [
       "                                                 url  \\\n",
       "0  http://www.ocweekly.com/2013-04-11/news/deport...   \n",
       "1  http://www.youbeauty.com/nutrition/galleries/1...   \n",
       "2  http://www.you-made-that.com/skinny-german-cho...   \n",
       "3                     http://drpullen.com/carpediem/   \n",
       "4  http://bradcolbow.com/archive/view/the_brads_t...   \n",
       "\n",
       "                                  webpageDescription  alchemy_category_score  \\\n",
       "0  {\"url\":\"ocweekly 2013 04 11 news deported mexi...                0.300004   \n",
       "1  {\"title\":\"10 Exotic Fruits Vegetables 10 exoti...                0.625228   \n",
       "2  {\"title\":\"Skinny German Chocolate Cookies \",\"b...                0.603334   \n",
       "3  {\"title\":\"Carpe Diem DrPullen com Medical and ...                0.603334   \n",
       "4  {\"title\":\"Brad Colbow Independent Web Designer...                0.850000   \n",
       "\n",
       "   avgLinkWordLength  AvglinkWithOneCommonWord  AvglinkWithTwoCommonWord  \\\n",
       "0           2.307692                  0.424749                  0.190635   \n",
       "1           1.712500                  0.492063                  0.301587   \n",
       "2           1.400000                  0.207547                  0.018868   \n",
       "3           1.600000                  0.303030                  0.000000   \n",
       "4           3.967213                  0.596330                  0.449541   \n",
       "\n",
       "   AvglinkWithThreeCommonWord  AvglinkWithFourCommonWord  redundancyMeasure  \\\n",
       "0                    0.036789                   0.020067           0.439444   \n",
       "1                    0.005291                   0.000000           0.488178   \n",
       "2                    0.000000                   0.000000           0.513166   \n",
       "3                    0.000000                   0.000000           0.461538   \n",
       "4                    0.431193                   0.422018           0.505411   \n",
       "\n",
       "   embedRatio  ...  alchemy_category_culture_politics  \\\n",
       "0         0.0  ...                                  0   \n",
       "1         0.0  ...                                  0   \n",
       "2         0.0  ...                                  0   \n",
       "3         0.0  ...                                  0   \n",
       "4         0.0  ...                                  0   \n",
       "\n",
       "   alchemy_category_gaming  alchemy_category_health  \\\n",
       "0                        0                        0   \n",
       "1                        0                        0   \n",
       "2                        0                        0   \n",
       "3                        0                        0   \n",
       "4                        0                        0   \n",
       "\n",
       "   alchemy_category_law_crime  alchemy_category_recreation  \\\n",
       "0                           0                            0   \n",
       "1                           0                            0   \n",
       "2                           0                            0   \n",
       "3                           0                            0   \n",
       "4                           0                            0   \n",
       "\n",
       "   alchemy_category_religion  alchemy_category_science_technology  \\\n",
       "0                          0                                    0   \n",
       "1                          0                                    1   \n",
       "2                          0                                    0   \n",
       "3                          0                                    0   \n",
       "4                          0                                    0   \n",
       "\n",
       "   alchemy_category_sports  alchemy_category_unknown  alchemy_category_weather  \n",
       "0                        1                         0                         0  \n",
       "1                        0                         0                         0  \n",
       "2                        0                         0                         0  \n",
       "3                        0                         0                         0  \n",
       "4                        0                         0                         0  \n",
       "\n",
       "[5 rows x 40 columns]"
      ]
     },
     "execution_count": 41,
     "metadata": {},
     "output_type": "execute_result"
    }
   ],
   "source": [
    "#one-hot encoding for categorical data \n",
    "column_names_to_one_hot = [\"alchemy_category\"]\n",
    "train_df = pd.get_dummies(train_df, columns=column_names_to_one_hot)\n",
    "train_df.head()"
   ]
  },
  {
   "cell_type": "markdown",
   "id": "158efd57",
   "metadata": {},
   "source": [
    "# 2.3 Outlier removal"
   ]
  },
  {
   "cell_type": "code",
   "execution_count": 42,
   "id": "35a4c657",
   "metadata": {},
   "outputs": [],
   "source": [
    "#here we are using IQR for outlier removal as there are many outliers\n",
    "#function to plot outliers\n",
    "def outlierPlot(p):\n",
    "    sns.boxplot(x=p)\n",
    "    plt.figure(figsize=(16,5))\n",
    "    plt.subplot(1,2,1)\n",
    "    sns.distplot(p)\n",
    "\n",
    "#function for getting upper and lower limit\n",
    "def upperLower(dfcolumnName):\n",
    "    percentile25 = dfcolumnName.quantile(0.25)\n",
    "    percentile75 = dfcolumnName.quantile(0.75)\n",
    "    iqr = percentile75 - percentile25\n",
    "    upper_limit = percentile75 + 1.5 * iqr\n",
    "    lower_limit = percentile25 - 1.5 * iqr\n",
    "    return upper_limit,lower_limit\n",
    "\n",
    "#functopn for caaping i.e removing outlieers\n",
    "def capping(df,upper_limit,lower_limit,column_name):\n",
    "    new_df_cap = df.copy()\n",
    "    new_df_cap[column_name] = np.where(\n",
    "    new_df_cap[column_name] > upper_limit,\n",
    "    upper_limit,\n",
    "    np.where(\n",
    "        new_df_cap[column_name] < lower_limit,\n",
    "        lower_limit,\n",
    "        new_df_cap[column_name]\n",
    "        )\n",
    "    )\n",
    "    return new_df_cap[column_name]"
   ]
  },
  {
   "cell_type": "code",
   "execution_count": 43,
   "id": "46bdb93b",
   "metadata": {},
   "outputs": [
    {
     "data": {
      "text/plain": [
       "array([0.300004  , 0.625228  , 0.60333432, ..., 0.502369  , 0.371516  ,\n",
       "       0.56931   ])"
      ]
     },
     "execution_count": 43,
     "metadata": {},
     "output_type": "execute_result"
    }
   ],
   "source": [
    "train_df['alchemy_category_score'].unique()"
   ]
  },
  {
   "cell_type": "code",
   "execution_count": 44,
   "id": "49c30ba5",
   "metadata": {},
   "outputs": [
    {
     "name": "stderr",
     "output_type": "stream",
     "text": [
      "C:\\Users\\Vishwa\\anaconda3\\lib\\site-packages\\seaborn\\distributions.py:2557: FutureWarning: `distplot` is a deprecated function and will be removed in a future version. Please adapt your code to use either `displot` (a figure-level function with similar flexibility) or `histplot` (an axes-level function for histograms).\n",
      "  warnings.warn(msg, FutureWarning)\n"
     ]
    },
    {
     "data": {
      "image/png": "[encoded data removed]",
      "text/plain": [
       "<Figure size 432x288 with 1 Axes>"
      ]
     },
     "metadata": {},
     "output_type": "display_data"
    },
    {
     "data": {
      "image/png": "[encoded data removed]",
      "text/plain": [
       "<Figure size 1152x360 with 1 Axes>"
      ]
     },
     "metadata": {},
     "output_type": "display_data"
    }
   ],
   "source": [
    "outlierPlot(train_df['alchemy_category_score'])"
   ]
  },
  {
   "cell_type": "code",
   "execution_count": 45,
   "id": "e878787b",
   "metadata": {},
   "outputs": [
    {
     "name": "stderr",
     "output_type": "stream",
     "text": [
      "C:\\Users\\Vishwa\\anaconda3\\lib\\site-packages\\seaborn\\distributions.py:2557: FutureWarning: `distplot` is a deprecated function and will be removed in a future version. Please adapt your code to use either `displot` (a figure-level function with similar flexibility) or `histplot` (an axes-level function for histograms).\n",
      "  warnings.warn(msg, FutureWarning)\n"
     ]
    },
    {
     "data": {
      "image/png": "[encoded data removed]",
      "text/plain": [
       "<Figure size 432x288 with 1 Axes>"
      ]
     },
     "metadata": {},
     "output_type": "display_data"
    },
    {
     "data": {
      "image/png": "[encoded data removed]",
      "text/plain": [
       "<Figure size 1152x360 with 1 Axes>"
      ]
     },
     "metadata": {},
     "output_type": "display_data"
    }
   ],
   "source": [
    "upper_limit,lower_limit = upperLower(train_df['alchemy_category_score'])\n",
    "train_df['alchemy_category_score'] = capping(train_df,upper_limit,lower_limit,'alchemy_category_score')\n",
    "outlierPlot(train_df['alchemy_category_score'])"
   ]
  },
  {
   "cell_type": "code",
   "execution_count": 46,
   "id": "8233d762",
   "metadata": {},
   "outputs": [
    {
     "data": {
      "text/plain": [
       "array([2.30769231, 1.7125    , 1.4       , ..., 3.51470588, 1.43087558,\n",
       "       2.44086021])"
      ]
     },
     "execution_count": 46,
     "metadata": {},
     "output_type": "execute_result"
    }
   ],
   "source": [
    "train_df['avgLinkWordLength'].unique()"
   ]
  },
  {
   "cell_type": "code",
   "execution_count": 47,
   "id": "4f574c9d",
   "metadata": {},
   "outputs": [
    {
     "name": "stderr",
     "output_type": "stream",
     "text": [
      "C:\\Users\\Vishwa\\anaconda3\\lib\\site-packages\\seaborn\\distributions.py:2557: FutureWarning: `distplot` is a deprecated function and will be removed in a future version. Please adapt your code to use either `displot` (a figure-level function with similar flexibility) or `histplot` (an axes-level function for histograms).\n",
      "  warnings.warn(msg, FutureWarning)\n"
     ]
    },
    {
     "data": {
      "image/png": "[encoded data removed]",
      "text/plain": [
       "<Figure size 432x288 with 1 Axes>"
      ]
     },
     "metadata": {},
     "output_type": "display_data"
    },
    {
     "data": {
      "image/png": "[encoded data removed]",
      "text/plain": [
       "<Figure size 1152x360 with 1 Axes>"
      ]
     },
     "metadata": {},
     "output_type": "display_data"
    }
   ],
   "source": [
    "outlierPlot(train_df['avgLinkWordLength'])"
   ]
  },
  {
   "cell_type": "code",
   "execution_count": 48,
   "id": "3a816859",
   "metadata": {},
   "outputs": [
    {
     "name": "stderr",
     "output_type": "stream",
     "text": [
      "C:\\Users\\Vishwa\\anaconda3\\lib\\site-packages\\seaborn\\distributions.py:2557: FutureWarning: `distplot` is a deprecated function and will be removed in a future version. Please adapt your code to use either `displot` (a figure-level function with similar flexibility) or `histplot` (an axes-level function for histograms).\n",
      "  warnings.warn(msg, FutureWarning)\n"
     ]
    },
    {
     "data": {
      "image/png": "[encoded data removed]",
      "text/plain": [
       "<Figure size 432x288 with 1 Axes>"
      ]
     },
     "metadata": {},
     "output_type": "display_data"
    },
    {
     "data": {
      "image/png": "[encoded data removed]",
      "text/plain": [
       "<Figure size 1152x360 with 1 Axes>"
      ]
     },
     "metadata": {},
     "output_type": "display_data"
    }
   ],
   "source": [
    "upper_limit,lower_limit = upperLower(train_df['avgLinkWordLength'])\n",
    "train_df['avgLinkWordLength'] = capping(train_df,upper_limit,lower_limit,'avgLinkWordLength')\n",
    "outlierPlot(train_df['avgLinkWordLength'])"
   ]
  },
  {
   "cell_type": "code",
   "execution_count": 49,
   "id": "8a4b2911",
   "metadata": {},
   "outputs": [
    {
     "name": "stderr",
     "output_type": "stream",
     "text": [
      "C:\\Users\\Vishwa\\anaconda3\\lib\\site-packages\\seaborn\\distributions.py:2557: FutureWarning: `distplot` is a deprecated function and will be removed in a future version. Please adapt your code to use either `displot` (a figure-level function with similar flexibility) or `histplot` (an axes-level function for histograms).\n",
      "  warnings.warn(msg, FutureWarning)\n"
     ]
    },
    {
     "data": {
      "image/png": "[encoded data removed]",
      "text/plain": [
       "<Figure size 432x288 with 1 Axes>"
      ]
     },
     "metadata": {},
     "output_type": "display_data"
    },
    {
     "data": {
      "image/png": "[encoded data removed]",
      "text/plain": [
       "<Figure size 1152x360 with 1 Axes>"
      ]
     },
     "metadata": {},
     "output_type": "display_data"
    }
   ],
   "source": [
    "outlierPlot(train_df['AvglinkWithOneCommonWord'])\n",
    "#no outliers found"
   ]
  },
  {
   "cell_type": "code",
   "execution_count": 50,
   "id": "50a73227",
   "metadata": {},
   "outputs": [
    {
     "name": "stderr",
     "output_type": "stream",
     "text": [
      "C:\\Users\\Vishwa\\anaconda3\\lib\\site-packages\\seaborn\\distributions.py:2557: FutureWarning: `distplot` is a deprecated function and will be removed in a future version. Please adapt your code to use either `displot` (a figure-level function with similar flexibility) or `histplot` (an axes-level function for histograms).\n",
      "  warnings.warn(msg, FutureWarning)\n"
     ]
    },
    {
     "data": {
      "image/png": "[encoded data removed]",
      "text/plain": [
       "<Figure size 432x288 with 1 Axes>"
      ]
     },
     "metadata": {},
     "output_type": "display_data"
    },
    {
     "data": {
      "image/png": "[encoded data removed]",
      "text/plain": [
       "<Figure size 1152x360 with 1 Axes>"
      ]
     },
     "metadata": {},
     "output_type": "display_data"
    }
   ],
   "source": [
    "outlierPlot(train_df['AvglinkWithTwoCommonWord'])"
   ]
  },
  {
   "cell_type": "code",
   "execution_count": 51,
   "id": "34f1db8e",
   "metadata": {},
   "outputs": [
    {
     "name": "stderr",
     "output_type": "stream",
     "text": [
      "C:\\Users\\Vishwa\\anaconda3\\lib\\site-packages\\seaborn\\distributions.py:2557: FutureWarning: `distplot` is a deprecated function and will be removed in a future version. Please adapt your code to use either `displot` (a figure-level function with similar flexibility) or `histplot` (an axes-level function for histograms).\n",
      "  warnings.warn(msg, FutureWarning)\n"
     ]
    },
    {
     "data": {
      "image/png": "[encoded data removed]",
      "text/plain": [
       "<Figure size 432x288 with 1 Axes>"
      ]
     },
     "metadata": {},
     "output_type": "display_data"
    },
    {
     "data": {
      "image/png": "[encoded data removed]",
      "text/plain": [
       "<Figure size 1152x360 with 1 Axes>"
      ]
     },
     "metadata": {},
     "output_type": "display_data"
    }
   ],
   "source": [
    "\n",
    "upper_limit,lower_limit = upperLower(train_df['AvglinkWithTwoCommonWord'])\n",
    "train_df['AvglinkWithTwoCommonWord'] = capping(train_df,upper_limit,lower_limit,'AvglinkWithTwoCommonWord')\n",
    "outlierPlot(train_df['AvglinkWithTwoCommonWord'])"
   ]
  },
  {
   "cell_type": "code",
   "execution_count": 52,
   "id": "9e8f74af",
   "metadata": {},
   "outputs": [
    {
     "name": "stderr",
     "output_type": "stream",
     "text": [
      "C:\\Users\\Vishwa\\anaconda3\\lib\\site-packages\\seaborn\\distributions.py:2557: FutureWarning: `distplot` is a deprecated function and will be removed in a future version. Please adapt your code to use either `displot` (a figure-level function with similar flexibility) or `histplot` (an axes-level function for histograms).\n",
      "  warnings.warn(msg, FutureWarning)\n"
     ]
    },
    {
     "data": {
      "image/png": "[encoded data removed]",
      "text/plain": [
       "<Figure size 432x288 with 1 Axes>"
      ]
     },
     "metadata": {},
     "output_type": "display_data"
    },
    {
     "data": {
      "image/png": "[encoded data removed]",
      "text/plain": [
       "<Figure size 1152x360 with 1 Axes>"
      ]
     },
     "metadata": {},
     "output_type": "display_data"
    }
   ],
   "source": [
    "outlierPlot(train_df['AvglinkWithThreeCommonWord'])"
   ]
  },
  {
   "cell_type": "code",
   "execution_count": 53,
   "id": "7fe54827",
   "metadata": {},
   "outputs": [
    {
     "name": "stderr",
     "output_type": "stream",
     "text": [
      "C:\\Users\\Vishwa\\anaconda3\\lib\\site-packages\\seaborn\\distributions.py:2557: FutureWarning: `distplot` is a deprecated function and will be removed in a future version. Please adapt your code to use either `displot` (a figure-level function with similar flexibility) or `histplot` (an axes-level function for histograms).\n",
      "  warnings.warn(msg, FutureWarning)\n"
     ]
    },
    {
     "data": {
      "image/png": "[encoded data removed]",
      "text/plain": [
       "<Figure size 432x288 with 1 Axes>"
      ]
     },
     "metadata": {},
     "output_type": "display_data"
    },
    {
     "data": {
      "image/png": "[encoded data removed]",
      "text/plain": [
       "<Figure size 1152x360 with 1 Axes>"
      ]
     },
     "metadata": {},
     "output_type": "display_data"
    }
   ],
   "source": [
    "\n",
    "upper_limit,lower_limit = upperLower(train_df['AvglinkWithThreeCommonWord'])\n",
    "train_df['AvglinkWithThreeCommonWord'] = capping(train_df,upper_limit,lower_limit,'AvglinkWithThreeCommonWord')\n",
    "outlierPlot(train_df['AvglinkWithThreeCommonWord'])"
   ]
  },
  {
   "cell_type": "code",
   "execution_count": 54,
   "id": "0b34c950",
   "metadata": {},
   "outputs": [
    {
     "name": "stderr",
     "output_type": "stream",
     "text": [
      "C:\\Users\\Vishwa\\anaconda3\\lib\\site-packages\\seaborn\\distributions.py:2557: FutureWarning: `distplot` is a deprecated function and will be removed in a future version. Please adapt your code to use either `displot` (a figure-level function with similar flexibility) or `histplot` (an axes-level function for histograms).\n",
      "  warnings.warn(msg, FutureWarning)\n"
     ]
    },
    {
     "data": {
      "image/png": "[encoded data removed]",
      "text/plain": [
       "<Figure size 432x288 with 1 Axes>"
      ]
     },
     "metadata": {},
     "output_type": "display_data"
    },
    {
     "data": {
      "image/png": "[encoded data removed]",
      "text/plain": [
       "<Figure size 1152x360 with 1 Axes>"
      ]
     },
     "metadata": {},
     "output_type": "display_data"
    }
   ],
   "source": [
    "outlierPlot(train_df['AvglinkWithFourCommonWord'])"
   ]
  },
  {
   "cell_type": "code",
   "execution_count": 55,
   "id": "49b1c85f",
   "metadata": {},
   "outputs": [
    {
     "name": "stderr",
     "output_type": "stream",
     "text": [
      "C:\\Users\\Vishwa\\anaconda3\\lib\\site-packages\\seaborn\\distributions.py:2557: FutureWarning: `distplot` is a deprecated function and will be removed in a future version. Please adapt your code to use either `displot` (a figure-level function with similar flexibility) or `histplot` (an axes-level function for histograms).\n",
      "  warnings.warn(msg, FutureWarning)\n"
     ]
    },
    {
     "data": {
      "image/png": "[encoded data removed]",
      "text/plain": [
       "<Figure size 432x288 with 1 Axes>"
      ]
     },
     "metadata": {},
     "output_type": "display_data"
    },
    {
     "data": {
      "image/png": "[encoded data removed]",
      "text/plain": [
       "<Figure size 1152x360 with 1 Axes>"
      ]
     },
     "metadata": {},
     "output_type": "display_data"
    }
   ],
   "source": [
    "upper_limit,lower_limit = upperLower(train_df['AvglinkWithFourCommonWord'])\n",
    "train_df['AvglinkWithFourCommonWord'] = capping(train_df,upper_limit,lower_limit,'AvglinkWithFourCommonWord')\n",
    "outlierPlot(train_df['AvglinkWithFourCommonWord'])"
   ]
  },
  {
   "cell_type": "code",
   "execution_count": null,
   "id": "59b2c959",
   "metadata": {},
   "outputs": [],
   "source": []
  },
  {
   "cell_type": "code",
   "execution_count": 56,
   "id": "3b69c7b8",
   "metadata": {},
   "outputs": [
    {
     "name": "stderr",
     "output_type": "stream",
     "text": [
      "C:\\Users\\Vishwa\\anaconda3\\lib\\site-packages\\seaborn\\distributions.py:2557: FutureWarning: `distplot` is a deprecated function and will be removed in a future version. Please adapt your code to use either `displot` (a figure-level function with similar flexibility) or `histplot` (an axes-level function for histograms).\n",
      "  warnings.warn(msg, FutureWarning)\n"
     ]
    },
    {
     "data": {
      "image/png": "[encoded data removed]",
      "text/plain": [
       "<Figure size 432x288 with 1 Axes>"
      ]
     },
     "metadata": {},
     "output_type": "display_data"
    },
    {
     "data": {
      "image/png": "[encoded data removed]",
      "text/plain": [
       "<Figure size 1152x360 with 1 Axes>"
      ]
     },
     "metadata": {},
     "output_type": "display_data"
    }
   ],
   "source": [
    "outlierPlot(train_df['redundancyMeasure'])"
   ]
  },
  {
   "cell_type": "code",
   "execution_count": 57,
   "id": "47c89762",
   "metadata": {},
   "outputs": [
    {
     "name": "stderr",
     "output_type": "stream",
     "text": [
      "C:\\Users\\Vishwa\\anaconda3\\lib\\site-packages\\seaborn\\distributions.py:2557: FutureWarning: `distplot` is a deprecated function and will be removed in a future version. Please adapt your code to use either `displot` (a figure-level function with similar flexibility) or `histplot` (an axes-level function for histograms).\n",
      "  warnings.warn(msg, FutureWarning)\n"
     ]
    },
    {
     "data": {
      "image/png": "[encoded data removed]",
      "text/plain": [
       "<Figure size 432x288 with 1 Axes>"
      ]
     },
     "metadata": {},
     "output_type": "display_data"
    },
    {
     "data": {
      "image/png": "[encoded data removed]",
      "text/plain": [
       "<Figure size 1152x360 with 1 Axes>"
      ]
     },
     "metadata": {},
     "output_type": "display_data"
    }
   ],
   "source": [
    "upper_limit,lower_limit = upperLower(train_df['redundancyMeasure'])\n",
    "train_df['redundancyMeasure'] = capping(train_df,upper_limit,lower_limit,'redundancyMeasure')\n",
    "outlierPlot(train_df['redundancyMeasure'])"
   ]
  },
  {
   "cell_type": "code",
   "execution_count": null,
   "id": "41cfdeff",
   "metadata": {},
   "outputs": [],
   "source": []
  },
  {
   "cell_type": "code",
   "execution_count": 58,
   "id": "fe6415c7",
   "metadata": {},
   "outputs": [
    {
     "name": "stderr",
     "output_type": "stream",
     "text": [
      "C:\\Users\\Vishwa\\anaconda3\\lib\\site-packages\\seaborn\\distributions.py:2557: FutureWarning: `distplot` is a deprecated function and will be removed in a future version. Please adapt your code to use either `displot` (a figure-level function with similar flexibility) or `histplot` (an axes-level function for histograms).\n",
      "  warnings.warn(msg, FutureWarning)\n"
     ]
    },
    {
     "data": {
      "image/png": "[encoded data removed]",
      "text/plain": [
       "<Figure size 432x288 with 1 Axes>"
      ]
     },
     "metadata": {},
     "output_type": "display_data"
    },
    {
     "data": {
      "image/png": "[encoded data removed]",
      "text/plain": [
       "<Figure size 1152x360 with 1 Axes>"
      ]
     },
     "metadata": {},
     "output_type": "display_data"
    }
   ],
   "source": [
    "outlierPlot(train_df['embedRatio'])\n",
    "#train_df['embedRatio'].unique()"
   ]
  },
  {
   "cell_type": "code",
   "execution_count": null,
   "id": "89fdb183",
   "metadata": {},
   "outputs": [],
   "source": []
  },
  {
   "cell_type": "markdown",
   "id": "5734adc1",
   "metadata": {},
   "source": [
    "## 2.4 dropping column with all 0 values"
   ]
  },
  {
   "cell_type": "code",
   "execution_count": 59,
   "id": "e7aefe78",
   "metadata": {},
   "outputs": [
    {
     "data": {
      "text/plain": [
       "array([0], dtype=int64)"
      ]
     },
     "execution_count": 59,
     "metadata": {},
     "output_type": "execute_result"
    }
   ],
   "source": [
    "train_df['framebased'].unique()"
   ]
  },
  {
   "cell_type": "code",
   "execution_count": 60,
   "id": "acdd9624",
   "metadata": {},
   "outputs": [],
   "source": [
    "train_df.drop(axis=\"columns\", labels=\"framebased\", inplace=True)"
   ]
  },
  {
   "cell_type": "code",
   "execution_count": 61,
   "id": "1becc2b4",
   "metadata": {},
   "outputs": [
    {
     "data": {
      "text/plain": [
       "(7395, 39)"
      ]
     },
     "execution_count": 61,
     "metadata": {},
     "output_type": "execute_result"
    }
   ],
   "source": [
    "train_df.shape"
   ]
  },
  {
   "cell_type": "markdown",
   "id": "1a7f13c6",
   "metadata": {},
   "source": [
    "# 3.NLP Preprocessing"
   ]
  },
  {
   "cell_type": "code",
   "execution_count": 62,
   "id": "c15aca2e",
   "metadata": {},
   "outputs": [],
   "source": [
    "m = train_df['url'].str.extract('(?<=http://)(.*?)(?=/)|(?<=https://)(.*?)(?=/)')\n",
    "m = m[0].fillna(m[1]).fillna(train_df['url'])\n",
    "train_df['url'] = m"
   ]
  },
  {
   "cell_type": "code",
   "execution_count": 63,
   "id": "302c878c",
   "metadata": {},
   "outputs": [
    {
     "data": {
      "text/html": [
       "<div>\n",
       "<style scoped>\n",
       "    .dataframe tbody tr th:only-of-type {\n",
       "        vertical-align: middle;\n",
       "    }\n",
       "\n",
       "    .dataframe tbody tr th {\n",
       "        vertical-align: top;\n",
       "    }\n",
       "\n",
       "    .dataframe thead th {\n",
       "        text-align: right;\n",
       "    }\n",
       "</style>\n",
       "<table border=\"1\" class=\"dataframe\">\n",
       "  <thead>\n",
       "    <tr style=\"text-align: right;\">\n",
       "      <th></th>\n",
       "      <th>url</th>\n",
       "      <th>webpageDescription</th>\n",
       "      <th>alchemy_category_score</th>\n",
       "      <th>avgLinkWordLength</th>\n",
       "      <th>AvglinkWithOneCommonWord</th>\n",
       "      <th>AvglinkWithTwoCommonWord</th>\n",
       "      <th>AvglinkWithThreeCommonWord</th>\n",
       "      <th>AvglinkWithFourCommonWord</th>\n",
       "      <th>redundancyMeasure</th>\n",
       "      <th>embedRatio</th>\n",
       "      <th>...</th>\n",
       "      <th>alchemy_category_culture_politics</th>\n",
       "      <th>alchemy_category_gaming</th>\n",
       "      <th>alchemy_category_health</th>\n",
       "      <th>alchemy_category_law_crime</th>\n",
       "      <th>alchemy_category_recreation</th>\n",
       "      <th>alchemy_category_religion</th>\n",
       "      <th>alchemy_category_science_technology</th>\n",
       "      <th>alchemy_category_sports</th>\n",
       "      <th>alchemy_category_unknown</th>\n",
       "      <th>alchemy_category_weather</th>\n",
       "    </tr>\n",
       "  </thead>\n",
       "  <tbody>\n",
       "    <tr>\n",
       "      <th>0</th>\n",
       "      <td>www.ocweekly.com</td>\n",
       "      <td>{\"url\":\"ocweekly 2013 04 11 news deported mexi...</td>\n",
       "      <td>0.300004</td>\n",
       "      <td>2.307692</td>\n",
       "      <td>0.424749</td>\n",
       "      <td>0.190635</td>\n",
       "      <td>0.036789</td>\n",
       "      <td>0.020067</td>\n",
       "      <td>0.439444</td>\n",
       "      <td>0.0</td>\n",
       "      <td>...</td>\n",
       "      <td>0</td>\n",
       "      <td>0</td>\n",
       "      <td>0</td>\n",
       "      <td>0</td>\n",
       "      <td>0</td>\n",
       "      <td>0</td>\n",
       "      <td>0</td>\n",
       "      <td>1</td>\n",
       "      <td>0</td>\n",
       "      <td>0</td>\n",
       "    </tr>\n",
       "    <tr>\n",
       "      <th>1</th>\n",
       "      <td>www.youbeauty.com</td>\n",
       "      <td>{\"title\":\"10 Exotic Fruits Vegetables 10 exoti...</td>\n",
       "      <td>0.625228</td>\n",
       "      <td>1.712500</td>\n",
       "      <td>0.492063</td>\n",
       "      <td>0.301587</td>\n",
       "      <td>0.005291</td>\n",
       "      <td>0.000000</td>\n",
       "      <td>0.488178</td>\n",
       "      <td>0.0</td>\n",
       "      <td>...</td>\n",
       "      <td>0</td>\n",
       "      <td>0</td>\n",
       "      <td>0</td>\n",
       "      <td>0</td>\n",
       "      <td>0</td>\n",
       "      <td>0</td>\n",
       "      <td>1</td>\n",
       "      <td>0</td>\n",
       "      <td>0</td>\n",
       "      <td>0</td>\n",
       "    </tr>\n",
       "    <tr>\n",
       "      <th>2</th>\n",
       "      <td>www.you-made-that.com</td>\n",
       "      <td>{\"title\":\"Skinny German Chocolate Cookies \",\"b...</td>\n",
       "      <td>0.603334</td>\n",
       "      <td>1.400000</td>\n",
       "      <td>0.207547</td>\n",
       "      <td>0.018868</td>\n",
       "      <td>0.000000</td>\n",
       "      <td>0.000000</td>\n",
       "      <td>0.513166</td>\n",
       "      <td>0.0</td>\n",
       "      <td>...</td>\n",
       "      <td>0</td>\n",
       "      <td>0</td>\n",
       "      <td>0</td>\n",
       "      <td>0</td>\n",
       "      <td>0</td>\n",
       "      <td>0</td>\n",
       "      <td>0</td>\n",
       "      <td>0</td>\n",
       "      <td>0</td>\n",
       "      <td>0</td>\n",
       "    </tr>\n",
       "    <tr>\n",
       "      <th>3</th>\n",
       "      <td>drpullen.com</td>\n",
       "      <td>{\"title\":\"Carpe Diem DrPullen com Medical and ...</td>\n",
       "      <td>0.603334</td>\n",
       "      <td>1.600000</td>\n",
       "      <td>0.303030</td>\n",
       "      <td>0.000000</td>\n",
       "      <td>0.000000</td>\n",
       "      <td>0.000000</td>\n",
       "      <td>0.461538</td>\n",
       "      <td>0.0</td>\n",
       "      <td>...</td>\n",
       "      <td>0</td>\n",
       "      <td>0</td>\n",
       "      <td>0</td>\n",
       "      <td>0</td>\n",
       "      <td>0</td>\n",
       "      <td>0</td>\n",
       "      <td>0</td>\n",
       "      <td>0</td>\n",
       "      <td>0</td>\n",
       "      <td>0</td>\n",
       "    </tr>\n",
       "    <tr>\n",
       "      <th>4</th>\n",
       "      <td>bradcolbow.com</td>\n",
       "      <td>{\"title\":\"Brad Colbow Independent Web Designer...</td>\n",
       "      <td>0.850000</td>\n",
       "      <td>3.967213</td>\n",
       "      <td>0.596330</td>\n",
       "      <td>0.449541</td>\n",
       "      <td>0.300000</td>\n",
       "      <td>0.162662</td>\n",
       "      <td>0.505411</td>\n",
       "      <td>0.0</td>\n",
       "      <td>...</td>\n",
       "      <td>0</td>\n",
       "      <td>0</td>\n",
       "      <td>0</td>\n",
       "      <td>0</td>\n",
       "      <td>0</td>\n",
       "      <td>0</td>\n",
       "      <td>0</td>\n",
       "      <td>0</td>\n",
       "      <td>0</td>\n",
       "      <td>0</td>\n",
       "    </tr>\n",
       "  </tbody>\n",
       "</table>\n",
       "<p>5 rows × 39 columns</p>\n",
       "</div>"
      ],
      "text/plain": [
       "                     url                                 webpageDescription  \\\n",
       "0       www.ocweekly.com  {\"url\":\"ocweekly 2013 04 11 news deported mexi...   \n",
       "1      www.youbeauty.com  {\"title\":\"10 Exotic Fruits Vegetables 10 exoti...   \n",
       "2  www.you-made-that.com  {\"title\":\"Skinny German Chocolate Cookies \",\"b...   \n",
       "3           drpullen.com  {\"title\":\"Carpe Diem DrPullen com Medical and ...   \n",
       "4         bradcolbow.com  {\"title\":\"Brad Colbow Independent Web Designer...   \n",
       "\n",
       "   alchemy_category_score  avgLinkWordLength  AvglinkWithOneCommonWord  \\\n",
       "0                0.300004           2.307692                  0.424749   \n",
       "1                0.625228           1.712500                  0.492063   \n",
       "2                0.603334           1.400000                  0.207547   \n",
       "3                0.603334           1.600000                  0.303030   \n",
       "4                0.850000           3.967213                  0.596330   \n",
       "\n",
       "   AvglinkWithTwoCommonWord  AvglinkWithThreeCommonWord  \\\n",
       "0                  0.190635                    0.036789   \n",
       "1                  0.301587                    0.005291   \n",
       "2                  0.018868                    0.000000   \n",
       "3                  0.000000                    0.000000   \n",
       "4                  0.449541                    0.300000   \n",
       "\n",
       "   AvglinkWithFourCommonWord  redundancyMeasure  embedRatio  ...  \\\n",
       "0                   0.020067           0.439444         0.0  ...   \n",
       "1                   0.000000           0.488178         0.0  ...   \n",
       "2                   0.000000           0.513166         0.0  ...   \n",
       "3                   0.000000           0.461538         0.0  ...   \n",
       "4                   0.162662           0.505411         0.0  ...   \n",
       "\n",
       "   alchemy_category_culture_politics  alchemy_category_gaming  \\\n",
       "0                                  0                        0   \n",
       "1                                  0                        0   \n",
       "2                                  0                        0   \n",
       "3                                  0                        0   \n",
       "4                                  0                        0   \n",
       "\n",
       "   alchemy_category_health  alchemy_category_law_crime  \\\n",
       "0                        0                           0   \n",
       "1                        0                           0   \n",
       "2                        0                           0   \n",
       "3                        0                           0   \n",
       "4                        0                           0   \n",
       "\n",
       "   alchemy_category_recreation  alchemy_category_religion  \\\n",
       "0                            0                          0   \n",
       "1                            0                          0   \n",
       "2                            0                          0   \n",
       "3                            0                          0   \n",
       "4                            0                          0   \n",
       "\n",
       "   alchemy_category_science_technology  alchemy_category_sports  \\\n",
       "0                                    0                        1   \n",
       "1                                    1                        0   \n",
       "2                                    0                        0   \n",
       "3                                    0                        0   \n",
       "4                                    0                        0   \n",
       "\n",
       "   alchemy_category_unknown  alchemy_category_weather  \n",
       "0                         0                         0  \n",
       "1                         0                         0  \n",
       "2                         0                         0  \n",
       "3                         0                         0  \n",
       "4                         0                         0  \n",
       "\n",
       "[5 rows x 39 columns]"
      ]
     },
     "execution_count": 63,
     "metadata": {},
     "output_type": "execute_result"
    }
   ],
   "source": [
    "train_df.head()"
   ]
  },
  {
   "cell_type": "code",
   "execution_count": 64,
   "id": "79afbd7a",
   "metadata": {},
   "outputs": [
    {
     "name": "stdout",
     "output_type": "stream",
     "text": [
      "0       {\"url\":\"ocweekly 2013 04 11 news deported mexi...\n",
      "1       {\"title\":\"10 Exotic Fruits Vegetables 10 exoti...\n",
      "2       {\"title\":\"Skinny German Chocolate Cookies \",\"b...\n",
      "3       {\"title\":\"Carpe Diem DrPullen com Medical and ...\n",
      "4       {\"title\":\"Brad Colbow Independent Web Designer...\n",
      "                              ...                        \n",
      "5911    {\"title\":\"Diamonds Are A Girl s Best Hair Remo...\n",
      "5912    {\"title\":\"Man arrested for wearing POLICE t sh...\n",
      "5913    {\"title\":\"Cake Batter Truffles The Girl Who At...\n",
      "5914    {\"title\":\"Avocado Recipes California Avocado C...\n",
      "5915    {\"title\":\"Driving while inTEXTicated My Though...\n",
      "Name: webpageDescription, Length: 7395, dtype: object\n"
     ]
    }
   ],
   "source": [
    "print(train_df['webpageDescription'])"
   ]
  },
  {
   "cell_type": "code",
   "execution_count": 65,
   "id": "a77162af",
   "metadata": {},
   "outputs": [],
   "source": [
    "train_df['webpageDescription'].replace(to_replace=r'\"title\":', value=\"\",inplace=True,regex=True)\n",
    "train_df['webpageDescription'].replace(to_replace=r'\"url\":',value=\"\",inplace=True,regex=True)\n",
    "train_df['webpageDescription'].replace(to_replace=r'\"body\":',value=\"\",inplace=True,regex=True)\n",
    "train_df['webpageDescription'].replace(to_replace=r'{|}',value=\"\",inplace=True,regex=True)"
   ]
  },
  {
   "cell_type": "code",
   "execution_count": 66,
   "id": "1b530439",
   "metadata": {},
   "outputs": [
    {
     "data": {
      "text/html": [
       "<div>\n",
       "<style scoped>\n",
       "    .dataframe tbody tr th:only-of-type {\n",
       "        vertical-align: middle;\n",
       "    }\n",
       "\n",
       "    .dataframe tbody tr th {\n",
       "        vertical-align: top;\n",
       "    }\n",
       "\n",
       "    .dataframe thead th {\n",
       "        text-align: right;\n",
       "    }\n",
       "</style>\n",
       "<table border=\"1\" class=\"dataframe\">\n",
       "  <thead>\n",
       "    <tr style=\"text-align: right;\">\n",
       "      <th></th>\n",
       "      <th>url</th>\n",
       "      <th>webpageDescription</th>\n",
       "      <th>alchemy_category_score</th>\n",
       "      <th>avgLinkWordLength</th>\n",
       "      <th>AvglinkWithOneCommonWord</th>\n",
       "      <th>AvglinkWithTwoCommonWord</th>\n",
       "      <th>AvglinkWithThreeCommonWord</th>\n",
       "      <th>AvglinkWithFourCommonWord</th>\n",
       "      <th>redundancyMeasure</th>\n",
       "      <th>embedRatio</th>\n",
       "      <th>...</th>\n",
       "      <th>alchemy_category_culture_politics</th>\n",
       "      <th>alchemy_category_gaming</th>\n",
       "      <th>alchemy_category_health</th>\n",
       "      <th>alchemy_category_law_crime</th>\n",
       "      <th>alchemy_category_recreation</th>\n",
       "      <th>alchemy_category_religion</th>\n",
       "      <th>alchemy_category_science_technology</th>\n",
       "      <th>alchemy_category_sports</th>\n",
       "      <th>alchemy_category_unknown</th>\n",
       "      <th>alchemy_category_weather</th>\n",
       "    </tr>\n",
       "  </thead>\n",
       "  <tbody>\n",
       "    <tr>\n",
       "      <th>0</th>\n",
       "      <td>www.ocweekly.com</td>\n",
       "      <td>\"ocweekly 2013 04 11 news deported mexicans ba...</td>\n",
       "      <td>0.300004</td>\n",
       "      <td>2.307692</td>\n",
       "      <td>0.424749</td>\n",
       "      <td>0.190635</td>\n",
       "      <td>0.036789</td>\n",
       "      <td>0.020067</td>\n",
       "      <td>0.439444</td>\n",
       "      <td>0.0</td>\n",
       "      <td>...</td>\n",
       "      <td>0</td>\n",
       "      <td>0</td>\n",
       "      <td>0</td>\n",
       "      <td>0</td>\n",
       "      <td>0</td>\n",
       "      <td>0</td>\n",
       "      <td>0</td>\n",
       "      <td>1</td>\n",
       "      <td>0</td>\n",
       "      <td>0</td>\n",
       "    </tr>\n",
       "    <tr>\n",
       "      <th>1</th>\n",
       "      <td>www.youbeauty.com</td>\n",
       "      <td>\"10 Exotic Fruits Vegetables 10 exotic fruits ...</td>\n",
       "      <td>0.625228</td>\n",
       "      <td>1.712500</td>\n",
       "      <td>0.492063</td>\n",
       "      <td>0.301587</td>\n",
       "      <td>0.005291</td>\n",
       "      <td>0.000000</td>\n",
       "      <td>0.488178</td>\n",
       "      <td>0.0</td>\n",
       "      <td>...</td>\n",
       "      <td>0</td>\n",
       "      <td>0</td>\n",
       "      <td>0</td>\n",
       "      <td>0</td>\n",
       "      <td>0</td>\n",
       "      <td>0</td>\n",
       "      <td>1</td>\n",
       "      <td>0</td>\n",
       "      <td>0</td>\n",
       "      <td>0</td>\n",
       "    </tr>\n",
       "    <tr>\n",
       "      <th>2</th>\n",
       "      <td>www.you-made-that.com</td>\n",
       "      <td>\"Skinny German Chocolate Cookies \",\"These litt...</td>\n",
       "      <td>0.603334</td>\n",
       "      <td>1.400000</td>\n",
       "      <td>0.207547</td>\n",
       "      <td>0.018868</td>\n",
       "      <td>0.000000</td>\n",
       "      <td>0.000000</td>\n",
       "      <td>0.513166</td>\n",
       "      <td>0.0</td>\n",
       "      <td>...</td>\n",
       "      <td>0</td>\n",
       "      <td>0</td>\n",
       "      <td>0</td>\n",
       "      <td>0</td>\n",
       "      <td>0</td>\n",
       "      <td>0</td>\n",
       "      <td>0</td>\n",
       "      <td>0</td>\n",
       "      <td>0</td>\n",
       "      <td>0</td>\n",
       "    </tr>\n",
       "    <tr>\n",
       "      <th>3</th>\n",
       "      <td>drpullen.com</td>\n",
       "      <td>\"Carpe Diem DrPullen com Medical and Health Bl...</td>\n",
       "      <td>0.603334</td>\n",
       "      <td>1.600000</td>\n",
       "      <td>0.303030</td>\n",
       "      <td>0.000000</td>\n",
       "      <td>0.000000</td>\n",
       "      <td>0.000000</td>\n",
       "      <td>0.461538</td>\n",
       "      <td>0.0</td>\n",
       "      <td>...</td>\n",
       "      <td>0</td>\n",
       "      <td>0</td>\n",
       "      <td>0</td>\n",
       "      <td>0</td>\n",
       "      <td>0</td>\n",
       "      <td>0</td>\n",
       "      <td>0</td>\n",
       "      <td>0</td>\n",
       "      <td>0</td>\n",
       "      <td>0</td>\n",
       "    </tr>\n",
       "    <tr>\n",
       "      <th>4</th>\n",
       "      <td>bradcolbow.com</td>\n",
       "      <td>\"Brad Colbow Independent Web Designer Illustra...</td>\n",
       "      <td>0.850000</td>\n",
       "      <td>3.967213</td>\n",
       "      <td>0.596330</td>\n",
       "      <td>0.449541</td>\n",
       "      <td>0.300000</td>\n",
       "      <td>0.162662</td>\n",
       "      <td>0.505411</td>\n",
       "      <td>0.0</td>\n",
       "      <td>...</td>\n",
       "      <td>0</td>\n",
       "      <td>0</td>\n",
       "      <td>0</td>\n",
       "      <td>0</td>\n",
       "      <td>0</td>\n",
       "      <td>0</td>\n",
       "      <td>0</td>\n",
       "      <td>0</td>\n",
       "      <td>0</td>\n",
       "      <td>0</td>\n",
       "    </tr>\n",
       "  </tbody>\n",
       "</table>\n",
       "<p>5 rows × 39 columns</p>\n",
       "</div>"
      ],
      "text/plain": [
       "                     url                                 webpageDescription  \\\n",
       "0       www.ocweekly.com  \"ocweekly 2013 04 11 news deported mexicans ba...   \n",
       "1      www.youbeauty.com  \"10 Exotic Fruits Vegetables 10 exotic fruits ...   \n",
       "2  www.you-made-that.com  \"Skinny German Chocolate Cookies \",\"These litt...   \n",
       "3           drpullen.com  \"Carpe Diem DrPullen com Medical and Health Bl...   \n",
       "4         bradcolbow.com  \"Brad Colbow Independent Web Designer Illustra...   \n",
       "\n",
       "   alchemy_category_score  avgLinkWordLength  AvglinkWithOneCommonWord  \\\n",
       "0                0.300004           2.307692                  0.424749   \n",
       "1                0.625228           1.712500                  0.492063   \n",
       "2                0.603334           1.400000                  0.207547   \n",
       "3                0.603334           1.600000                  0.303030   \n",
       "4                0.850000           3.967213                  0.596330   \n",
       "\n",
       "   AvglinkWithTwoCommonWord  AvglinkWithThreeCommonWord  \\\n",
       "0                  0.190635                    0.036789   \n",
       "1                  0.301587                    0.005291   \n",
       "2                  0.018868                    0.000000   \n",
       "3                  0.000000                    0.000000   \n",
       "4                  0.449541                    0.300000   \n",
       "\n",
       "   AvglinkWithFourCommonWord  redundancyMeasure  embedRatio  ...  \\\n",
       "0                   0.020067           0.439444         0.0  ...   \n",
       "1                   0.000000           0.488178         0.0  ...   \n",
       "2                   0.000000           0.513166         0.0  ...   \n",
       "3                   0.000000           0.461538         0.0  ...   \n",
       "4                   0.162662           0.505411         0.0  ...   \n",
       "\n",
       "   alchemy_category_culture_politics  alchemy_category_gaming  \\\n",
       "0                                  0                        0   \n",
       "1                                  0                        0   \n",
       "2                                  0                        0   \n",
       "3                                  0                        0   \n",
       "4                                  0                        0   \n",
       "\n",
       "   alchemy_category_health  alchemy_category_law_crime  \\\n",
       "0                        0                           0   \n",
       "1                        0                           0   \n",
       "2                        0                           0   \n",
       "3                        0                           0   \n",
       "4                        0                           0   \n",
       "\n",
       "   alchemy_category_recreation  alchemy_category_religion  \\\n",
       "0                            0                          0   \n",
       "1                            0                          0   \n",
       "2                            0                          0   \n",
       "3                            0                          0   \n",
       "4                            0                          0   \n",
       "\n",
       "   alchemy_category_science_technology  alchemy_category_sports  \\\n",
       "0                                    0                        1   \n",
       "1                                    1                        0   \n",
       "2                                    0                        0   \n",
       "3                                    0                        0   \n",
       "4                                    0                        0   \n",
       "\n",
       "   alchemy_category_unknown  alchemy_category_weather  \n",
       "0                         0                         0  \n",
       "1                         0                         0  \n",
       "2                         0                         0  \n",
       "3                         0                         0  \n",
       "4                         0                         0  \n",
       "\n",
       "[5 rows x 39 columns]"
      ]
     },
     "execution_count": 66,
     "metadata": {},
     "output_type": "execute_result"
    }
   ],
   "source": [
    "train_df.head()"
   ]
  },
  {
   "cell_type": "code",
   "execution_count": 67,
   "id": "b0ae601c",
   "metadata": {},
   "outputs": [],
   "source": [
    "wordnet = WordNetLemmatizer()\n",
    "from nltk.corpus import stopwords\n",
    "def textCleaning(df,column_name):\n",
    "    cleanList = list()\n",
    "    lines = df[column_name].values.tolist()\n",
    "    for text in lines:\n",
    "        text = text.lower()\n",
    "        words = word_tokenize(text)\n",
    "        stop_words = set(stopwords.words(\"english\"))\n",
    "        words = [w for w in words if not w in stop_words]\n",
    "        words = [w for w in words if w.isalpha()]\n",
    "        words = ' '.join(words)\n",
    "        cleanList.append(words)\n",
    "    return cleanList"
   ]
  },
  {
   "cell_type": "code",
   "execution_count": 68,
   "id": "7430087b",
   "metadata": {},
   "outputs": [
    {
     "data": {
      "text/plain": [
       "['ocweekly news deported mexicans bastanchury ranch fullerton orange county lost mexicans bastanchury ranch page news orange county lost mexicans bastanchury ranch decades later long federal authorities deported last students arletta kelly still remembered cactus group women took ranch americanization classes morales cute toddler bottom left related content kelly worked americanization teacher citrus camps orange county tasked schooling mexican immigrants art good citizenship day taught women sew cook american meals like casseroles pies night michigan native recited basic english phrases audiences men could use work bounced across colonias worker colonies north county la habra placentia anaheim fullerton kelly eventually spent time mexicans bastanchury ranch rolling acres constitutes exclusive neighborhoods northwest fullerton sunny hills valencia mesa others parts brea la habra area day winding roads visible horse stables dramatic valleys stretches untouched california landscape feels rustic beautiful foreboding betty schmidt center oral public history coph cal state fullerton interviewed kelly days ranch kelly brought cactus years old maestra fondly recalled bastanchury mexicans created society far removed rest orange county grateful kelly tutorship women frequently invited ramshackle homes dinner bit south border hospitality kelly singled cooking one woman told interviewer one things served frequently fond called nopalitos little tiny shoots cactus schmidt asked unnamed mexican woman buy nopalitos big cactus around bastanchury territory kelly said spring came would come shoots would come mexican woman would cut peel slice cut little bits rest kelly interview transcribed available reading coph archives filled similarly pastoral anecdotes stories riding bicycle another mexican woman pronounced cheese jesus role helping orchard growers fight strikers citrus war schmidt asked fate students ranch kelly sharp memory quickly became spotty well think many went back mexico work scarcer accumulated little bit money knew quite families packed drove back old jalopies back mexico ones happen know kelly said others may gone method know fact mexicans lived bastanchury ranch early subject one largest mass deportations orange county history hundreds late march single men families mexican nationals american citizens thrown onto trains bound mexico carrying clothes backs whatever belongings could lug along almost overnight vibrant community vanished homes former residents demolished memory bulldozed wealthy neighborhoods surviving scraps locked university archives recollections families escaped exile eighty years ago spring officials deported hundreds legal residents whose crime mexican great depression orange county tried forget ever since bastanchury family familiar generations southern california residents scholars alike namesake road unspools hills fullerton brea placentia yorba linda basque clan one orange county first national celebrities dynasty whose patriarch domingo arrived fullerton eventually acquired acres desolate terrain decades house one two anaheim los angeles originally using holdings grazing lands sheep domingo four sons eventually turned ranch agriculture livestock powerhouse acres devoted black eyed peas acres lima beans hundreds acres walnut orchards fields sold percent california tomatoes acres berkshire hog pens canneries two packing houses boxed ranch riches sale rest america oil money came form legal settlement water drawn artesian wells irrigation sold publicly bastanchury water brand existed decades estate sprawling atchison topeka santa fe union pacific railroads built spurs near packing houses easier pick bounty pacific electric railway kept two stations within ranch limits managers cut ranch sections supervisors handle everything properly decades later long federal authorities deported last students arletta kelly still remembered cactus kelly worked americanization teacher citrus camps decades later long federal authorities deported last students arletta kelly still remembered cactus kelly worked americanization teacher citrus camps',\n",
       " 'exotic fruits vegetables exotic fruits vegetables komatsuna dark green leafy vegetable grown mainly japan taiwan korea komatsuna great stir fries chopped salad mixes says robert hadad fresh market specialist cornell high vitamins c packed calcium start anti inflammatory diet blood orange break away traditional citrus grab season oranges instead pack vitamin c citrus one medium orange containing percent daily requirement vitamin c says lindsey toth r also citrus anthocyanin one powerful antioxidants research vitamin c slows aging yardlong asparagus bean beans similar asparagus hence name texture flavor provide quite array nutrition benefits great source vitamin c folate magnesium yardlong beans also good way get protein vitamin iron potassium diet foods lower heart disease risk juneberries juneberry also known saskatoon berry dark colored fruit flavor similar dark cherries raisins hint almond seed little berries contain high levels protein calcium iron antioxidants according cornell university experts diy beauty recipes fridge parsley root german eastern european vegetable slightly stronger flavor regular parsley parsley root flavorful great stews filled potassium says hadad fun fact weather gets colder root taste sweeter eat spices better health celeriac relative celery typically grown france eastern europe large knobby looking root filled fiber vitamins c k well potassium go bad quickly like fruits veggies celeriac keeps well cold storage winter sneak beauty vegetables kohlrabi related cabbage veggie looks like bulb base plant yet might feel like eating fruit flesh sweet almost pear like says hadad kohlrabi full vitamin c well b vitamins minerals healthy versions southern food salsify white inside otherwise bland looking brown veggie starting get popular restaurant industry says hadad salsify used called oyster plant inside part hint oyster gives unique taste quiz eating personality tronchuda kale also known portuguese kale dark leafy green full minerals tronchuda kale traditionally cooked soup made beans sausage pork producers selling farmer markets along sausage explains hadad fatty foods weight loss really exotic fruits vegetables try health vegetables fruits cultural food ethnic vegetables exotic fruits exotic vegetables youbeauty nutrition galleries exotic fruits vegetables',\n",
       " 'skinny german chocolate cookies little cookies pack powerful chocolate punch waiting doctor office looking bhg magazine found recipe looked pretty good course paper scribble onto one annoying cards magazine normally ripe throw away might ask cookie healthy chocolate bad dark chocolate baking powder form actually benefits recipe uses less sugar one egg flax meal adds fiber keeping calories honestly first time love cookie healthy side think give try ingredients cup butter cup brown sugar egg tsp vanilla cup purpose flour cup oats cup flax meal tsp salt tsp baking soda cup cocoa powder un sweetened oz dark chocolate chopped cup coconut cup g chopped walnuts step medium size mixing bowl mix softened butter brown sugar together add egg vanilla mix well step next add remaining ingredients mix well dough thick step bake degrees un greased cookie sheet min yields small cookies approximately calories warning matter healthy cookie eat baking might well call meal tagged cookies german chocolate healthy skinny making cookies skinny side still taste good recipe skinny healthy chocolate cookies blog recipes made skinny german chocolate cookies',\n",
       " 'carpe diem drpullen com medical health blog always loved phrase carpe diem free online dictionary car pe di em interj used admonition seize pleasures moment without concern future latin literally means pluck day seize day always struck carpe diem great phrase keep front center way approach life various twists turns life strike us focus rarely serve us poorly family physician see patients spend much lives wracked anguish anxiety future true day ever today much family physicians try help patients live longer e tomorrows easy lose focus present carpe diem work practice medicine ask patients really make today much better sometimes makes today lot worse surgery patients feel worse immediately surgery surgery medications work immediately health care align idea making every day best sometimes easy clearly condition making current day miserable like appendicitis diverticulitis pneumonia migraine headache etc interventions lead fairly quick resolution symptoms fit carpe diem philosophy middle spectrum things like high blood pressure diabetes treatment needs focused disease control without making day dreaded affair strict rules medication side effects get things like weight loss smoking cessation decide seizing one way think enjoyable things today worry consequences today behavior tomorrow healthier attitude might seize opportunity today improve get healthier eat five day quit smoking today get workout today remember take medicine today keep tomorrow becomes today like things life finding right balance using degree moderation likely best choice us think whole trick intentional today simply let today happen rather make today great day make intentional decisions take purposeful steps make today better would passively let today slip without cherished today make better likely worrying tomorrow putting opportunities laugh love smile make today better pluck opportunities day gobble gorge small things improve make great decisions today today better tomorrows likely better sure follow dredpullen twitter like drpullen com facebook subscribe miss post carpe diem carpe diem carpe diem seize day pluck day medical blog mental health carpe diem pluck day seize day drpullen carpediem',\n",
       " 'brad colbow independent web designer illustrator brads farwellrob july brad colbow correct online editions newspapers inferior print versions leap print internet started many publishers thought would mean huge increase revenue advertisers would pay paper twice print web quickly learned work way especially smaller markets businesses generally go one goes past bought newspaper ad paid eyes everyone reads local news bought print ad reach web readers led many advertisers stop advertising smaller markets internet newspaper hybrid either rare non existant papers great paper around subscribers time high considering recession call pretty darn strong print sales sure give away content lose pretty good number subscribers actually say newspapers want evolve need gotten far go back local coverage print product sucks want free content protects paper importantly advertisers offer paper near original form ipad type readers words advertiser buys ad shown original static form web readers print readers way worry flash popups problems newspapers perfect mission simple cover local news something folks get anywhere else valuable commodity written several breaks soi take time edit sorry work day bradcolbow archive view',\n",
       " 'world bravest uniformed ladies posted admin pm soldiers one wanted paid profession world women soldiers women soldiers around world find really hot enjoy algeria austria bahrain belgium brazil canada chile china colombia czech republic estonia finland french germany greece holland india indonesia iran israel italy japan kenya serbia lithuania mexico nepal new zealand norway pakistan peru poland portugal romania russia serbia spain sweden switzerland turkey united kingdom ukraine usa vietnam may also like stories animals sports cars bikes tech tv movies political worldsbiggests worlds bravest uniformed ladies html',\n",
       " 'weird alarm clocks wake dead alarm clocks wake dead weird alarm clocks wake deada friend mine recently grumbling getting morning telling despite setting number alarm clocks never wake time work clearly needs alarm clock wake dead got curious searched online unusual alarm clocks could rouse friend expected definitely interesting alarm clocks web picked six appealing clocky alarm clock alarm clocks two small wheels side runs hides wake works like another normal alarm clock hit snooze button jumps right night stand cruises around bedroom finding place hide actually jump feet one stops running alarm goes continues blare till get bed find alarm clock shut puzzle alarm clock clock shoots four pieces puzzle air goes order silence alarm reassemble puzzle top alarm clock flying alarm clock dratted propeller driven module flying alarm clock actually spins base unit time alarm goes catch noisy alarm turn retrieve propeller place back base means get bed search pesky propeller may landed anywhere sonic bomb clock adjustable volume alarm maximum loudness decibels equivalent power saw right next ear enough wake also slip bed shaker comes alarm clock mattress get rocking early morning penchant punishment always hit snooze button repeat torturous cycle noise discomfort carpet alarm clock order turn get step really want make challenge place far away bed shape alarm clock dumbbell style alarm clock wants start day right set alarm morning buzz done reps think would wake morning know weird alarm clocks friend mine recently grumbling getting morning telling despite setting number alarm clocks never wake time work clearly needs healthkicker quotweirdquot alarm clocks wake dead',\n",
       " 'classic vanilla butter cake adore vanilla cake fond memories well tastes perfect simple still remember every year little girl would heart shaped vanilla birthday cake yummiest sugariest pastel coloured frosting many types vanilla cake recipes know quest find perfect one thought vanilla cake simply vanilla cake butter cakes sponge cakes genoise cakes working way many different vanilla birthday cake recipes determine favourite philosophy though really bad vanilla cake recipes say favourite really personal preference well husband grant reason eat dessert rule yes almost unthinkable really much say one way comes dessert exception vanilla cake man put serious thought emotion circumstances would go anywhere near chocolate cake hold though first ish years life chose vanilla chocolate love equally unconditionally maybe scientific shift occured babies since simply live without chocolate cake got open let talk vanilla cake pretty familiar baking butter cakes predominantly use fancy fondant covered cakes far classic frosted birthday cakes go though really experimented much yet eager see type vanilla cake biggest birthday crowd pleaser first experiment classic butter cake pretty much knew expect rather using existing recipe searched popular alternative came across recipe joy baking website pretty straight forward similar recipe uses combination method mixing whip egg whites meringue fold batter order get volume lighter texture calls cake flour opposed purpose flour curious give try cake baked cooled layered filled frosted fluffy buttercream frosting tinted pastel blue grant favourite icing colour truth often make kind sugary frosting cakes admit become bit buttercream snob quite partial gorgeous consistency sophisticated flavour swiss meringue buttercream icing made whipping vanilla copious amounts pure butter fluffy meringue base cakes simply nothing better opinion widely used filling frosting wedding cakes occasion cakes even cupcakes many cases buttery flavour silky texture super sweet compliments almost type cake flavoured pretty much anything still tastes amazing said husband simply loves sugary blue frosting vanilla cake made birthday cake verdict grant loved thought vanilla flavour came especially amazing cake far texture goes really love always notice cakey density cake flour used could replace cake flour purpose give slightly different texture desired actually also play around experiment switching milk yogurt sour cream see happens best recipes result experimenting existing ones doubled recipe enough x round pans classic vanilla butter cake click printable recipe ingredients large eggs separated cups sifted cake flour teaspoons baking powder teaspoon salt cup g unsalted butter room temperature cups granulated sugar divided teaspoons pure vanilla extract cup milk room temperature teaspoon cream tartar method preheat oven degrees f degrees c place rack center oven butter flour three inch cm round cake pans line bottoms pans parchment paper grease flour parchment paper eggs still cold separate eggs placing yolks one bowl whites another bowl cover two bowls plastic warp allow eggs come room temperature using minutes mixing bowl sift whisk together flour baking powder salt bowl electric mixer beat butter soft minutes add cups sugar beat light fluffy minutes add egg yolks one time beating addition scrape sides bowl add vanilla beat combined mixer low speed alternately add flour mixture milk three additions beginning ending flour clean bowl electric mixer whisk attachment beat egg whites foamy add cream tartar continue beating soft peaks form gradually add remaining cup sugar continue beat stiff peaks form rubber spatula gently fold little whites batter lighten fold remaining whites combined mix batter deflate divide batter evenly three prepared pans smooth tops offset spatula back spoon bake preheated oven approximately minutes toothpick inserted centre cake comes clean cool cakes pans wire rack minutes place wire rack top cake pan invert lifting pan gently cakes completely cooled wrap plastic place cake layers freezer least hour make filling frosting cakes easier ingredients cup g unsalted butter softened cups icing sugar confectioners ml whipping cream tablespoons pure vanilla extract tablespoon water pinch salt method beat butter icing sugar electric mixer low paddle attachment minutes add vanilla water whipping cream salt whip high speed fluffy smooth minutes consistency thick add water teaspoon time whip seconds makes enough fill frost layer cake good luck enjoy xo related posts fancy cakes confections newcastle ontario cakes confections newcastle ontario rosie alyea rosanne alyea sweetapolita classic vanilla butter cake',\n",
       " 'telegraph co uk news picturegalleries pictures year photographers discuss favourite photos london olympic games html frame photographers discuss favourite photos london olympic games photographers discuss favourite photos london olympic games photographers discuss favourite photos london olympic games telegraph ronald martinez one month prior olympics given brand new camera bodies new multiple exposure feature allowed photograph made combining set amount images one image even left united states already knew wanted use feature make striking lasting image time london olympic games covering trampoline saw great opportunity use multiple exposure feature athletes kept reaching high jumps provided solid black background set camera proper exposure set camera three images amount images combined looked saw rosannagh maclennan canada prepare routine immediately noticed red outfit maple leaf looked bright photogenic photographed saw would always show back fall back towards trampoline started make frame peak jump fell back leaf outfit really lined nicely elated saw happen even called image back camera picture ronald martinez getty images pictures year picture galleries news photographers discuss favourite london olympic photos',\n",
       " 'women crazy ok one goes guys brothers got significant show hands comments many relate guy video mean even though lady little look familiar doah gon na land dog house tagged funny videos women ok one goes guys brothers got significant show hands comments many relate guy video funny videos women onemansblog women crazy',\n",
       " 'useful search engines chefs cooks food lovers alisa miller everyone eat true foodies absolutely devoted food whether make professionally hobby love eat good food find search engines list make nose tongue sing recipes ethnic foods restaurants local farmer markets wine beer search engines help find exactly want comes creating appreciating delicious food beverages recipes absolutely reason food lover ever loss cook search engines keep stocked types recipes foodieview recipe search engine help find looking million recipes available five mushrooms use search engine find recipes real people like global gourmet recipe search search recipes global gourmet span back ten years epicurious recipes search epicurious recipes recipes submitted members search engine food wine recipes find recipe type food food network search possibilities flexible search engine allows look recipe quick meals season chef created searching entire site food search recipes browse category find wanting cook easy recipes find easy recipes using simple everyday ingredients recipe link search tool find recipes repository collecting since recipesource look next meal among recipes search engine started alumni university california berkeley compiling recipes since allrecipes popular site offers search engine provides recipes information ingredients cooking com search find recipes search ingredients search engine mimi food finder use one three search engines find exactly recipe seeking meals recipes include detailed nutrition information choose meals right needs yahoo food browse search recipes yahoo food search engine recipecomun super simple use search engine provide recipes top recipe sites quickly easily recipes engine type keyword get recipes database recipes various types food whether looking asian french raw food search engines help find recipes information variety foods chinesefooddiy search definitions recipes techniques help create delicious chinese food home asia food search terms recipes foods countries across asia chicken recipes ca use search tool site find type chicken recipe imaginable recipe link copycat restaurant recipes ever wanted recreate something ate restaurant check search engine see make favorite dish home britannia recipes looking recipe bubble squeak clotted cream search engine help get french recipes information french wines search engine tokyo food page japanese cuisines search delicious japanese recipes move way beyond sushi search tool rfcj recipe archive hanukkah recipes kosher dishes find recipes jewish food search engine made italy line wine food whatever want learn italian wine food found recipes information regulations bawarchi com find indian food recipes search tool even narrow search vegetarian user recipes expert recipes keeping raw search raw food news websites search engine vegetarian vegan vegetarian vegan mean rely sprouts hummus recipes articles help eat healthily deliciously staying chosen path happycow find vegetarian restaurants food stores area search tool vegweb find vegetarian recipes search engine vegetarian search engine find anything recipes news blogs cookbooks taken various cookbooks searchable recipes site primarily vegetarian almost always natural healthy vegetarian times recipes search vegetarian recipes search engine customized find exactly type recipe want vegeats look vegetarian recipes vegetarian restaurants search engine vegecyber search vegetarian frozen food items site vegcooking search vegetarian recipes also search replacement ingredients items meat dairy eggs goodbaker find vegan organic baking mixes site serves clearinghouse make sell products vegan recipes search ingredient find delicious vegan recipe among food search engines stop recipes find blogs websites information ingredients search engines big fat food search engine use search engine powered google find exactly want several food related websites epicurious food dictionary type keywords browse alphabetically find definitions words food cooking thefoodsearch search engine help find information food beverages cooking styles appliances cooking connect find looking comes food search engine covers everything vegetarian resources professional chefs food ingredients looking suppliers food ingredients search engine connect right businesses international purveyor index find distributors food beverage equipment around world search tool gourmetspot com use search engine find information food groceries cooking cheww search food blogs without spam search engine food blog search custom google search engine connect information several food blogs foodtube net search videos feature cooking recipes beverages site restaurants matter live type food want eat resources help find place eat allthefood com plug zip code search state find restaurants area delocator use zip code find non corporate cafes area search engine dinesite com find restaurants area search tool also find reviews help know want give try food wine restaurant search whether looking restaurant monaco mississippi international search engine help find place eat zagat enter zip code city search restaurants reviews popular search tool greekcuisine com dining guide find greek restaurants around world simple search engine vegetarian resource group online restaurant guide find vegetarian vegan vegetarian friendly restaurants across us canada search tool vegdining com search vegetarian restaurants around world food finder enter zip code type food want receive listing restaurants area food finder net find restaurants area get ratings menu items well local markets farms whether want purchase food local farm browse farmer market find place buy real milk search engines help get seeking farmersmarket find farmer markets across country search site usda agricultural marketing service farmers market search use flexible search parameters search engine find farmer markets area local harvest family farms want support family farmers buy local organic produce use search engine help know go community supported agriculture farm subscriptions find get locally grown food small farmers subscription basis search engine csa search find community supported agriculture farms around country search engine ecovian find restaurants food stores farms area provide local organic food local food directory uk use search engine find locally grown food near australian community foods live australia want local food use search engine find farmer markets community gardens co ops cafes coop directory service listing find food co ops states tool eat well guide find fresh sustainable food anywhere us canada search engine find real milk searching real milk unpasturized milk grass fed true dairy cows use search engine find healthy eating sustainability many food lovers important support healthy eating sustainability search engines help sustainable table rbgh free dairy map searchable map provides local dairies sell products free artificial bovine growth hormones pastured products directory find farms pasture feed animals supply meat dairy products us canada seafood watch search tool let know specific seafood sustainable choice environmental defense fund seafood selector find seafood specific species ecologically smart eat also provide health concerns fish seafood high mercury contaminants green maven use search engine find healthy resources topics health food stores food diet nutrition fitfood com recipe search find recipes tailored healthy choices categories rich grains low carb rich fruits nutrition find nutritional value everything asparagus fast food get information help eat nutritiously information available search engines nutrawatch food finder discover nutrition food search anything baby food fast food vegetables fast food facts find nutrition favorite fast food search tool mayoclinic com food nutrition center search site plethora recipes information help nutrition healthy eating arbor nutrition guide search engine connect tons links resources food nutrition topics international food information council get food safety nutrition information organization strives help people understand science based food information fealth search engine focus health good place search nutrition based information organizedwisdom search engine technically health search tool hefty amount information available nutrition pharmacy technician certification learn ts vitamins prescription drug usage nutrition touch find nutrients calories vitamins foods eat including fast food nutrinium search health nutrition news articles search engine gyminee search foods find nutrition information wine beer whether connoisseur learning wine beer search engines help find information know purchase products even locate beer bluewine com search wines vineyards wine organizations search engine wine searcher com search virtually wine learn wine buy epicurious wine dictionary find macabeo acetobacter mean handy wine dictionary winemetro winemetro connect top information wine wineries distributors retailers able grape super simple search engine let comes information wine search english french italian search beers search keyword country find information many beers made around world pubcrawler beer search enter location information find microbreweries brew pubs beer bars near beer engine find best beer europe search engine cheap beer search engine live mid south us want find beers less use search engine beer search custom google search help find ratings information beer government search engines official word food nutrition food safety use government search engines fda search engine use search engine find information food safety allergens nutrition food labeling usda national nutrient database search keyword food groups find information nutrients foods center food safety applied nutrition sector fda search engine site give government stance safety nutrition foodsafety gov search documents federal agencies pertain food safety issues enjoyed article please bookmark del icio us culinaryschoolguide org blog useful search engines chefs cooks food lovers',\n",
       " 'america healthiest mall food health com america healthiest mall food advertisement google ad client ca timeinc health bah substitute client id google ad output js google max num ads google ad channel article google language en google ad type text type ads display google page url http www example com google encoding google safe high google hints fast food starbucks california pizza kitchen healthy fast food healthy food america healthiest google adtest think fare diet disaster top dishes actually dare say good fast food starbucks california pizza kitchen healthy fast food healthy food america healthiest health health gallery html',\n",
       " 'crispy shrimp pizza sweet made shrimp pizza shrimp pizza crispiness deliciousness sometimes eat pretzels breakfast jelly beans dinner zero vegetables lunch eat shrimp pizza last night someone ate entire chickpeas roasted accidentally purpose pizza today put shrimp pizza going nap watching fancy wedding morning wishing royalty emotionally eating shrimp pizza like emotionally eat crispy shrimp pizza makes small thin crust pizzas dough cups flour used purpose whole wheat cup warm water packet dry active yeast tablespoon honey tablespoon olive oil teaspoon salt toppings pounds raw deveined shrimp cup flour salt pepper taste cup olive oil tablespoon garlic cloves minced cup freshly grated parmesan cheese cup shredded mozzarella cheese cups arugula lemons combine water yeast olive oil honey mix spoon let sit minutes yeast becomes foamy add flour salt mix ball forms using hands need dough minutes somewhat smooth place oiled bowl warm spot let rise hours preheat oven degrees heat skillet medium high heat add tablespoon olive oil sprinkle shrimp salt pepper dredge flour make sure skillet hot add shrimp cooking side minutes crispy remove drain paper towel roll pizza dough desired size mine inches wide thin top tablespoon olive oil minced clove garlic sprinkle cheeses add shrimp top bake minutes depending thickness crust crust golden cheese melted serve arugula lemon slices spritzing well additional parmesan cheese note concerned shrimp would become rubbery essentially cooked twice smaller thin crusts want make one large pizza may need experiment first see shrimp stays crisp cooked long anyone else notice uncanny resemblance queen elizabeth mother lovett know today two words hat shopping tags pizza recipes seafood made shrimp pizza shrimp pizza crispiness deliciousness sometimes eat pretzels breakfast jelly beans dinner zero vegetables pizza recipes seafood howsweeteats crispy shrimp pizza',\n",
       " 'non profit group releases open source mesh wifi network software group releases open source mesh wifi network software non profit group geeks without frontiers today released open source software based upcoming wifi standard lets linux machines wifi network hardware required software based yet ratified ieee extension wifi standard creates wireless mesh networks ratification expected happen allows multiple wireless devices connect without hardware access point multi hop reach nodes would otherwise range geeks without frontiers arm profit agency manna energy foundation manna goal lofty one wants positively impact lives one billion people next ten years use calls social entrepreneurship instance manna working bring clean sustainable water supplies rwanda kenya backdrop motivation bring affordable internet connections rural underprivileged areas villages kenya group says open source means open wanting use software build mesh networks certainly project funded grants tides foundation google contributions also global connect nortel one laptop per child work done folks geek net solutions primarily graces javier cardona cozybit wrote much code dan harkins contributed much security geeks claims mesh networks created highly secure uses strong authentication allow authorized individuals entry encryption keep prying eyes seeing traffic project also accepted mainline linux kernel included release beyond means patches bug fixes pushed project users get updates distribution makers manage stuff latest development code available wireless testing portion kernel software freely available community scale pilot test soon coming northern california group says project version open source worked instance wifimesh working group freebsd working get implemented freebsd since ratified yet implementation included kernel necessarily based earlier non ratified draft early implementations yet talk one another eventually inconveniences worked group users armed nothing linux based devices able create low cost large scale wireless network share internet connection hope municipalities rural areas able serve residents internet access extremely low costs group geeks without frontiers today released open source software based upcoming wifi standard lets linux machines wifi network hardware required software based ieee extension wifi standard creates wireless hothardware news nonprofit group releases open source wi fi software',\n",
       " 'laurenslatest lasagna cups lasagna cups tell guys lot fun recipe blast making niece turning idea dinner day love pasta cup filled delicious sauce ooey gooey cheese think could say everyone falls category oh mama good like lasagna love basically super cute version plain ol lasagna stuff would typically see making regular lasagna little prep work less method adopt still using lasagna recipe everyone used try version feel free add omit anything like make beauty cooking quick note used new product called cooking cream philadelphia product find store add ricotta hope like one guys certainly happy hump day lasagna cups yield print recipe ingredients sauce tablespoons olive large pound lean ground beef cooked red bell pepper small zucchini cloves garlic oz tomato oz tomato sauce water wash oz diced tablespoon dried tablespoon dried bay teaspoon sugarsalt pepper taste cheese filling oz tub philadelphia italian herb cheese cooking cup grated parmesan pound mozzarella cheese grated cup ricotta teaspoon egg lasagne pasta sheets directions sauce heat olive oil medium heat saute onions pepper zucchini garlic tender minutes stir cooked ground beef tomato paste well incorporated stir remaining ingredients bring simmer reduce heat low cook minutes longer cooks better taste thick cheese filling stir ingredients together excluding half grated mozzarella cheese set aside pasta bring large pot salted water boil cook pasta sheets minutes less package directions drain place pasta greased baking sheet ready assembly assembly preheat oven degrees line jumbo muffin tins squares parchment paper stay ok pasta help line edges muffin tins pasta sheet per cup pasta sheet overlap inches spoon tablespoon sauce bottom cup next cut pasta sheets quarters press one pieces pasta bottom top sauce top pasta sheet generous tablespoon sauce generous tablespoon cheese filling repeat pasta sauce cheese layering one time sure press air bubbles top lasagna cups piece pasta sauce remaining mozzarella cheese bake minutes everything hot bubbly serve hot scream eat eat tagged beef cheese comfort lasagna lo recipes meat pasta lasagna cups yield ingredients tablespoons olive oil large onion pound lean ground beef cooked drained red bell pepper chopped small zucchini diced cloves garlic minced oz tomato beef cheese comfort lasagna lo recipes meat pasta',\n",
       " 'realbeauty hair styles updos updo ideas src sem mag bea dom otto',\n",
       " 'dagbladet dagbladet forsiden form input select button ul li p label margin padding skattesok ul meny ul meny span ul meny li margin padding skattesok input search margin padding padding skattesok font normal normal verdana arial sans serif color fff margin background url http gfx dagbladet skatt pengesekk fff gif repeat border radius overflow hidden position relative skattesok skatt notyet position absolute top left right bottom text align center line height font size background background rgba border radius font weight bold text shadow display block text transform uppercase skattesok skatt notyet display none skattesok font size text shadow margin display inline block skattesok text decoration none font size important text transform none important skattesok font size float left skattesok font size margin text transform uppercase color skattesok input hover skattesok input focus skattesok select hover skattesok select focus outline none box shadow rgba skattesok input label vertical align middle skattesok li display inline float left skattesok ul clear skattesok color fff important skattesok div disclaimer p clear display block margin top skattesok div disclaimer padding top margin top skattesok personsok padding left skattesok ul meny clear font size line height margin skattesok ul meny li margin skattesok container toppsok float left skattesok personsok dbskatt postnr input width skattesok toppsok etternavn input width skattesok toppsok etternavn span color margin left skattesok toppliste fylke border height border radius margin right width skattesok toppsokboks input button width important margin text align center skattesok toppsok fylke input button margin right skattesok personsok input padding margin right skattesok personsok select font size padding margin margin right font family verdana arial helvetica sans serif skattesok personsok ul advanced li fylke select width skattesok personsok ul advanced li kommune select width skattesok personsok select option font family verdana arial helvetica sans serif font size skattesok personsok sokeknapp input db button padding margin left skattesok personsok advanced label margin top skattesok personsok input search name width border radius webkit border radius moz border radius margin right padding border font normal normal arial helvetica sans serif skattesok personsok input search age width border radius webkit border radius moz border radius margin right padding border font normal normal arial helvetica sans serif skattesok ul advanced padding skattesok ul advanced li aar ul margin top skattesok ul advanced li aar ul li display block clear line height margin padding height skattesok ul advanced li aar ul li label font size line height margin padding skattesok ul advanced li aar ul li input radio margin padding line height height skattesok toppsokboks background background rgba background webkit linear gradient top rgba rgba background moz linear gradient top rgba rgba backgr nyheter nytt nyhet nettavis dagbladet avis norge europa skandinavia norden jobb bolig bil sport sms v vvarsel politikk kjendis feature magasinet forbruker helse sex reise bil data teknologi weblogg blogg blogging blogger weblog blog meninger kommentarer litteratur musikk film dvd spill ledende nettavis norge oppdatert dnet rundt med saker spesialskrevet nett av egen redaksjon fokus pnyheter sport kultur feature reportasje forbrukerstoff og kjendiser',\n",
       " 'baby starved death say amen left ria ramkissoon son javon thompson top right queen antoinette bottom right trevia williams photo ap week ria ramkissoon watched passively one year old son wasted away denied food water older woman lived said god javon thompson possessed evil spirit ramkissoon told say amen mealtime prayer javon talk much given age said amen ramkissoon testified us court baltimore day javon died ramkissoon told nurture back life mashed carrots tried feed boy longer able swallow ramkissoon put hands chest confirm heart stopped beating advertisement story continues ramkissoon several people knelt prayed would rise dead weeks afterward ramkissoon spent much time room son emaciated body talking dancing even giving water thought could bring back ramkissoon told tale son excruciating death witness stand wednesday trial woman says told feed boy queen antoinette leader small religious cult according police prosecutors faces murder charges alongside daughter trevia williams another follower marcus cobbs three acting attorneys javon died either december january ramkissoon sure exact date body hidden suitcase year since buried even maintains faith resurrection still believe son coming back ramkissoon said problem saying really happened believe coming back queen said god told would come back believe choose believe said even despite everything choose believe reasons later acknowledged faith makes sound crazy problem sounding crazy court said ramkissoon born trinidad moved baltimore age seven stands feet metres tall weighs pounds kilograms wore white sweater blue jeans calm throughout testimony speaking clear even voice appeared mildly agitated certain questions otherwise showed little emotion even described starving son lost weight became lethargic lost voice led courtroom handcuffs pleaded guilty last year child abuse resulting death agreeing deal condition javon resurrected plea vacated prosecutors judge accepted extraordinary condition specifying jesus like resurrection would suffice antoinette representing able cross examine young woman lived two years much time son death antoinette asked whether statement feeding javon order suggestion ramkissoon said consistently told prosecutors attorney forced starve son made clear idea antoinette feed ramkissoon said antoinette said feed anything told believed williams cobbs also lived home along antoinette three children childhood friend ramkissoon one challenged antoinette statement boy fed ramkissoon said ramkissoon detailed group relocated philadelphia brought javon body suitcase described javon packed sheets blankets sprayed body disinfectant stuffed suitcase fabric softener sheets mask odour suitcase hidden shed philadelphia year discovered police according testimony members antoinette household told wear white blue khaki left home pairs avoided doctors hospitals destroyed identification cards little contact families ramkissoon said often questioned antoinette rules orders never disobeyed believed godly woman looking back ramkissoon told antoinette say everything thought right right ap smh au world baby starved death say amen html',\n",
       " 'fitnesstrainersd new cure anxiety salmon anxiety salmon connection man boot camp san diego personal trainer imagine first person pull fish water must least little nuts could seriously look slimy scaly water logged product underwater hunting experiment think going eat real truth man quest beat hunger denied many years first aquatic creature fell knife fork fish welcome part healthy diet salmon one best grams protein per eight ounce serving pink fillet become staple diets fuels gains keeps lean ready eat minutes definition worry free meal beyond simple make salmon may also cure woes ways researchers ohio state university discovered taking omega ounces salmon reduce stress anxiety study found similar results diets laden fatty fish fish oil supplement advice try include fish like salmon diet least three times week want ante little add ginger mix regulate blood pressure reduce migraines try easy recipe salmon ginger responses currently closed trackback site bootcamp classes san diego lead personal trainer burn fat get lean san diego boot camp san diego bootcamp san diego bootcamp boot camp san diego san diego boot camps san diego personal trainer san diego personal training personal training san diego san diego fitness salmon might help cure anxiety imagine first person pull fish water must least little nuts could seriously look slimy scaly water logged product underwater hunting experiment think going eat real truth man quest beat hunger b health talk healthy fats protein seafood bikini body eat clean fitness san diego hungry man fitness mirror san diego fit new research salmon salmon ginger anxiety bikini body eat clean fitness san diego hungry man fitness mirror san diego fit health talk healthy fats protein seafood',\n",
       " 'amazing fireworks years football club hajduk split godina hajduk hajduk fireworks torcida fireworks vatromet nature wallpapers co uk amazing fireworks years football club hajduk split']"
      ]
     },
     "execution_count": 68,
     "metadata": {},
     "output_type": "execute_result"
    }
   ],
   "source": [
    "webpageDescription = textCleaning(train_df,\"webpageDescription\")\n",
    "webpageDescription[0:20]"
   ]
  },
  {
   "cell_type": "markdown",
   "id": "981bb036",
   "metadata": {},
   "source": [
    "### TF-IDF vectorization"
   ]
  },
  {
   "cell_type": "code",
   "execution_count": 69,
   "id": "d33d3b6e",
   "metadata": {},
   "outputs": [],
   "source": [
    "from sklearn.feature_extraction.text import TfidfVectorizer\n",
    "TV = TfidfVectorizer(min_df=1)  "
   ]
  },
  {
   "cell_type": "code",
   "execution_count": 70,
   "id": "9c43e73f",
   "metadata": {},
   "outputs": [],
   "source": [
    "def chkNonzero(df,col):\n",
    "    for i in df[col+'_0']:\n",
    "      if(i != 0.00):\n",
    "        print(i)"
   ]
  },
  {
   "cell_type": "code",
   "execution_count": 71,
   "id": "29cfdd44",
   "metadata": {},
   "outputs": [
    {
     "name": "stdout",
     "output_type": "stream",
     "text": [
      "Shape :  (7395, 78185) \n",
      "\n",
      "0.09084697249475217\n",
      "0.03645746146791631\n",
      "0.015283500466449877\n",
      "0.02585804919241792\n",
      "0.017480213818118345\n",
      "0.012818520847319489\n",
      "0.07530509381003037\n",
      "0.002596059771451365\n",
      "0.026754939444007152\n",
      "0.08208210230742576\n",
      "0.03552442589151326\n",
      "0.05913979252219913\n",
      "0.29206593872035475\n",
      "0.018359562050246424\n",
      "0.03264670223163985\n",
      "0.0025915282530577324\n",
      "0.04105453632902743\n"
     ]
    }
   ],
   "source": [
    "X = TV.fit_transform(webpageDescription).toarray()\n",
    "arrayCols = len(X[0])\n",
    "print('Shape : ',np.shape(X),'\\n')\n",
    "columns = [f'webpageDescription_{num}' for num in range(arrayCols)]\n",
    "df_webpageDescription =  pd.DataFrame(X, columns=columns)\n",
    "chkNonzero(df_webpageDescription,'webpageDescription')"
   ]
  },
  {
   "cell_type": "code",
   "execution_count": 72,
   "id": "a3bf0c3b",
   "metadata": {},
   "outputs": [
    {
     "data": {
      "text/plain": [
       "(7395, 78185)"
      ]
     },
     "execution_count": 72,
     "metadata": {},
     "output_type": "execute_result"
    }
   ],
   "source": [
    "df_webpageDescription.shape"
   ]
  },
  {
   "cell_type": "markdown",
   "id": "9d3d7d58",
   "metadata": {},
   "source": [
    "# 4.feature scaling and joining vectorize data with other feature columns"
   ]
  },
  {
   "cell_type": "code",
   "execution_count": 73,
   "id": "110fc147",
   "metadata": {},
   "outputs": [
    {
     "data": {
      "text/html": [
       "<div>\n",
       "<style scoped>\n",
       "    .dataframe tbody tr th:only-of-type {\n",
       "        vertical-align: middle;\n",
       "    }\n",
       "\n",
       "    .dataframe tbody tr th {\n",
       "        vertical-align: top;\n",
       "    }\n",
       "\n",
       "    .dataframe thead th {\n",
       "        text-align: right;\n",
       "    }\n",
       "</style>\n",
       "<table border=\"1\" class=\"dataframe\">\n",
       "  <thead>\n",
       "    <tr style=\"text-align: right;\">\n",
       "      <th></th>\n",
       "      <th>url</th>\n",
       "      <th>webpageDescription</th>\n",
       "      <th>alchemy_category_score</th>\n",
       "      <th>avgLinkWordLength</th>\n",
       "      <th>AvglinkWithOneCommonWord</th>\n",
       "      <th>AvglinkWithTwoCommonWord</th>\n",
       "      <th>AvglinkWithThreeCommonWord</th>\n",
       "      <th>AvglinkWithFourCommonWord</th>\n",
       "      <th>redundancyMeasure</th>\n",
       "      <th>embedRatio</th>\n",
       "      <th>...</th>\n",
       "      <th>alchemy_category_culture_politics</th>\n",
       "      <th>alchemy_category_gaming</th>\n",
       "      <th>alchemy_category_health</th>\n",
       "      <th>alchemy_category_law_crime</th>\n",
       "      <th>alchemy_category_recreation</th>\n",
       "      <th>alchemy_category_religion</th>\n",
       "      <th>alchemy_category_science_technology</th>\n",
       "      <th>alchemy_category_sports</th>\n",
       "      <th>alchemy_category_unknown</th>\n",
       "      <th>alchemy_category_weather</th>\n",
       "    </tr>\n",
       "  </thead>\n",
       "  <tbody>\n",
       "    <tr>\n",
       "      <th>0</th>\n",
       "      <td>www.ocweekly.com</td>\n",
       "      <td>\"ocweekly 2013 04 11 news deported mexicans ba...</td>\n",
       "      <td>0.300004</td>\n",
       "      <td>2.307692</td>\n",
       "      <td>0.424749</td>\n",
       "      <td>0.190635</td>\n",
       "      <td>0.036789</td>\n",
       "      <td>0.020067</td>\n",
       "      <td>0.439444</td>\n",
       "      <td>0.0</td>\n",
       "      <td>...</td>\n",
       "      <td>0</td>\n",
       "      <td>0</td>\n",
       "      <td>0</td>\n",
       "      <td>0</td>\n",
       "      <td>0</td>\n",
       "      <td>0</td>\n",
       "      <td>0</td>\n",
       "      <td>1</td>\n",
       "      <td>0</td>\n",
       "      <td>0</td>\n",
       "    </tr>\n",
       "    <tr>\n",
       "      <th>1</th>\n",
       "      <td>www.youbeauty.com</td>\n",
       "      <td>\"10 Exotic Fruits Vegetables 10 exotic fruits ...</td>\n",
       "      <td>0.625228</td>\n",
       "      <td>1.712500</td>\n",
       "      <td>0.492063</td>\n",
       "      <td>0.301587</td>\n",
       "      <td>0.005291</td>\n",
       "      <td>0.000000</td>\n",
       "      <td>0.488178</td>\n",
       "      <td>0.0</td>\n",
       "      <td>...</td>\n",
       "      <td>0</td>\n",
       "      <td>0</td>\n",
       "      <td>0</td>\n",
       "      <td>0</td>\n",
       "      <td>0</td>\n",
       "      <td>0</td>\n",
       "      <td>1</td>\n",
       "      <td>0</td>\n",
       "      <td>0</td>\n",
       "      <td>0</td>\n",
       "    </tr>\n",
       "    <tr>\n",
       "      <th>2</th>\n",
       "      <td>www.you-made-that.com</td>\n",
       "      <td>\"Skinny German Chocolate Cookies \",\"These litt...</td>\n",
       "      <td>0.603334</td>\n",
       "      <td>1.400000</td>\n",
       "      <td>0.207547</td>\n",
       "      <td>0.018868</td>\n",
       "      <td>0.000000</td>\n",
       "      <td>0.000000</td>\n",
       "      <td>0.513166</td>\n",
       "      <td>0.0</td>\n",
       "      <td>...</td>\n",
       "      <td>0</td>\n",
       "      <td>0</td>\n",
       "      <td>0</td>\n",
       "      <td>0</td>\n",
       "      <td>0</td>\n",
       "      <td>0</td>\n",
       "      <td>0</td>\n",
       "      <td>0</td>\n",
       "      <td>0</td>\n",
       "      <td>0</td>\n",
       "    </tr>\n",
       "    <tr>\n",
       "      <th>3</th>\n",
       "      <td>drpullen.com</td>\n",
       "      <td>\"Carpe Diem DrPullen com Medical and Health Bl...</td>\n",
       "      <td>0.603334</td>\n",
       "      <td>1.600000</td>\n",
       "      <td>0.303030</td>\n",
       "      <td>0.000000</td>\n",
       "      <td>0.000000</td>\n",
       "      <td>0.000000</td>\n",
       "      <td>0.461538</td>\n",
       "      <td>0.0</td>\n",
       "      <td>...</td>\n",
       "      <td>0</td>\n",
       "      <td>0</td>\n",
       "      <td>0</td>\n",
       "      <td>0</td>\n",
       "      <td>0</td>\n",
       "      <td>0</td>\n",
       "      <td>0</td>\n",
       "      <td>0</td>\n",
       "      <td>0</td>\n",
       "      <td>0</td>\n",
       "    </tr>\n",
       "    <tr>\n",
       "      <th>4</th>\n",
       "      <td>bradcolbow.com</td>\n",
       "      <td>\"Brad Colbow Independent Web Designer Illustra...</td>\n",
       "      <td>0.850000</td>\n",
       "      <td>3.967213</td>\n",
       "      <td>0.596330</td>\n",
       "      <td>0.449541</td>\n",
       "      <td>0.300000</td>\n",
       "      <td>0.162662</td>\n",
       "      <td>0.505411</td>\n",
       "      <td>0.0</td>\n",
       "      <td>...</td>\n",
       "      <td>0</td>\n",
       "      <td>0</td>\n",
       "      <td>0</td>\n",
       "      <td>0</td>\n",
       "      <td>0</td>\n",
       "      <td>0</td>\n",
       "      <td>0</td>\n",
       "      <td>0</td>\n",
       "      <td>0</td>\n",
       "      <td>0</td>\n",
       "    </tr>\n",
       "  </tbody>\n",
       "</table>\n",
       "<p>5 rows × 39 columns</p>\n",
       "</div>"
      ],
      "text/plain": [
       "                     url                                 webpageDescription  \\\n",
       "0       www.ocweekly.com  \"ocweekly 2013 04 11 news deported mexicans ba...   \n",
       "1      www.youbeauty.com  \"10 Exotic Fruits Vegetables 10 exotic fruits ...   \n",
       "2  www.you-made-that.com  \"Skinny German Chocolate Cookies \",\"These litt...   \n",
       "3           drpullen.com  \"Carpe Diem DrPullen com Medical and Health Bl...   \n",
       "4         bradcolbow.com  \"Brad Colbow Independent Web Designer Illustra...   \n",
       "\n",
       "   alchemy_category_score  avgLinkWordLength  AvglinkWithOneCommonWord  \\\n",
       "0                0.300004           2.307692                  0.424749   \n",
       "1                0.625228           1.712500                  0.492063   \n",
       "2                0.603334           1.400000                  0.207547   \n",
       "3                0.603334           1.600000                  0.303030   \n",
       "4                0.850000           3.967213                  0.596330   \n",
       "\n",
       "   AvglinkWithTwoCommonWord  AvglinkWithThreeCommonWord  \\\n",
       "0                  0.190635                    0.036789   \n",
       "1                  0.301587                    0.005291   \n",
       "2                  0.018868                    0.000000   \n",
       "3                  0.000000                    0.000000   \n",
       "4                  0.449541                    0.300000   \n",
       "\n",
       "   AvglinkWithFourCommonWord  redundancyMeasure  embedRatio  ...  \\\n",
       "0                   0.020067           0.439444         0.0  ...   \n",
       "1                   0.000000           0.488178         0.0  ...   \n",
       "2                   0.000000           0.513166         0.0  ...   \n",
       "3                   0.000000           0.461538         0.0  ...   \n",
       "4                   0.162662           0.505411         0.0  ...   \n",
       "\n",
       "   alchemy_category_culture_politics  alchemy_category_gaming  \\\n",
       "0                                  0                        0   \n",
       "1                                  0                        0   \n",
       "2                                  0                        0   \n",
       "3                                  0                        0   \n",
       "4                                  0                        0   \n",
       "\n",
       "   alchemy_category_health  alchemy_category_law_crime  \\\n",
       "0                        0                           0   \n",
       "1                        0                           0   \n",
       "2                        0                           0   \n",
       "3                        0                           0   \n",
       "4                        0                           0   \n",
       "\n",
       "   alchemy_category_recreation  alchemy_category_religion  \\\n",
       "0                            0                          0   \n",
       "1                            0                          0   \n",
       "2                            0                          0   \n",
       "3                            0                          0   \n",
       "4                            0                          0   \n",
       "\n",
       "   alchemy_category_science_technology  alchemy_category_sports  \\\n",
       "0                                    0                        1   \n",
       "1                                    1                        0   \n",
       "2                                    0                        0   \n",
       "3                                    0                        0   \n",
       "4                                    0                        0   \n",
       "\n",
       "   alchemy_category_unknown  alchemy_category_weather  \n",
       "0                         0                         0  \n",
       "1                         0                         0  \n",
       "2                         0                         0  \n",
       "3                         0                         0  \n",
       "4                         0                         0  \n",
       "\n",
       "[5 rows x 39 columns]"
      ]
     },
     "execution_count": 73,
     "metadata": {},
     "output_type": "execute_result"
    }
   ],
   "source": [
    "train_df.head()"
   ]
  },
  {
   "cell_type": "code",
   "execution_count": 74,
   "id": "67391679",
   "metadata": {},
   "outputs": [],
   "source": [
    "#dropping unrelated columns\n",
    "train_df.drop(axis=\"columns\", labels=\"url\", inplace=True)\n",
    "train_df.drop(axis=\"columns\", labels=\"webpageDescription\", inplace=True)\n",
    "train_df.drop(axis=\"columns\", labels=\"label\", inplace=True)\n",
    "train_df.drop(axis=\"columns\", labels=\"indicator\", inplace=True)\n",
    "train_df.drop(axis=\"columns\", labels=\"id\", inplace=True)"
   ]
  },
  {
   "cell_type": "code",
   "execution_count": 75,
   "id": "bf67dd31",
   "metadata": {},
   "outputs": [
    {
     "data": {
      "text/html": [
       "<div>\n",
       "<style scoped>\n",
       "    .dataframe tbody tr th:only-of-type {\n",
       "        vertical-align: middle;\n",
       "    }\n",
       "\n",
       "    .dataframe tbody tr th {\n",
       "        vertical-align: top;\n",
       "    }\n",
       "\n",
       "    .dataframe thead th {\n",
       "        text-align: right;\n",
       "    }\n",
       "</style>\n",
       "<table border=\"1\" class=\"dataframe\">\n",
       "  <thead>\n",
       "    <tr style=\"text-align: right;\">\n",
       "      <th></th>\n",
       "      <th>alchemy_category_score</th>\n",
       "      <th>avgLinkWordLength</th>\n",
       "      <th>AvglinkWithOneCommonWord</th>\n",
       "      <th>AvglinkWithTwoCommonWord</th>\n",
       "      <th>AvglinkWithThreeCommonWord</th>\n",
       "      <th>AvglinkWithFourCommonWord</th>\n",
       "      <th>redundancyMeasure</th>\n",
       "      <th>embedRatio</th>\n",
       "      <th>frameTagRatio</th>\n",
       "      <th>domainLink</th>\n",
       "      <th>...</th>\n",
       "      <th>alchemy_category_culture_politics</th>\n",
       "      <th>alchemy_category_gaming</th>\n",
       "      <th>alchemy_category_health</th>\n",
       "      <th>alchemy_category_law_crime</th>\n",
       "      <th>alchemy_category_recreation</th>\n",
       "      <th>alchemy_category_religion</th>\n",
       "      <th>alchemy_category_science_technology</th>\n",
       "      <th>alchemy_category_sports</th>\n",
       "      <th>alchemy_category_unknown</th>\n",
       "      <th>alchemy_category_weather</th>\n",
       "    </tr>\n",
       "  </thead>\n",
       "  <tbody>\n",
       "    <tr>\n",
       "      <th>0</th>\n",
       "      <td>0.300004</td>\n",
       "      <td>2.307692</td>\n",
       "      <td>0.424749</td>\n",
       "      <td>0.190635</td>\n",
       "      <td>0.036789</td>\n",
       "      <td>0.020067</td>\n",
       "      <td>0.439444</td>\n",
       "      <td>0.0</td>\n",
       "      <td>0.029235</td>\n",
       "      <td>0</td>\n",
       "      <td>...</td>\n",
       "      <td>0</td>\n",
       "      <td>0</td>\n",
       "      <td>0</td>\n",
       "      <td>0</td>\n",
       "      <td>0</td>\n",
       "      <td>0</td>\n",
       "      <td>0</td>\n",
       "      <td>1</td>\n",
       "      <td>0</td>\n",
       "      <td>0</td>\n",
       "    </tr>\n",
       "    <tr>\n",
       "      <th>1</th>\n",
       "      <td>0.625228</td>\n",
       "      <td>1.712500</td>\n",
       "      <td>0.492063</td>\n",
       "      <td>0.301587</td>\n",
       "      <td>0.005291</td>\n",
       "      <td>0.000000</td>\n",
       "      <td>0.488178</td>\n",
       "      <td>0.0</td>\n",
       "      <td>0.042431</td>\n",
       "      <td>0</td>\n",
       "      <td>...</td>\n",
       "      <td>0</td>\n",
       "      <td>0</td>\n",
       "      <td>0</td>\n",
       "      <td>0</td>\n",
       "      <td>0</td>\n",
       "      <td>0</td>\n",
       "      <td>1</td>\n",
       "      <td>0</td>\n",
       "      <td>0</td>\n",
       "      <td>0</td>\n",
       "    </tr>\n",
       "    <tr>\n",
       "      <th>2</th>\n",
       "      <td>0.603334</td>\n",
       "      <td>1.400000</td>\n",
       "      <td>0.207547</td>\n",
       "      <td>0.018868</td>\n",
       "      <td>0.000000</td>\n",
       "      <td>0.000000</td>\n",
       "      <td>0.513166</td>\n",
       "      <td>0.0</td>\n",
       "      <td>0.059937</td>\n",
       "      <td>0</td>\n",
       "      <td>...</td>\n",
       "      <td>0</td>\n",
       "      <td>0</td>\n",
       "      <td>0</td>\n",
       "      <td>0</td>\n",
       "      <td>0</td>\n",
       "      <td>0</td>\n",
       "      <td>0</td>\n",
       "      <td>0</td>\n",
       "      <td>0</td>\n",
       "      <td>0</td>\n",
       "    </tr>\n",
       "    <tr>\n",
       "      <th>3</th>\n",
       "      <td>0.603334</td>\n",
       "      <td>1.600000</td>\n",
       "      <td>0.303030</td>\n",
       "      <td>0.000000</td>\n",
       "      <td>0.000000</td>\n",
       "      <td>0.000000</td>\n",
       "      <td>0.461538</td>\n",
       "      <td>0.0</td>\n",
       "      <td>0.150327</td>\n",
       "      <td>0</td>\n",
       "      <td>...</td>\n",
       "      <td>0</td>\n",
       "      <td>0</td>\n",
       "      <td>0</td>\n",
       "      <td>0</td>\n",
       "      <td>0</td>\n",
       "      <td>0</td>\n",
       "      <td>0</td>\n",
       "      <td>0</td>\n",
       "      <td>0</td>\n",
       "      <td>0</td>\n",
       "    </tr>\n",
       "    <tr>\n",
       "      <th>4</th>\n",
       "      <td>0.850000</td>\n",
       "      <td>3.967213</td>\n",
       "      <td>0.596330</td>\n",
       "      <td>0.449541</td>\n",
       "      <td>0.300000</td>\n",
       "      <td>0.162662</td>\n",
       "      <td>0.505411</td>\n",
       "      <td>0.0</td>\n",
       "      <td>0.007825</td>\n",
       "      <td>0</td>\n",
       "      <td>...</td>\n",
       "      <td>0</td>\n",
       "      <td>0</td>\n",
       "      <td>0</td>\n",
       "      <td>0</td>\n",
       "      <td>0</td>\n",
       "      <td>0</td>\n",
       "      <td>0</td>\n",
       "      <td>0</td>\n",
       "      <td>0</td>\n",
       "      <td>0</td>\n",
       "    </tr>\n",
       "  </tbody>\n",
       "</table>\n",
       "<p>5 rows × 34 columns</p>\n",
       "</div>"
      ],
      "text/plain": [
       "   alchemy_category_score  avgLinkWordLength  AvglinkWithOneCommonWord  \\\n",
       "0                0.300004           2.307692                  0.424749   \n",
       "1                0.625228           1.712500                  0.492063   \n",
       "2                0.603334           1.400000                  0.207547   \n",
       "3                0.603334           1.600000                  0.303030   \n",
       "4                0.850000           3.967213                  0.596330   \n",
       "\n",
       "   AvglinkWithTwoCommonWord  AvglinkWithThreeCommonWord  \\\n",
       "0                  0.190635                    0.036789   \n",
       "1                  0.301587                    0.005291   \n",
       "2                  0.018868                    0.000000   \n",
       "3                  0.000000                    0.000000   \n",
       "4                  0.449541                    0.300000   \n",
       "\n",
       "   AvglinkWithFourCommonWord  redundancyMeasure  embedRatio  frameTagRatio  \\\n",
       "0                   0.020067           0.439444         0.0       0.029235   \n",
       "1                   0.000000           0.488178         0.0       0.042431   \n",
       "2                   0.000000           0.513166         0.0       0.059937   \n",
       "3                   0.000000           0.461538         0.0       0.150327   \n",
       "4                   0.162662           0.505411         0.0       0.007825   \n",
       "\n",
       "   domainLink  ...  alchemy_category_culture_politics  \\\n",
       "0           0  ...                                  0   \n",
       "1           0  ...                                  0   \n",
       "2           0  ...                                  0   \n",
       "3           0  ...                                  0   \n",
       "4           0  ...                                  0   \n",
       "\n",
       "   alchemy_category_gaming  alchemy_category_health  \\\n",
       "0                        0                        0   \n",
       "1                        0                        0   \n",
       "2                        0                        0   \n",
       "3                        0                        0   \n",
       "4                        0                        0   \n",
       "\n",
       "   alchemy_category_law_crime  alchemy_category_recreation  \\\n",
       "0                           0                            0   \n",
       "1                           0                            0   \n",
       "2                           0                            0   \n",
       "3                           0                            0   \n",
       "4                           0                            0   \n",
       "\n",
       "   alchemy_category_religion  alchemy_category_science_technology  \\\n",
       "0                          0                                    0   \n",
       "1                          0                                    1   \n",
       "2                          0                                    0   \n",
       "3                          0                                    0   \n",
       "4                          0                                    0   \n",
       "\n",
       "   alchemy_category_sports  alchemy_category_unknown  alchemy_category_weather  \n",
       "0                        1                         0                         0  \n",
       "1                        0                         0                         0  \n",
       "2                        0                         0                         0  \n",
       "3                        0                         0                         0  \n",
       "4                        0                         0                         0  \n",
       "\n",
       "[5 rows x 34 columns]"
      ]
     },
     "execution_count": 75,
     "metadata": {},
     "output_type": "execute_result"
    }
   ],
   "source": [
    "train_df.head()"
   ]
  },
  {
   "cell_type": "code",
   "execution_count": 76,
   "id": "6108be39",
   "metadata": {},
   "outputs": [],
   "source": [
    "#robust scaling is used to handle outliers\n",
    "from sklearn.preprocessing import RobustScaler\n",
    "scaler = RobustScaler()\n",
    "train_df = pd.DataFrame(scaler.fit_transform(train_df), columns=train_df.columns)"
   ]
  },
  {
   "cell_type": "code",
   "execution_count": 77,
   "id": "c679927a",
   "metadata": {},
   "outputs": [
    {
     "data": {
      "text/html": [
       "<div>\n",
       "<style scoped>\n",
       "    .dataframe tbody tr th:only-of-type {\n",
       "        vertical-align: middle;\n",
       "    }\n",
       "\n",
       "    .dataframe tbody tr th {\n",
       "        vertical-align: top;\n",
       "    }\n",
       "\n",
       "    .dataframe thead th {\n",
       "        text-align: right;\n",
       "    }\n",
       "</style>\n",
       "<table border=\"1\" class=\"dataframe\">\n",
       "  <thead>\n",
       "    <tr style=\"text-align: right;\">\n",
       "      <th></th>\n",
       "      <th>alchemy_category_score</th>\n",
       "      <th>avgLinkWordLength</th>\n",
       "      <th>AvglinkWithOneCommonWord</th>\n",
       "      <th>AvglinkWithTwoCommonWord</th>\n",
       "      <th>AvglinkWithThreeCommonWord</th>\n",
       "      <th>AvglinkWithFourCommonWord</th>\n",
       "      <th>redundancyMeasure</th>\n",
       "      <th>embedRatio</th>\n",
       "      <th>frameTagRatio</th>\n",
       "      <th>domainLink</th>\n",
       "      <th>...</th>\n",
       "      <th>alchemy_category_culture_politics</th>\n",
       "      <th>alchemy_category_gaming</th>\n",
       "      <th>alchemy_category_health</th>\n",
       "      <th>alchemy_category_law_crime</th>\n",
       "      <th>alchemy_category_recreation</th>\n",
       "      <th>alchemy_category_religion</th>\n",
       "      <th>alchemy_category_science_technology</th>\n",
       "      <th>alchemy_category_sports</th>\n",
       "      <th>alchemy_category_unknown</th>\n",
       "      <th>alchemy_category_weather</th>\n",
       "    </tr>\n",
       "  </thead>\n",
       "  <tbody>\n",
       "    <tr>\n",
       "      <th>0</th>\n",
       "      <td>-1.789332</td>\n",
       "      <td>0.214023</td>\n",
       "      <td>-0.205378</td>\n",
       "      <td>-0.060690</td>\n",
       "      <td>-0.286543</td>\n",
       "      <td>-0.033126</td>\n",
       "      <td>-0.326195</td>\n",
       "      <td>0.0</td>\n",
       "      <td>-0.367895</td>\n",
       "      <td>0.0</td>\n",
       "      <td>...</td>\n",
       "      <td>0.0</td>\n",
       "      <td>0.0</td>\n",
       "      <td>0.0</td>\n",
       "      <td>0.0</td>\n",
       "      <td>0.0</td>\n",
       "      <td>0.0</td>\n",
       "      <td>0.0</td>\n",
       "      <td>1.0</td>\n",
       "      <td>0.0</td>\n",
       "      <td>0.0</td>\n",
       "    </tr>\n",
       "    <tr>\n",
       "      <th>1</th>\n",
       "      <td>0.129150</td>\n",
       "      <td>-0.366432</td>\n",
       "      <td>0.038308</td>\n",
       "      <td>0.509063</td>\n",
       "      <td>-0.570028</td>\n",
       "      <td>-0.341540</td>\n",
       "      <td>0.033176</td>\n",
       "      <td>0.0</td>\n",
       "      <td>-0.074371</td>\n",
       "      <td>0.0</td>\n",
       "      <td>...</td>\n",
       "      <td>0.0</td>\n",
       "      <td>0.0</td>\n",
       "      <td>0.0</td>\n",
       "      <td>0.0</td>\n",
       "      <td>0.0</td>\n",
       "      <td>0.0</td>\n",
       "      <td>1.0</td>\n",
       "      <td>0.0</td>\n",
       "      <td>0.0</td>\n",
       "      <td>0.0</td>\n",
       "    </tr>\n",
       "    <tr>\n",
       "      <th>2</th>\n",
       "      <td>0.000000</td>\n",
       "      <td>-0.671195</td>\n",
       "      <td>-0.991674</td>\n",
       "      <td>-0.942739</td>\n",
       "      <td>-0.617647</td>\n",
       "      <td>-0.341540</td>\n",
       "      <td>0.217434</td>\n",
       "      <td>0.0</td>\n",
       "      <td>0.315022</td>\n",
       "      <td>0.0</td>\n",
       "      <td>...</td>\n",
       "      <td>0.0</td>\n",
       "      <td>0.0</td>\n",
       "      <td>0.0</td>\n",
       "      <td>0.0</td>\n",
       "      <td>0.0</td>\n",
       "      <td>0.0</td>\n",
       "      <td>0.0</td>\n",
       "      <td>0.0</td>\n",
       "      <td>0.0</td>\n",
       "      <td>0.0</td>\n",
       "    </tr>\n",
       "    <tr>\n",
       "      <th>3</th>\n",
       "      <td>0.000000</td>\n",
       "      <td>-0.476147</td>\n",
       "      <td>-0.646014</td>\n",
       "      <td>-1.039629</td>\n",
       "      <td>-0.617647</td>\n",
       "      <td>-0.341540</td>\n",
       "      <td>-0.163269</td>\n",
       "      <td>0.0</td>\n",
       "      <td>2.325633</td>\n",
       "      <td>0.0</td>\n",
       "      <td>...</td>\n",
       "      <td>0.0</td>\n",
       "      <td>0.0</td>\n",
       "      <td>0.0</td>\n",
       "      <td>0.0</td>\n",
       "      <td>0.0</td>\n",
       "      <td>0.0</td>\n",
       "      <td>0.0</td>\n",
       "      <td>0.0</td>\n",
       "      <td>0.0</td>\n",
       "      <td>0.0</td>\n",
       "    </tr>\n",
       "    <tr>\n",
       "      <th>4</th>\n",
       "      <td>1.455070</td>\n",
       "      <td>1.832454</td>\n",
       "      <td>0.415766</td>\n",
       "      <td>1.268827</td>\n",
       "      <td>2.082353</td>\n",
       "      <td>2.158460</td>\n",
       "      <td>0.160251</td>\n",
       "      <td>0.0</td>\n",
       "      <td>-0.844149</td>\n",
       "      <td>0.0</td>\n",
       "      <td>...</td>\n",
       "      <td>0.0</td>\n",
       "      <td>0.0</td>\n",
       "      <td>0.0</td>\n",
       "      <td>0.0</td>\n",
       "      <td>0.0</td>\n",
       "      <td>0.0</td>\n",
       "      <td>0.0</td>\n",
       "      <td>0.0</td>\n",
       "      <td>0.0</td>\n",
       "      <td>0.0</td>\n",
       "    </tr>\n",
       "  </tbody>\n",
       "</table>\n",
       "<p>5 rows × 34 columns</p>\n",
       "</div>"
      ],
      "text/plain": [
       "   alchemy_category_score  avgLinkWordLength  AvglinkWithOneCommonWord  \\\n",
       "0               -1.789332           0.214023                 -0.205378   \n",
       "1                0.129150          -0.366432                  0.038308   \n",
       "2                0.000000          -0.671195                 -0.991674   \n",
       "3                0.000000          -0.476147                 -0.646014   \n",
       "4                1.455070           1.832454                  0.415766   \n",
       "\n",
       "   AvglinkWithTwoCommonWord  AvglinkWithThreeCommonWord  \\\n",
       "0                 -0.060690                   -0.286543   \n",
       "1                  0.509063                   -0.570028   \n",
       "2                 -0.942739                   -0.617647   \n",
       "3                 -1.039629                   -0.617647   \n",
       "4                  1.268827                    2.082353   \n",
       "\n",
       "   AvglinkWithFourCommonWord  redundancyMeasure  embedRatio  frameTagRatio  \\\n",
       "0                  -0.033126          -0.326195         0.0      -0.367895   \n",
       "1                  -0.341540           0.033176         0.0      -0.074371   \n",
       "2                  -0.341540           0.217434         0.0       0.315022   \n",
       "3                  -0.341540          -0.163269         0.0       2.325633   \n",
       "4                   2.158460           0.160251         0.0      -0.844149   \n",
       "\n",
       "   domainLink  ...  alchemy_category_culture_politics  \\\n",
       "0         0.0  ...                                0.0   \n",
       "1         0.0  ...                                0.0   \n",
       "2         0.0  ...                                0.0   \n",
       "3         0.0  ...                                0.0   \n",
       "4         0.0  ...                                0.0   \n",
       "\n",
       "   alchemy_category_gaming  alchemy_category_health  \\\n",
       "0                      0.0                      0.0   \n",
       "1                      0.0                      0.0   \n",
       "2                      0.0                      0.0   \n",
       "3                      0.0                      0.0   \n",
       "4                      0.0                      0.0   \n",
       "\n",
       "   alchemy_category_law_crime  alchemy_category_recreation  \\\n",
       "0                         0.0                          0.0   \n",
       "1                         0.0                          0.0   \n",
       "2                         0.0                          0.0   \n",
       "3                         0.0                          0.0   \n",
       "4                         0.0                          0.0   \n",
       "\n",
       "   alchemy_category_religion  alchemy_category_science_technology  \\\n",
       "0                        0.0                                  0.0   \n",
       "1                        0.0                                  1.0   \n",
       "2                        0.0                                  0.0   \n",
       "3                        0.0                                  0.0   \n",
       "4                        0.0                                  0.0   \n",
       "\n",
       "   alchemy_category_sports  alchemy_category_unknown  alchemy_category_weather  \n",
       "0                      1.0                       0.0                       0.0  \n",
       "1                      0.0                       0.0                       0.0  \n",
       "2                      0.0                       0.0                       0.0  \n",
       "3                      0.0                       0.0                       0.0  \n",
       "4                      0.0                       0.0                       0.0  \n",
       "\n",
       "[5 rows x 34 columns]"
      ]
     },
     "execution_count": 77,
     "metadata": {},
     "output_type": "execute_result"
    }
   ],
   "source": [
    "train_df.head()"
   ]
  },
  {
   "cell_type": "code",
   "execution_count": 78,
   "id": "1d47756b",
   "metadata": {},
   "outputs": [],
   "source": [
    "train_df.reset_index(inplace=True, drop=True)"
   ]
  },
  {
   "cell_type": "code",
   "execution_count": 79,
   "id": "886c00c6",
   "metadata": {},
   "outputs": [],
   "source": [
    "horizontal_concat = pd.concat([df_webpageDescription,train_df], axis=1)"
   ]
  },
  {
   "cell_type": "code",
   "execution_count": 80,
   "id": "440ab644",
   "metadata": {},
   "outputs": [
    {
     "data": {
      "text/plain": [
       "(7395, 78219)"
      ]
     },
     "execution_count": 80,
     "metadata": {},
     "output_type": "execute_result"
    }
   ],
   "source": [
    "horizontal_concat.shape"
   ]
  },
  {
   "cell_type": "code",
   "execution_count": 81,
   "id": "4e3d7bbc",
   "metadata": {},
   "outputs": [
    {
     "data": {
      "text/html": [
       "<div>\n",
       "<style scoped>\n",
       "    .dataframe tbody tr th:only-of-type {\n",
       "        vertical-align: middle;\n",
       "    }\n",
       "\n",
       "    .dataframe tbody tr th {\n",
       "        vertical-align: top;\n",
       "    }\n",
       "\n",
       "    .dataframe thead th {\n",
       "        text-align: right;\n",
       "    }\n",
       "</style>\n",
       "<table border=\"1\" class=\"dataframe\">\n",
       "  <thead>\n",
       "    <tr style=\"text-align: right;\">\n",
       "      <th></th>\n",
       "      <th>webpageDescription_0</th>\n",
       "      <th>webpageDescription_1</th>\n",
       "      <th>webpageDescription_2</th>\n",
       "      <th>webpageDescription_3</th>\n",
       "      <th>webpageDescription_4</th>\n",
       "      <th>webpageDescription_5</th>\n",
       "      <th>webpageDescription_6</th>\n",
       "      <th>webpageDescription_7</th>\n",
       "      <th>webpageDescription_8</th>\n",
       "      <th>webpageDescription_9</th>\n",
       "      <th>...</th>\n",
       "      <th>alchemy_category_culture_politics</th>\n",
       "      <th>alchemy_category_gaming</th>\n",
       "      <th>alchemy_category_health</th>\n",
       "      <th>alchemy_category_law_crime</th>\n",
       "      <th>alchemy_category_recreation</th>\n",
       "      <th>alchemy_category_religion</th>\n",
       "      <th>alchemy_category_science_technology</th>\n",
       "      <th>alchemy_category_sports</th>\n",
       "      <th>alchemy_category_unknown</th>\n",
       "      <th>alchemy_category_weather</th>\n",
       "    </tr>\n",
       "  </thead>\n",
       "  <tbody>\n",
       "    <tr>\n",
       "      <th>0</th>\n",
       "      <td>0.0</td>\n",
       "      <td>0.0</td>\n",
       "      <td>0.0</td>\n",
       "      <td>0.0</td>\n",
       "      <td>0.0</td>\n",
       "      <td>0.0</td>\n",
       "      <td>0.0</td>\n",
       "      <td>0.0</td>\n",
       "      <td>0.0</td>\n",
       "      <td>0.0</td>\n",
       "      <td>...</td>\n",
       "      <td>0.0</td>\n",
       "      <td>0.0</td>\n",
       "      <td>0.0</td>\n",
       "      <td>0.0</td>\n",
       "      <td>0.0</td>\n",
       "      <td>0.0</td>\n",
       "      <td>0.0</td>\n",
       "      <td>1.0</td>\n",
       "      <td>0.0</td>\n",
       "      <td>0.0</td>\n",
       "    </tr>\n",
       "    <tr>\n",
       "      <th>1</th>\n",
       "      <td>0.0</td>\n",
       "      <td>0.0</td>\n",
       "      <td>0.0</td>\n",
       "      <td>0.0</td>\n",
       "      <td>0.0</td>\n",
       "      <td>0.0</td>\n",
       "      <td>0.0</td>\n",
       "      <td>0.0</td>\n",
       "      <td>0.0</td>\n",
       "      <td>0.0</td>\n",
       "      <td>...</td>\n",
       "      <td>0.0</td>\n",
       "      <td>0.0</td>\n",
       "      <td>0.0</td>\n",
       "      <td>0.0</td>\n",
       "      <td>0.0</td>\n",
       "      <td>0.0</td>\n",
       "      <td>1.0</td>\n",
       "      <td>0.0</td>\n",
       "      <td>0.0</td>\n",
       "      <td>0.0</td>\n",
       "    </tr>\n",
       "    <tr>\n",
       "      <th>2</th>\n",
       "      <td>0.0</td>\n",
       "      <td>0.0</td>\n",
       "      <td>0.0</td>\n",
       "      <td>0.0</td>\n",
       "      <td>0.0</td>\n",
       "      <td>0.0</td>\n",
       "      <td>0.0</td>\n",
       "      <td>0.0</td>\n",
       "      <td>0.0</td>\n",
       "      <td>0.0</td>\n",
       "      <td>...</td>\n",
       "      <td>0.0</td>\n",
       "      <td>0.0</td>\n",
       "      <td>0.0</td>\n",
       "      <td>0.0</td>\n",
       "      <td>0.0</td>\n",
       "      <td>0.0</td>\n",
       "      <td>0.0</td>\n",
       "      <td>0.0</td>\n",
       "      <td>0.0</td>\n",
       "      <td>0.0</td>\n",
       "    </tr>\n",
       "    <tr>\n",
       "      <th>3</th>\n",
       "      <td>0.0</td>\n",
       "      <td>0.0</td>\n",
       "      <td>0.0</td>\n",
       "      <td>0.0</td>\n",
       "      <td>0.0</td>\n",
       "      <td>0.0</td>\n",
       "      <td>0.0</td>\n",
       "      <td>0.0</td>\n",
       "      <td>0.0</td>\n",
       "      <td>0.0</td>\n",
       "      <td>...</td>\n",
       "      <td>0.0</td>\n",
       "      <td>0.0</td>\n",
       "      <td>0.0</td>\n",
       "      <td>0.0</td>\n",
       "      <td>0.0</td>\n",
       "      <td>0.0</td>\n",
       "      <td>0.0</td>\n",
       "      <td>0.0</td>\n",
       "      <td>0.0</td>\n",
       "      <td>0.0</td>\n",
       "    </tr>\n",
       "    <tr>\n",
       "      <th>4</th>\n",
       "      <td>0.0</td>\n",
       "      <td>0.0</td>\n",
       "      <td>0.0</td>\n",
       "      <td>0.0</td>\n",
       "      <td>0.0</td>\n",
       "      <td>0.0</td>\n",
       "      <td>0.0</td>\n",
       "      <td>0.0</td>\n",
       "      <td>0.0</td>\n",
       "      <td>0.0</td>\n",
       "      <td>...</td>\n",
       "      <td>0.0</td>\n",
       "      <td>0.0</td>\n",
       "      <td>0.0</td>\n",
       "      <td>0.0</td>\n",
       "      <td>0.0</td>\n",
       "      <td>0.0</td>\n",
       "      <td>0.0</td>\n",
       "      <td>0.0</td>\n",
       "      <td>0.0</td>\n",
       "      <td>0.0</td>\n",
       "    </tr>\n",
       "  </tbody>\n",
       "</table>\n",
       "<p>5 rows × 78219 columns</p>\n",
       "</div>"
      ],
      "text/plain": [
       "   webpageDescription_0  webpageDescription_1  webpageDescription_2  \\\n",
       "0                   0.0                   0.0                   0.0   \n",
       "1                   0.0                   0.0                   0.0   \n",
       "2                   0.0                   0.0                   0.0   \n",
       "3                   0.0                   0.0                   0.0   \n",
       "4                   0.0                   0.0                   0.0   \n",
       "\n",
       "   webpageDescription_3  webpageDescription_4  webpageDescription_5  \\\n",
       "0                   0.0                   0.0                   0.0   \n",
       "1                   0.0                   0.0                   0.0   \n",
       "2                   0.0                   0.0                   0.0   \n",
       "3                   0.0                   0.0                   0.0   \n",
       "4                   0.0                   0.0                   0.0   \n",
       "\n",
       "   webpageDescription_6  webpageDescription_7  webpageDescription_8  \\\n",
       "0                   0.0                   0.0                   0.0   \n",
       "1                   0.0                   0.0                   0.0   \n",
       "2                   0.0                   0.0                   0.0   \n",
       "3                   0.0                   0.0                   0.0   \n",
       "4                   0.0                   0.0                   0.0   \n",
       "\n",
       "   webpageDescription_9  ...  alchemy_category_culture_politics  \\\n",
       "0                   0.0  ...                                0.0   \n",
       "1                   0.0  ...                                0.0   \n",
       "2                   0.0  ...                                0.0   \n",
       "3                   0.0  ...                                0.0   \n",
       "4                   0.0  ...                                0.0   \n",
       "\n",
       "   alchemy_category_gaming  alchemy_category_health  \\\n",
       "0                      0.0                      0.0   \n",
       "1                      0.0                      0.0   \n",
       "2                      0.0                      0.0   \n",
       "3                      0.0                      0.0   \n",
       "4                      0.0                      0.0   \n",
       "\n",
       "   alchemy_category_law_crime  alchemy_category_recreation  \\\n",
       "0                         0.0                          0.0   \n",
       "1                         0.0                          0.0   \n",
       "2                         0.0                          0.0   \n",
       "3                         0.0                          0.0   \n",
       "4                         0.0                          0.0   \n",
       "\n",
       "   alchemy_category_religion  alchemy_category_science_technology  \\\n",
       "0                        0.0                                  0.0   \n",
       "1                        0.0                                  1.0   \n",
       "2                        0.0                                  0.0   \n",
       "3                        0.0                                  0.0   \n",
       "4                        0.0                                  0.0   \n",
       "\n",
       "   alchemy_category_sports  alchemy_category_unknown  alchemy_category_weather  \n",
       "0                      1.0                       0.0                       0.0  \n",
       "1                      0.0                       0.0                       0.0  \n",
       "2                      0.0                       0.0                       0.0  \n",
       "3                      0.0                       0.0                       0.0  \n",
       "4                      0.0                       0.0                       0.0  \n",
       "\n",
       "[5 rows x 78219 columns]"
      ]
     },
     "execution_count": 81,
     "metadata": {},
     "output_type": "execute_result"
    }
   ],
   "source": [
    "horizontal_concat.head()"
   ]
  },
  {
   "cell_type": "markdown",
   "id": "aa4aa332",
   "metadata": {},
   "source": [
    "## 5.Train test split"
   ]
  },
  {
   "cell_type": "code",
   "execution_count": 84,
   "id": "ac5046ed",
   "metadata": {},
   "outputs": [
    {
     "name": "stdout",
     "output_type": "stream",
     "text": [
      "Shape of new dataframes - (1479, 78185) , (5916, 78185)\n"
     ]
    }
   ],
   "source": [
    "#X_test_df = df_webpageDescription.iloc[:1479,:]\n",
    "#X_train_df  = df_webpageDescription.iloc[1479:,:]\n",
    "\n",
    "\n",
    "X_test_df = horizontal_concat.iloc[:1479,:]\n",
    "X_train_df  = horizontal_concat.iloc[1479:,:]\n",
    "print(\"Shape of new dataframes - {} , {}\".format(X_test_df.shape, X_train_df.shape))"
   ]
  },
  {
   "cell_type": "code",
   "execution_count": 85,
   "id": "bf99a665",
   "metadata": {},
   "outputs": [
    {
     "name": "stdout",
     "output_type": "stream",
     "text": [
      "Y_train_df shape :  (5916,)\n"
     ]
    }
   ],
   "source": [
    "Y_train_df = train['label']\n",
    "print(\"Y_train_df shape : \",Y_train_df.shape)"
   ]
  },
  {
   "cell_type": "markdown",
   "id": "87ae597c",
   "metadata": {},
   "source": [
    "# 6.Model"
   ]
  },
  {
   "cell_type": "markdown",
   "id": "8c19fa9d",
   "metadata": {},
   "source": [
    "## 6.1 logistic regression"
   ]
  },
  {
   "cell_type": "code",
   "execution_count": 87,
   "id": "7c3329d0",
   "metadata": {
    "scrolled": true
   },
   "outputs": [],
   "source": [
    "\"\"\"using logistic regression\"\"\"\n",
    "from sklearn.linear_model import LogisticRegression\n",
    "\n",
    "# instantiate the model (using the default parameters)\n",
    "logreg = LogisticRegression(max_iter = 1500)\n",
    "\n",
    "# fit the model with data\n",
    "logreg.fit(X_train_df, Y_train_df)\n",
    "\n",
    "#[:,1] this is applied to take positive probablities\n",
    "y_pred__test_logreg=logreg.predict_proba(X_test_df)[:,1]\n",
    "y_pred_train_logreg=logreg.predict_proba(X_train_df)[:,1]"
   ]
  },
  {
   "cell_type": "code",
   "execution_count": 73,
   "id": "76ad2ff7",
   "metadata": {},
   "outputs": [],
   "source": [
    "test[\"label\"] = y_pred_logreg\n",
    "submission_log = test[[\"id\",\"label\"]]\n",
    "submission_log.to_csv(\"bowtfid_mindf1_scaled_allcolumns_1500itnolgbfs_submission201221.csv\",index=False)"
   ]
  },
  {
   "cell_type": "markdown",
   "id": "0dd8ba02",
   "metadata": {},
   "source": [
    "## 6.2 SVM"
   ]
  },
  {
   "cell_type": "code",
   "execution_count": 56,
   "id": "830e35e2",
   "metadata": {},
   "outputs": [
    {
     "data": {
      "text/plain": [
       "SVC(kernel='linear', probability=True)"
      ]
     },
     "execution_count": 56,
     "metadata": {},
     "output_type": "execute_result"
    }
   ],
   "source": [
    "#Import svm model\n",
    "from sklearn import svm\n",
    "\n",
    "#Create a svm Classifier\n",
    "clf = svm.SVC(kernel='linear',probability=True) # Linear Kernel\n",
    "\n",
    "#Train the model using the training sets\n",
    "clf.fit(X_train_df, Y_train_df)\n",
    "\n"
   ]
  },
  {
   "cell_type": "code",
   "execution_count": 57,
   "id": "ea00e6b7",
   "metadata": {},
   "outputs": [],
   "source": [
    "#Predict the response for test dataset\n",
    "y_pred = clf.predict_proba(X_test_df)[:,1]"
   ]
  },
  {
   "cell_type": "code",
   "execution_count": 58,
   "id": "e40b2e89",
   "metadata": {},
   "outputs": [],
   "source": [
    "test[\"label\"] = y_pred_logreg\n",
    "submission_log = test[[\"id\",\"label\"]]\n",
    "submission_log.to_csv(\"bowtfid_mindf1_scaled_allcolumns_svm_submission008.csv\",index=False)"
   ]
  },
  {
   "cell_type": "code",
   "execution_count": null,
   "id": "917abccc",
   "metadata": {},
   "outputs": [],
   "source": []
  },
  {
   "cell_type": "code",
   "execution_count": null,
   "id": "a7d1ec6a",
   "metadata": {},
   "outputs": [],
   "source": []
  },
  {
   "cell_type": "markdown",
   "id": "a47d4d2e",
   "metadata": {},
   "source": [
    "## 6.3 Random forest"
   ]
  },
  {
   "cell_type": "code",
   "execution_count": 245,
   "id": "dab5085b",
   "metadata": {},
   "outputs": [],
   "source": [
    "# importing random forest classifier from assemble module\n",
    "from sklearn.ensemble import RandomForestClassifier"
   ]
  },
  {
   "cell_type": "code",
   "execution_count": 246,
   "id": "940c5223",
   "metadata": {},
   "outputs": [],
   "source": [
    "# creating a RF classifier\n",
    "clf = RandomForestClassifier(n_estimators = 1000) \n",
    " \n",
    "# Training the model on the training dataset\n",
    "# fit function is used to train the model using the training sets as parameters\n",
    "clf.fit(X_train_df, Y_train_df)\n",
    " \n",
    "# performing predictions on the test dataset\n",
    "y_pred = clf.predict_proba(X_test_df)[:,1]"
   ]
  },
  {
   "cell_type": "code",
   "execution_count": 247,
   "id": "94cf9c36",
   "metadata": {},
   "outputs": [],
   "source": [
    "test[\"label\"] = y_pred\n",
    "submission_log = test[[\"id\",\"label\"]]\n",
    "submission_log.to_csv(\"bowtfid_mindf1_scaled_allcolumns_randomforest_submission016.csv\",index=False)"
   ]
  },
  {
   "cell_type": "code",
   "execution_count": null,
   "id": "42dc7e5f",
   "metadata": {},
   "outputs": [],
   "source": []
  },
  {
   "cell_type": "markdown",
   "id": "c3f7ac63",
   "metadata": {},
   "source": [
    "## 6.4 Simple Xgboost classifier"
   ]
  },
  {
   "cell_type": "code",
   "execution_count": null,
   "id": "99fe6523",
   "metadata": {},
   "outputs": [
    {
     "name": "stderr",
     "output_type": "stream",
     "text": [
      "C:\\Users\\Vishwa\\anaconda3\\lib\\site-packages\\xgboost\\sklearn.py:1224: UserWarning: The use of label encoder in XGBClassifier is deprecated and will be removed in a future release. To remove this warning, do the following: 1) Pass option use_label_encoder=False when constructing XGBClassifier object; and 2) Encode your labels (y) as integers starting with 0, i.e. 0, 1, 2, ..., [num_class - 1].\n",
      "  warnings.warn(label_encoder_deprecation_msg, UserWarning)\n"
     ]
    },
    {
     "name": "stdout",
     "output_type": "stream",
     "text": [
      "[05:16:58] WARNING: C:/Users/Administrator/workspace/xgboost-win64_release_1.5.1/src/learner.cc:1115: Starting in XGBoost 1.3.0, the default evaluation metric used with the objective 'binary:logistic' was changed from 'error' to 'logloss'. Explicitly set eval_metric if you'd like to restore the old behavior.\n"
     ]
    }
   ],
   "source": [
    "# Fitting a simple xgboost on tf-idf\n",
    "clf = xgb.XGBClassifier(max_depth=7, n_estimators=200, colsample_bytree=0.8, \n",
    "                        subsample=0.8, nthread=10, learning_rate=0.1)\n",
    "clf.fit(X_train_df, Y_train_df)"
   ]
  },
  {
   "cell_type": "code",
   "execution_count": null,
   "id": "a1b8fec4",
   "metadata": {},
   "outputs": [],
   "source": [
    "y_pred_xgboost= clf.predict_proba(X_test_df)[:,1]"
   ]
  },
  {
   "cell_type": "code",
   "execution_count": null,
   "id": "2b7b1e5e",
   "metadata": {},
   "outputs": [],
   "source": [
    "test[\"label\"] = y_pred_xgboost\n",
    "submission_log = test[[\"id\",\"label\"]]\n",
    "submission_log.to_csv(\"bowtfid_mindf1_scaled_allcolumns_xgboost_submission201221.csv\",index=False)"
   ]
  },
  {
   "cell_type": "code",
   "execution_count": null,
   "id": "cd57ed5c",
   "metadata": {},
   "outputs": [],
   "source": []
  }
 ],
 "metadata": {
  "kernelspec": {
   "display_name": "Python 3",
   "language": "python",
   "name": "python3"
  },
  "language_info": {
   "codemirror_mode": {
    "name": "ipython",
    "version": 3
   },
   "file_extension": ".py",
   "mimetype": "text/x-python",
   "name": "python",
   "nbconvert_exporter": "python",
   "pygments_lexer": "ipython3",
   "version": "3.8.8"
  }
 },
 "nbformat": 4,
 "nbformat_minor": 5
}
