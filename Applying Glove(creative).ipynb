{
 "cells": [
  {
   "cell_type": "markdown",
   "id": "b7e1531b",
   "metadata": {},
   "source": [
    "# 1.Imports"
   ]
  },
  {
   "cell_type": "code",
   "execution_count": 2,
   "id": "66be0f79",
   "metadata": {},
   "outputs": [
    {
     "name": "stdout",
     "output_type": "stream",
     "text": [
      "Requirement already satisfied: xgboost in c:\\users\\vishwa\\anaconda3\\lib\\site-packages (1.5.1)\n",
      "Requirement already satisfied: numpy in c:\\users\\vishwa\\anaconda3\\lib\\site-packages (from xgboost) (1.20.1)\n",
      "Requirement already satisfied: scipy in c:\\users\\vishwa\\anaconda3\\lib\\site-packages (from xgboost) (1.6.2)\n",
      "Requirement already satisfied: tqdm in c:\\users\\vishwa\\anaconda3\\lib\\site-packages (4.59.0)\n",
      "Requirement already satisfied: lightgbm in c:\\users\\vishwa\\anaconda3\\lib\\site-packages (3.3.1)\n",
      "Requirement already satisfied: scikit-learn!=0.22.0 in c:\\users\\vishwa\\anaconda3\\lib\\site-packages (from lightgbm) (0.24.1)\n",
      "Requirement already satisfied: numpy in c:\\users\\vishwa\\anaconda3\\lib\\site-packages (from lightgbm) (1.20.1)\n",
      "Requirement already satisfied: wheel in c:\\users\\vishwa\\anaconda3\\lib\\site-packages (from lightgbm) (0.36.2)\n",
      "Requirement already satisfied: scipy in c:\\users\\vishwa\\anaconda3\\lib\\site-packages (from lightgbm) (1.6.2)\n",
      "Requirement already satisfied: joblib>=0.11 in c:\\users\\vishwa\\anaconda3\\lib\\site-packages (from scikit-learn!=0.22.0->lightgbm) (1.0.1)\n",
      "Requirement already satisfied: threadpoolctl>=2.0.0 in c:\\users\\vishwa\\anaconda3\\lib\\site-packages (from scikit-learn!=0.22.0->lightgbm) (2.1.0)\n"
     ]
    },
    {
     "name": "stderr",
     "output_type": "stream",
     "text": [
      "[nltk_data] Downloading package punkt to\n",
      "[nltk_data]     C:\\Users\\Vishwa\\AppData\\Roaming\\nltk_data...\n",
      "[nltk_data]   Package punkt is already up-to-date!\n",
      "[nltk_data] Downloading package stopwords to\n",
      "[nltk_data]     C:\\Users\\Vishwa\\AppData\\Roaming\\nltk_data...\n",
      "[nltk_data]   Package stopwords is already up-to-date!\n",
      "[nltk_data] Downloading package wordnet to\n",
      "[nltk_data]     C:\\Users\\Vishwa\\AppData\\Roaming\\nltk_data...\n",
      "[nltk_data]   Package wordnet is already up-to-date!\n"
     ]
    }
   ],
   "source": [
    "import sys\n",
    "!{sys.executable} -m pip install xgboost\n",
    "!{sys.executable} -m pip install tqdm\n",
    "!{sys.executable} -m pip install lightgbm\n",
    "from tqdm import tqdm\n",
    "import numpy as np \n",
    "import pandas as pd\n",
    "import nltk\n",
    "import matplotlib.pyplot as plt \n",
    "import seaborn as sns \n",
    "import re\n",
    "import random\n",
    "import nltk\n",
    "import string\n",
    "from nltk.tokenize import word_tokenize\n",
    "from nltk.corpus import stopwords\n",
    "from nltk.stem.porter import PorterStemmer\n",
    "from nltk.stem import SnowballStemmer\n",
    "nltk.download('punkt')\n",
    "nltk.download('stopwords')\n",
    "nltk.download('wordnet')\n",
    "from nltk.stem import WordNetLemmatizer\n",
    "import xgboost as xgb\n",
    "from sklearn.metrics import accuracy_score\n",
    "from sklearn.metrics import matthews_corrcoef\n",
    "from sklearn.metrics import f1_score"
   ]
  },
  {
   "cell_type": "code",
   "execution_count": 3,
   "id": "0b09a45f",
   "metadata": {},
   "outputs": [
    {
     "name": "stdout",
     "output_type": "stream",
     "text": [
      "Train shape :  (5916, 27) \tTest shape :  (1479, 26)\n"
     ]
    }
   ],
   "source": [
    "train = pd.read_csv(\"./help-boost-our-online-reach/train_data.csv\")\n",
    "test = pd.read_csv(\"./help-boost-our-online-reach/test_data.csv\")\n",
    "print(\"Train shape : \",train.shape,\"\\tTest shape : \", test.shape)"
   ]
  },
  {
   "cell_type": "code",
   "execution_count": 4,
   "id": "5d1de0d4",
   "metadata": {},
   "outputs": [],
   "source": [
    "test['label'] = 2\n",
    "test['indicator'] = 0\n",
    "train['indicator'] = 1\n",
    "train_df = pd.concat([test,train])"
   ]
  },
  {
   "cell_type": "code",
   "execution_count": 5,
   "id": "a57572e2",
   "metadata": {},
   "outputs": [
    {
     "data": {
      "text/html": [
       "<div>\n",
       "<style scoped>\n",
       "    .dataframe tbody tr th:only-of-type {\n",
       "        vertical-align: middle;\n",
       "    }\n",
       "\n",
       "    .dataframe tbody tr th {\n",
       "        vertical-align: top;\n",
       "    }\n",
       "\n",
       "    .dataframe thead th {\n",
       "        text-align: right;\n",
       "    }\n",
       "</style>\n",
       "<table border=\"1\" class=\"dataframe\">\n",
       "  <thead>\n",
       "    <tr style=\"text-align: right;\">\n",
       "      <th></th>\n",
       "      <th>url</th>\n",
       "      <th>webpageDescription</th>\n",
       "      <th>alchemy_category</th>\n",
       "      <th>alchemy_category_score</th>\n",
       "      <th>avgLinkWordLength</th>\n",
       "      <th>AvglinkWithOneCommonWord</th>\n",
       "      <th>AvglinkWithTwoCommonWord</th>\n",
       "      <th>AvglinkWithThreeCommonWord</th>\n",
       "      <th>AvglinkWithFourCommonWord</th>\n",
       "      <th>redundancyMeasure</th>\n",
       "      <th>...</th>\n",
       "      <th>hyperlinkToAllWordsRatio</th>\n",
       "      <th>isFrontPageNews</th>\n",
       "      <th>alphanumCharCount</th>\n",
       "      <th>linksCount</th>\n",
       "      <th>wordCount</th>\n",
       "      <th>parametrizedLinkRatio</th>\n",
       "      <th>spellingErrorsRatio</th>\n",
       "      <th>id</th>\n",
       "      <th>label</th>\n",
       "      <th>indicator</th>\n",
       "    </tr>\n",
       "  </thead>\n",
       "  <tbody>\n",
       "    <tr>\n",
       "      <th>0</th>\n",
       "      <td>http://www.ocweekly.com/2013-04-11/news/deport...</td>\n",
       "      <td>{\"url\":\"ocweekly 2013 04 11 news deported mexi...</td>\n",
       "      <td>sports</td>\n",
       "      <td>0.300004</td>\n",
       "      <td>2.307692</td>\n",
       "      <td>0.424749</td>\n",
       "      <td>0.190635</td>\n",
       "      <td>0.036789</td>\n",
       "      <td>0.020067</td>\n",
       "      <td>0.439444</td>\n",
       "      <td>...</td>\n",
       "      <td>23</td>\n",
       "      <td>0</td>\n",
       "      <td>8670</td>\n",
       "      <td>299</td>\n",
       "      <td>9</td>\n",
       "      <td>0.397993</td>\n",
       "      <td>0.098242</td>\n",
       "      <td>7172</td>\n",
       "      <td>2</td>\n",
       "      <td>0</td>\n",
       "    </tr>\n",
       "    <tr>\n",
       "      <th>1</th>\n",
       "      <td>http://www.youbeauty.com/nutrition/galleries/1...</td>\n",
       "      <td>{\"title\":\"10 Exotic Fruits Vegetables 10 exoti...</td>\n",
       "      <td>science_technology</td>\n",
       "      <td>0.625228</td>\n",
       "      <td>1.712500</td>\n",
       "      <td>0.492063</td>\n",
       "      <td>0.301587</td>\n",
       "      <td>0.005291</td>\n",
       "      <td>0.000000</td>\n",
       "      <td>0.488178</td>\n",
       "      <td>...</td>\n",
       "      <td>26</td>\n",
       "      <td>0</td>\n",
       "      <td>3800</td>\n",
       "      <td>189</td>\n",
       "      <td>6</td>\n",
       "      <td>0.137566</td>\n",
       "      <td>0.089463</td>\n",
       "      <td>2687</td>\n",
       "      <td>2</td>\n",
       "      <td>0</td>\n",
       "    </tr>\n",
       "    <tr>\n",
       "      <th>2</th>\n",
       "      <td>http://www.you-made-that.com/skinny-german-cho...</td>\n",
       "      <td>{\"title\":\"Skinny German Chocolate Cookies \",\"b...</td>\n",
       "      <td>?</td>\n",
       "      <td>?</td>\n",
       "      <td>1.400000</td>\n",
       "      <td>0.207547</td>\n",
       "      <td>0.018868</td>\n",
       "      <td>0.000000</td>\n",
       "      <td>0.000000</td>\n",
       "      <td>0.513166</td>\n",
       "      <td>...</td>\n",
       "      <td>12</td>\n",
       "      <td>0</td>\n",
       "      <td>2253</td>\n",
       "      <td>53</td>\n",
       "      <td>4</td>\n",
       "      <td>0.132075</td>\n",
       "      <td>0.070922</td>\n",
       "      <td>6990</td>\n",
       "      <td>2</td>\n",
       "      <td>0</td>\n",
       "    </tr>\n",
       "    <tr>\n",
       "      <th>3</th>\n",
       "      <td>http://drpullen.com/carpediem/</td>\n",
       "      <td>{\"title\":\"Carpe Diem DrPullen com Medical and ...</td>\n",
       "      <td>?</td>\n",
       "      <td>?</td>\n",
       "      <td>1.600000</td>\n",
       "      <td>0.303030</td>\n",
       "      <td>0.000000</td>\n",
       "      <td>0.000000</td>\n",
       "      <td>0.000000</td>\n",
       "      <td>0.461538</td>\n",
       "      <td>...</td>\n",
       "      <td>6</td>\n",
       "      <td>0</td>\n",
       "      <td>3266</td>\n",
       "      <td>33</td>\n",
       "      <td>1</td>\n",
       "      <td>0.060606</td>\n",
       "      <td>0.100000</td>\n",
       "      <td>5639</td>\n",
       "      <td>2</td>\n",
       "      <td>0</td>\n",
       "    </tr>\n",
       "    <tr>\n",
       "      <th>4</th>\n",
       "      <td>http://bradcolbow.com/archive/view/the_brads_t...</td>\n",
       "      <td>{\"title\":\"Brad Colbow Independent Web Designer...</td>\n",
       "      <td>computer_internet</td>\n",
       "      <td>0.85</td>\n",
       "      <td>3.967213</td>\n",
       "      <td>0.596330</td>\n",
       "      <td>0.449541</td>\n",
       "      <td>0.431193</td>\n",
       "      <td>0.422018</td>\n",
       "      <td>0.505411</td>\n",
       "      <td>...</td>\n",
       "      <td>7</td>\n",
       "      <td>0</td>\n",
       "      <td>13721</td>\n",
       "      <td>109</td>\n",
       "      <td>9</td>\n",
       "      <td>0.027523</td>\n",
       "      <td>0.144509</td>\n",
       "      <td>2701</td>\n",
       "      <td>2</td>\n",
       "      <td>0</td>\n",
       "    </tr>\n",
       "  </tbody>\n",
       "</table>\n",
       "<p>5 rows × 28 columns</p>\n",
       "</div>"
      ],
      "text/plain": [
       "                                                 url  \\\n",
       "0  http://www.ocweekly.com/2013-04-11/news/deport...   \n",
       "1  http://www.youbeauty.com/nutrition/galleries/1...   \n",
       "2  http://www.you-made-that.com/skinny-german-cho...   \n",
       "3                     http://drpullen.com/carpediem/   \n",
       "4  http://bradcolbow.com/archive/view/the_brads_t...   \n",
       "\n",
       "                                  webpageDescription    alchemy_category  \\\n",
       "0  {\"url\":\"ocweekly 2013 04 11 news deported mexi...              sports   \n",
       "1  {\"title\":\"10 Exotic Fruits Vegetables 10 exoti...  science_technology   \n",
       "2  {\"title\":\"Skinny German Chocolate Cookies \",\"b...                   ?   \n",
       "3  {\"title\":\"Carpe Diem DrPullen com Medical and ...                   ?   \n",
       "4  {\"title\":\"Brad Colbow Independent Web Designer...   computer_internet   \n",
       "\n",
       "  alchemy_category_score  avgLinkWordLength  AvglinkWithOneCommonWord  \\\n",
       "0               0.300004           2.307692                  0.424749   \n",
       "1               0.625228           1.712500                  0.492063   \n",
       "2                      ?           1.400000                  0.207547   \n",
       "3                      ?           1.600000                  0.303030   \n",
       "4                   0.85           3.967213                  0.596330   \n",
       "\n",
       "   AvglinkWithTwoCommonWord  AvglinkWithThreeCommonWord  \\\n",
       "0                  0.190635                    0.036789   \n",
       "1                  0.301587                    0.005291   \n",
       "2                  0.018868                    0.000000   \n",
       "3                  0.000000                    0.000000   \n",
       "4                  0.449541                    0.431193   \n",
       "\n",
       "   AvglinkWithFourCommonWord  redundancyMeasure  ...  \\\n",
       "0                   0.020067           0.439444  ...   \n",
       "1                   0.000000           0.488178  ...   \n",
       "2                   0.000000           0.513166  ...   \n",
       "3                   0.000000           0.461538  ...   \n",
       "4                   0.422018           0.505411  ...   \n",
       "\n",
       "   hyperlinkToAllWordsRatio  isFrontPageNews  alphanumCharCount  linksCount  \\\n",
       "0                        23                0               8670         299   \n",
       "1                        26                0               3800         189   \n",
       "2                        12                0               2253          53   \n",
       "3                         6                0               3266          33   \n",
       "4                         7                0              13721         109   \n",
       "\n",
       "   wordCount  parametrizedLinkRatio spellingErrorsRatio    id  label indicator  \n",
       "0          9               0.397993            0.098242  7172      2         0  \n",
       "1          6               0.137566            0.089463  2687      2         0  \n",
       "2          4               0.132075            0.070922  6990      2         0  \n",
       "3          1               0.060606            0.100000  5639      2         0  \n",
       "4          9               0.027523            0.144509  2701      2         0  \n",
       "\n",
       "[5 rows x 28 columns]"
      ]
     },
     "execution_count": 5,
     "metadata": {},
     "output_type": "execute_result"
    }
   ],
   "source": [
    "train_df.head()"
   ]
  },
  {
   "cell_type": "markdown",
   "id": "1b980109",
   "metadata": {},
   "source": [
    "# 2.EDA "
   ]
  },
  {
   "cell_type": "markdown",
   "id": "24903ea8",
   "metadata": {},
   "source": [
    "## 2.1 checking null values"
   ]
  },
  {
   "cell_type": "code",
   "execution_count": 6,
   "id": "2cf8110c",
   "metadata": {},
   "outputs": [
    {
     "data": {
      "text/plain": [
       "url                           0\n",
       "webpageDescription            0\n",
       "alchemy_category              0\n",
       "alchemy_category_score        0\n",
       "avgLinkWordLength             0\n",
       "AvglinkWithOneCommonWord      0\n",
       "AvglinkWithTwoCommonWord      0\n",
       "AvglinkWithThreeCommonWord    0\n",
       "AvglinkWithFourCommonWord     0\n",
       "redundancyMeasure             0\n",
       "embedRatio                    0\n",
       "framebased                    0\n",
       "frameTagRatio                 0\n",
       "domainLink                    0\n",
       "tagRatio                      0\n",
       "imageTagRatio                 0\n",
       "isNews                        0\n",
       "lengthyDomain                 0\n",
       "hyperlinkToAllWordsRatio      0\n",
       "isFrontPageNews               0\n",
       "alphanumCharCount             0\n",
       "linksCount                    0\n",
       "wordCount                     0\n",
       "parametrizedLinkRatio         0\n",
       "spellingErrorsRatio           0\n",
       "id                            0\n",
       "label                         0\n",
       "indicator                     0\n",
       "dtype: int64"
      ]
     },
     "execution_count": 6,
     "metadata": {},
     "output_type": "execute_result"
    }
   ],
   "source": [
    "train_df.isna().sum()"
   ]
  },
  {
   "cell_type": "code",
   "execution_count": 7,
   "id": "72e0dcb5",
   "metadata": {},
   "outputs": [
    {
     "data": {
      "text/plain": [
       "url                              0\n",
       "webpageDescription               0\n",
       "alchemy_category              2342\n",
       "alchemy_category_score        2342\n",
       "avgLinkWordLength                0\n",
       "AvglinkWithOneCommonWord         0\n",
       "AvglinkWithTwoCommonWord         0\n",
       "AvglinkWithThreeCommonWord       0\n",
       "AvglinkWithFourCommonWord        0\n",
       "redundancyMeasure                0\n",
       "embedRatio                       0\n",
       "framebased                       0\n",
       "frameTagRatio                    0\n",
       "domainLink                       0\n",
       "tagRatio                         0\n",
       "imageTagRatio                    0\n",
       "isNews                        2843\n",
       "lengthyDomain                    0\n",
       "hyperlinkToAllWordsRatio         0\n",
       "isFrontPageNews               1248\n",
       "alphanumCharCount                0\n",
       "linksCount                       0\n",
       "wordCount                        0\n",
       "parametrizedLinkRatio            0\n",
       "spellingErrorsRatio              0\n",
       "id                               0\n",
       "label                            0\n",
       "indicator                        0\n",
       "dtype: int64"
      ]
     },
     "execution_count": 7,
     "metadata": {},
     "output_type": "execute_result"
    }
   ],
   "source": [
    "(train_df == \"?\").sum()"
   ]
  },
  {
   "cell_type": "code",
   "execution_count": 8,
   "id": "5184c420",
   "metadata": {},
   "outputs": [
    {
     "data": {
      "text/plain": [
       "?                     2342\n",
       "recreation            1229\n",
       "arts_entertainment     941\n",
       "business               880\n",
       "health                 506\n",
       "sports                 380\n",
       "culture_politics       343\n",
       "computer_internet      296\n",
       "science_technology     289\n",
       "gaming                  76\n",
       "religion                72\n",
       "law_crime               31\n",
       "unknown                  6\n",
       "weather                  4\n",
       "Name: alchemy_category, dtype: int64"
      ]
     },
     "execution_count": 8,
     "metadata": {},
     "output_type": "execute_result"
    }
   ],
   "source": [
    "train_df['alchemy_category'].value_counts()"
   ]
  },
  {
   "cell_type": "code",
   "execution_count": 9,
   "id": "a4940204",
   "metadata": {},
   "outputs": [
    {
     "data": {
      "text/plain": [
       "<AxesSubplot:>"
      ]
     },
     "execution_count": 9,
     "metadata": {},
     "output_type": "execute_result"
    },
    {
     "data": {
      "image/png": "[encoded data removed]",
      "text/plain": [
       "<Figure size 432x288 with 1 Axes>"
      ]
     },
     "metadata": {
      "needs_background": "light"
     },
     "output_type": "display_data"
    }
   ],
   "source": [
    "train_df['alchemy_category'].value_counts()[:10].plot(kind='barh')"
   ]
  },
  {
   "cell_type": "code",
   "execution_count": 10,
   "id": "3ae0dca6",
   "metadata": {},
   "outputs": [
    {
     "data": {
      "text/plain": [
       "0                   sports\n",
       "1       science_technology\n",
       "2                 religion\n",
       "3                 religion\n",
       "4        computer_internet\n",
       "               ...        \n",
       "5911              business\n",
       "5912             law_crime\n",
       "5913              business\n",
       "5914            recreation\n",
       "5915            recreation\n",
       "Name: alchemy_category, Length: 7395, dtype: object"
      ]
     },
     "execution_count": 10,
     "metadata": {},
     "output_type": "execute_result"
    }
   ],
   "source": [
    "# replacing ? values with random value\n",
    "train_df['alchemy_category'] = train_df['alchemy_category'].replace(to_replace =\"?\",value =random.choice(train_df['alchemy_category'].values.tolist()))\n",
    "train_df['alchemy_category']"
   ]
  },
  {
   "cell_type": "code",
   "execution_count": 11,
   "id": "a561c72a",
   "metadata": {},
   "outputs": [],
   "source": [
    "train_df['alchemy_category_score'] = train_df['alchemy_category_score'].replace(to_replace =\"?\",value = np.NaN)\n",
    "train_df['alchemy_category_score'] = train_df['alchemy_category_score'].astype('float')"
   ]
  },
  {
   "cell_type": "code",
   "execution_count": 12,
   "id": "6100a03f",
   "metadata": {},
   "outputs": [
    {
     "name": "stdout",
     "output_type": "stream",
     "text": [
      "median:  0.625616\n",
      "mean :  0.6033343166237869\n"
     ]
    }
   ],
   "source": [
    "print('median: ',train_df['alchemy_category_score'].median())\n",
    "print('mean : ',train_df['alchemy_category_score'].mean())"
   ]
  },
  {
   "cell_type": "code",
   "execution_count": 13,
   "id": "9aa4253c",
   "metadata": {},
   "outputs": [],
   "source": [
    "train_df['alchemy_category_score'].fillna(train_df['alchemy_category_score'].mean(), inplace=True)"
   ]
  },
  {
   "cell_type": "code",
   "execution_count": 14,
   "id": "5663157c",
   "metadata": {},
   "outputs": [
    {
     "data": {
      "text/plain": [
       "0    1\n",
       "dtype: object"
      ]
     },
     "execution_count": 14,
     "metadata": {},
     "output_type": "execute_result"
    }
   ],
   "source": [
    "train_df['isNews'].mode()"
   ]
  },
  {
   "cell_type": "code",
   "execution_count": 15,
   "id": "c2173a96",
   "metadata": {},
   "outputs": [
    {
     "data": {
      "text/plain": [
       "0    0\n",
       "dtype: object"
      ]
     },
     "execution_count": 15,
     "metadata": {},
     "output_type": "execute_result"
    }
   ],
   "source": [
    "train_df['isFrontPageNews'].mode()"
   ]
  },
  {
   "cell_type": "code",
   "execution_count": 16,
   "id": "6a99a415",
   "metadata": {},
   "outputs": [],
   "source": [
    "train_df['isFrontPageNews'] = train_df['isFrontPageNews'].replace(to_replace =\"?\",value =0)\n",
    "train_df['isNews'] = train_df['isNews'].replace(to_replace =\"?\",value =1)"
   ]
  },
  {
   "cell_type": "code",
   "execution_count": 17,
   "id": "94ad669b",
   "metadata": {},
   "outputs": [],
   "source": [
    "train_df['isNews']=train_df['isNews'].astype('float')\n",
    "train_df['isFrontPageNews']=train_df['isFrontPageNews'].astype('float')"
   ]
  },
  {
   "cell_type": "code",
   "execution_count": 18,
   "id": "3b1df57b",
   "metadata": {},
   "outputs": [
    {
     "data": {
      "text/plain": [
       "url                           0\n",
       "webpageDescription            0\n",
       "alchemy_category              0\n",
       "alchemy_category_score        0\n",
       "avgLinkWordLength             0\n",
       "AvglinkWithOneCommonWord      0\n",
       "AvglinkWithTwoCommonWord      0\n",
       "AvglinkWithThreeCommonWord    0\n",
       "AvglinkWithFourCommonWord     0\n",
       "redundancyMeasure             0\n",
       "embedRatio                    0\n",
       "framebased                    0\n",
       "frameTagRatio                 0\n",
       "domainLink                    0\n",
       "tagRatio                      0\n",
       "imageTagRatio                 0\n",
       "isNews                        0\n",
       "lengthyDomain                 0\n",
       "hyperlinkToAllWordsRatio      0\n",
       "isFrontPageNews               0\n",
       "alphanumCharCount             0\n",
       "linksCount                    0\n",
       "wordCount                     0\n",
       "parametrizedLinkRatio         0\n",
       "spellingErrorsRatio           0\n",
       "id                            0\n",
       "label                         0\n",
       "indicator                     0\n",
       "dtype: int64"
      ]
     },
     "execution_count": 18,
     "metadata": {},
     "output_type": "execute_result"
    }
   ],
   "source": [
    "(train_df == \"?\").sum()"
   ]
  },
  {
   "cell_type": "code",
   "execution_count": 19,
   "id": "ed5f5784",
   "metadata": {},
   "outputs": [
    {
     "data": {
      "text/html": [
       "<div>\n",
       "<style scoped>\n",
       "    .dataframe tbody tr th:only-of-type {\n",
       "        vertical-align: middle;\n",
       "    }\n",
       "\n",
       "    .dataframe tbody tr th {\n",
       "        vertical-align: top;\n",
       "    }\n",
       "\n",
       "    .dataframe thead th {\n",
       "        text-align: right;\n",
       "    }\n",
       "</style>\n",
       "<table border=\"1\" class=\"dataframe\">\n",
       "  <thead>\n",
       "    <tr style=\"text-align: right;\">\n",
       "      <th></th>\n",
       "      <th>url</th>\n",
       "      <th>webpageDescription</th>\n",
       "      <th>alchemy_category</th>\n",
       "      <th>alchemy_category_score</th>\n",
       "      <th>avgLinkWordLength</th>\n",
       "      <th>AvglinkWithOneCommonWord</th>\n",
       "      <th>AvglinkWithTwoCommonWord</th>\n",
       "      <th>AvglinkWithThreeCommonWord</th>\n",
       "      <th>AvglinkWithFourCommonWord</th>\n",
       "      <th>redundancyMeasure</th>\n",
       "      <th>...</th>\n",
       "      <th>hyperlinkToAllWordsRatio</th>\n",
       "      <th>isFrontPageNews</th>\n",
       "      <th>alphanumCharCount</th>\n",
       "      <th>linksCount</th>\n",
       "      <th>wordCount</th>\n",
       "      <th>parametrizedLinkRatio</th>\n",
       "      <th>spellingErrorsRatio</th>\n",
       "      <th>id</th>\n",
       "      <th>label</th>\n",
       "      <th>indicator</th>\n",
       "    </tr>\n",
       "  </thead>\n",
       "  <tbody>\n",
       "    <tr>\n",
       "      <th>0</th>\n",
       "      <td>http://www.ocweekly.com/2013-04-11/news/deport...</td>\n",
       "      <td>{\"url\":\"ocweekly 2013 04 11 news deported mexi...</td>\n",
       "      <td>sports</td>\n",
       "      <td>0.300004</td>\n",
       "      <td>2.307692</td>\n",
       "      <td>0.424749</td>\n",
       "      <td>0.190635</td>\n",
       "      <td>0.036789</td>\n",
       "      <td>0.020067</td>\n",
       "      <td>0.439444</td>\n",
       "      <td>...</td>\n",
       "      <td>23</td>\n",
       "      <td>0.0</td>\n",
       "      <td>8670</td>\n",
       "      <td>299</td>\n",
       "      <td>9</td>\n",
       "      <td>0.397993</td>\n",
       "      <td>0.098242</td>\n",
       "      <td>7172</td>\n",
       "      <td>2</td>\n",
       "      <td>0</td>\n",
       "    </tr>\n",
       "    <tr>\n",
       "      <th>1</th>\n",
       "      <td>http://www.youbeauty.com/nutrition/galleries/1...</td>\n",
       "      <td>{\"title\":\"10 Exotic Fruits Vegetables 10 exoti...</td>\n",
       "      <td>science_technology</td>\n",
       "      <td>0.625228</td>\n",
       "      <td>1.712500</td>\n",
       "      <td>0.492063</td>\n",
       "      <td>0.301587</td>\n",
       "      <td>0.005291</td>\n",
       "      <td>0.000000</td>\n",
       "      <td>0.488178</td>\n",
       "      <td>...</td>\n",
       "      <td>26</td>\n",
       "      <td>0.0</td>\n",
       "      <td>3800</td>\n",
       "      <td>189</td>\n",
       "      <td>6</td>\n",
       "      <td>0.137566</td>\n",
       "      <td>0.089463</td>\n",
       "      <td>2687</td>\n",
       "      <td>2</td>\n",
       "      <td>0</td>\n",
       "    </tr>\n",
       "    <tr>\n",
       "      <th>2</th>\n",
       "      <td>http://www.you-made-that.com/skinny-german-cho...</td>\n",
       "      <td>{\"title\":\"Skinny German Chocolate Cookies \",\"b...</td>\n",
       "      <td>religion</td>\n",
       "      <td>0.603334</td>\n",
       "      <td>1.400000</td>\n",
       "      <td>0.207547</td>\n",
       "      <td>0.018868</td>\n",
       "      <td>0.000000</td>\n",
       "      <td>0.000000</td>\n",
       "      <td>0.513166</td>\n",
       "      <td>...</td>\n",
       "      <td>12</td>\n",
       "      <td>0.0</td>\n",
       "      <td>2253</td>\n",
       "      <td>53</td>\n",
       "      <td>4</td>\n",
       "      <td>0.132075</td>\n",
       "      <td>0.070922</td>\n",
       "      <td>6990</td>\n",
       "      <td>2</td>\n",
       "      <td>0</td>\n",
       "    </tr>\n",
       "    <tr>\n",
       "      <th>3</th>\n",
       "      <td>http://drpullen.com/carpediem/</td>\n",
       "      <td>{\"title\":\"Carpe Diem DrPullen com Medical and ...</td>\n",
       "      <td>religion</td>\n",
       "      <td>0.603334</td>\n",
       "      <td>1.600000</td>\n",
       "      <td>0.303030</td>\n",
       "      <td>0.000000</td>\n",
       "      <td>0.000000</td>\n",
       "      <td>0.000000</td>\n",
       "      <td>0.461538</td>\n",
       "      <td>...</td>\n",
       "      <td>6</td>\n",
       "      <td>0.0</td>\n",
       "      <td>3266</td>\n",
       "      <td>33</td>\n",
       "      <td>1</td>\n",
       "      <td>0.060606</td>\n",
       "      <td>0.100000</td>\n",
       "      <td>5639</td>\n",
       "      <td>2</td>\n",
       "      <td>0</td>\n",
       "    </tr>\n",
       "    <tr>\n",
       "      <th>4</th>\n",
       "      <td>http://bradcolbow.com/archive/view/the_brads_t...</td>\n",
       "      <td>{\"title\":\"Brad Colbow Independent Web Designer...</td>\n",
       "      <td>computer_internet</td>\n",
       "      <td>0.850000</td>\n",
       "      <td>3.967213</td>\n",
       "      <td>0.596330</td>\n",
       "      <td>0.449541</td>\n",
       "      <td>0.431193</td>\n",
       "      <td>0.422018</td>\n",
       "      <td>0.505411</td>\n",
       "      <td>...</td>\n",
       "      <td>7</td>\n",
       "      <td>0.0</td>\n",
       "      <td>13721</td>\n",
       "      <td>109</td>\n",
       "      <td>9</td>\n",
       "      <td>0.027523</td>\n",
       "      <td>0.144509</td>\n",
       "      <td>2701</td>\n",
       "      <td>2</td>\n",
       "      <td>0</td>\n",
       "    </tr>\n",
       "  </tbody>\n",
       "</table>\n",
       "<p>5 rows × 28 columns</p>\n",
       "</div>"
      ],
      "text/plain": [
       "                                                 url  \\\n",
       "0  http://www.ocweekly.com/2013-04-11/news/deport...   \n",
       "1  http://www.youbeauty.com/nutrition/galleries/1...   \n",
       "2  http://www.you-made-that.com/skinny-german-cho...   \n",
       "3                     http://drpullen.com/carpediem/   \n",
       "4  http://bradcolbow.com/archive/view/the_brads_t...   \n",
       "\n",
       "                                  webpageDescription    alchemy_category  \\\n",
       "0  {\"url\":\"ocweekly 2013 04 11 news deported mexi...              sports   \n",
       "1  {\"title\":\"10 Exotic Fruits Vegetables 10 exoti...  science_technology   \n",
       "2  {\"title\":\"Skinny German Chocolate Cookies \",\"b...            religion   \n",
       "3  {\"title\":\"Carpe Diem DrPullen com Medical and ...            religion   \n",
       "4  {\"title\":\"Brad Colbow Independent Web Designer...   computer_internet   \n",
       "\n",
       "   alchemy_category_score  avgLinkWordLength  AvglinkWithOneCommonWord  \\\n",
       "0                0.300004           2.307692                  0.424749   \n",
       "1                0.625228           1.712500                  0.492063   \n",
       "2                0.603334           1.400000                  0.207547   \n",
       "3                0.603334           1.600000                  0.303030   \n",
       "4                0.850000           3.967213                  0.596330   \n",
       "\n",
       "   AvglinkWithTwoCommonWord  AvglinkWithThreeCommonWord  \\\n",
       "0                  0.190635                    0.036789   \n",
       "1                  0.301587                    0.005291   \n",
       "2                  0.018868                    0.000000   \n",
       "3                  0.000000                    0.000000   \n",
       "4                  0.449541                    0.431193   \n",
       "\n",
       "   AvglinkWithFourCommonWord  redundancyMeasure  ...  \\\n",
       "0                   0.020067           0.439444  ...   \n",
       "1                   0.000000           0.488178  ...   \n",
       "2                   0.000000           0.513166  ...   \n",
       "3                   0.000000           0.461538  ...   \n",
       "4                   0.422018           0.505411  ...   \n",
       "\n",
       "   hyperlinkToAllWordsRatio  isFrontPageNews  alphanumCharCount  linksCount  \\\n",
       "0                        23              0.0               8670         299   \n",
       "1                        26              0.0               3800         189   \n",
       "2                        12              0.0               2253          53   \n",
       "3                         6              0.0               3266          33   \n",
       "4                         7              0.0              13721         109   \n",
       "\n",
       "   wordCount  parametrizedLinkRatio  spellingErrorsRatio    id  label  \\\n",
       "0          9               0.397993             0.098242  7172      2   \n",
       "1          6               0.137566             0.089463  2687      2   \n",
       "2          4               0.132075             0.070922  6990      2   \n",
       "3          1               0.060606             0.100000  5639      2   \n",
       "4          9               0.027523             0.144509  2701      2   \n",
       "\n",
       "   indicator  \n",
       "0          0  \n",
       "1          0  \n",
       "2          0  \n",
       "3          0  \n",
       "4          0  \n",
       "\n",
       "[5 rows x 28 columns]"
      ]
     },
     "execution_count": 19,
     "metadata": {},
     "output_type": "execute_result"
    }
   ],
   "source": [
    "train_df.head()\n",
    "#pd.set_option(\"display.max_columns\",None)"
   ]
  },
  {
   "cell_type": "markdown",
   "id": "fd082a79",
   "metadata": {},
   "source": [
    "## 2.2 One-Hot encoding"
   ]
  },
  {
   "cell_type": "code",
   "execution_count": 20,
   "id": "c90c4b71",
   "metadata": {},
   "outputs": [
    {
     "data": {
      "text/html": [
       "<div>\n",
       "<style scoped>\n",
       "    .dataframe tbody tr th:only-of-type {\n",
       "        vertical-align: middle;\n",
       "    }\n",
       "\n",
       "    .dataframe tbody tr th {\n",
       "        vertical-align: top;\n",
       "    }\n",
       "\n",
       "    .dataframe thead th {\n",
       "        text-align: right;\n",
       "    }\n",
       "</style>\n",
       "<table border=\"1\" class=\"dataframe\">\n",
       "  <thead>\n",
       "    <tr style=\"text-align: right;\">\n",
       "      <th></th>\n",
       "      <th>url</th>\n",
       "      <th>webpageDescription</th>\n",
       "      <th>alchemy_category_score</th>\n",
       "      <th>avgLinkWordLength</th>\n",
       "      <th>AvglinkWithOneCommonWord</th>\n",
       "      <th>AvglinkWithTwoCommonWord</th>\n",
       "      <th>AvglinkWithThreeCommonWord</th>\n",
       "      <th>AvglinkWithFourCommonWord</th>\n",
       "      <th>redundancyMeasure</th>\n",
       "      <th>embedRatio</th>\n",
       "      <th>...</th>\n",
       "      <th>alchemy_category_culture_politics</th>\n",
       "      <th>alchemy_category_gaming</th>\n",
       "      <th>alchemy_category_health</th>\n",
       "      <th>alchemy_category_law_crime</th>\n",
       "      <th>alchemy_category_recreation</th>\n",
       "      <th>alchemy_category_religion</th>\n",
       "      <th>alchemy_category_science_technology</th>\n",
       "      <th>alchemy_category_sports</th>\n",
       "      <th>alchemy_category_unknown</th>\n",
       "      <th>alchemy_category_weather</th>\n",
       "    </tr>\n",
       "  </thead>\n",
       "  <tbody>\n",
       "    <tr>\n",
       "      <th>0</th>\n",
       "      <td>http://www.ocweekly.com/2013-04-11/news/deport...</td>\n",
       "      <td>{\"url\":\"ocweekly 2013 04 11 news deported mexi...</td>\n",
       "      <td>0.300004</td>\n",
       "      <td>2.307692</td>\n",
       "      <td>0.424749</td>\n",
       "      <td>0.190635</td>\n",
       "      <td>0.036789</td>\n",
       "      <td>0.020067</td>\n",
       "      <td>0.439444</td>\n",
       "      <td>0.0</td>\n",
       "      <td>...</td>\n",
       "      <td>0</td>\n",
       "      <td>0</td>\n",
       "      <td>0</td>\n",
       "      <td>0</td>\n",
       "      <td>0</td>\n",
       "      <td>0</td>\n",
       "      <td>0</td>\n",
       "      <td>1</td>\n",
       "      <td>0</td>\n",
       "      <td>0</td>\n",
       "    </tr>\n",
       "    <tr>\n",
       "      <th>1</th>\n",
       "      <td>http://www.youbeauty.com/nutrition/galleries/1...</td>\n",
       "      <td>{\"title\":\"10 Exotic Fruits Vegetables 10 exoti...</td>\n",
       "      <td>0.625228</td>\n",
       "      <td>1.712500</td>\n",
       "      <td>0.492063</td>\n",
       "      <td>0.301587</td>\n",
       "      <td>0.005291</td>\n",
       "      <td>0.000000</td>\n",
       "      <td>0.488178</td>\n",
       "      <td>0.0</td>\n",
       "      <td>...</td>\n",
       "      <td>0</td>\n",
       "      <td>0</td>\n",
       "      <td>0</td>\n",
       "      <td>0</td>\n",
       "      <td>0</td>\n",
       "      <td>0</td>\n",
       "      <td>1</td>\n",
       "      <td>0</td>\n",
       "      <td>0</td>\n",
       "      <td>0</td>\n",
       "    </tr>\n",
       "    <tr>\n",
       "      <th>2</th>\n",
       "      <td>http://www.you-made-that.com/skinny-german-cho...</td>\n",
       "      <td>{\"title\":\"Skinny German Chocolate Cookies \",\"b...</td>\n",
       "      <td>0.603334</td>\n",
       "      <td>1.400000</td>\n",
       "      <td>0.207547</td>\n",
       "      <td>0.018868</td>\n",
       "      <td>0.000000</td>\n",
       "      <td>0.000000</td>\n",
       "      <td>0.513166</td>\n",
       "      <td>0.0</td>\n",
       "      <td>...</td>\n",
       "      <td>0</td>\n",
       "      <td>0</td>\n",
       "      <td>0</td>\n",
       "      <td>0</td>\n",
       "      <td>0</td>\n",
       "      <td>1</td>\n",
       "      <td>0</td>\n",
       "      <td>0</td>\n",
       "      <td>0</td>\n",
       "      <td>0</td>\n",
       "    </tr>\n",
       "    <tr>\n",
       "      <th>3</th>\n",
       "      <td>http://drpullen.com/carpediem/</td>\n",
       "      <td>{\"title\":\"Carpe Diem DrPullen com Medical and ...</td>\n",
       "      <td>0.603334</td>\n",
       "      <td>1.600000</td>\n",
       "      <td>0.303030</td>\n",
       "      <td>0.000000</td>\n",
       "      <td>0.000000</td>\n",
       "      <td>0.000000</td>\n",
       "      <td>0.461538</td>\n",
       "      <td>0.0</td>\n",
       "      <td>...</td>\n",
       "      <td>0</td>\n",
       "      <td>0</td>\n",
       "      <td>0</td>\n",
       "      <td>0</td>\n",
       "      <td>0</td>\n",
       "      <td>1</td>\n",
       "      <td>0</td>\n",
       "      <td>0</td>\n",
       "      <td>0</td>\n",
       "      <td>0</td>\n",
       "    </tr>\n",
       "    <tr>\n",
       "      <th>4</th>\n",
       "      <td>http://bradcolbow.com/archive/view/the_brads_t...</td>\n",
       "      <td>{\"title\":\"Brad Colbow Independent Web Designer...</td>\n",
       "      <td>0.850000</td>\n",
       "      <td>3.967213</td>\n",
       "      <td>0.596330</td>\n",
       "      <td>0.449541</td>\n",
       "      <td>0.431193</td>\n",
       "      <td>0.422018</td>\n",
       "      <td>0.505411</td>\n",
       "      <td>0.0</td>\n",
       "      <td>...</td>\n",
       "      <td>0</td>\n",
       "      <td>0</td>\n",
       "      <td>0</td>\n",
       "      <td>0</td>\n",
       "      <td>0</td>\n",
       "      <td>0</td>\n",
       "      <td>0</td>\n",
       "      <td>0</td>\n",
       "      <td>0</td>\n",
       "      <td>0</td>\n",
       "    </tr>\n",
       "  </tbody>\n",
       "</table>\n",
       "<p>5 rows × 40 columns</p>\n",
       "</div>"
      ],
      "text/plain": [
       "                                                 url  \\\n",
       "0  http://www.ocweekly.com/2013-04-11/news/deport...   \n",
       "1  http://www.youbeauty.com/nutrition/galleries/1...   \n",
       "2  http://www.you-made-that.com/skinny-german-cho...   \n",
       "3                     http://drpullen.com/carpediem/   \n",
       "4  http://bradcolbow.com/archive/view/the_brads_t...   \n",
       "\n",
       "                                  webpageDescription  alchemy_category_score  \\\n",
       "0  {\"url\":\"ocweekly 2013 04 11 news deported mexi...                0.300004   \n",
       "1  {\"title\":\"10 Exotic Fruits Vegetables 10 exoti...                0.625228   \n",
       "2  {\"title\":\"Skinny German Chocolate Cookies \",\"b...                0.603334   \n",
       "3  {\"title\":\"Carpe Diem DrPullen com Medical and ...                0.603334   \n",
       "4  {\"title\":\"Brad Colbow Independent Web Designer...                0.850000   \n",
       "\n",
       "   avgLinkWordLength  AvglinkWithOneCommonWord  AvglinkWithTwoCommonWord  \\\n",
       "0           2.307692                  0.424749                  0.190635   \n",
       "1           1.712500                  0.492063                  0.301587   \n",
       "2           1.400000                  0.207547                  0.018868   \n",
       "3           1.600000                  0.303030                  0.000000   \n",
       "4           3.967213                  0.596330                  0.449541   \n",
       "\n",
       "   AvglinkWithThreeCommonWord  AvglinkWithFourCommonWord  redundancyMeasure  \\\n",
       "0                    0.036789                   0.020067           0.439444   \n",
       "1                    0.005291                   0.000000           0.488178   \n",
       "2                    0.000000                   0.000000           0.513166   \n",
       "3                    0.000000                   0.000000           0.461538   \n",
       "4                    0.431193                   0.422018           0.505411   \n",
       "\n",
       "   embedRatio  ...  alchemy_category_culture_politics  \\\n",
       "0         0.0  ...                                  0   \n",
       "1         0.0  ...                                  0   \n",
       "2         0.0  ...                                  0   \n",
       "3         0.0  ...                                  0   \n",
       "4         0.0  ...                                  0   \n",
       "\n",
       "   alchemy_category_gaming  alchemy_category_health  \\\n",
       "0                        0                        0   \n",
       "1                        0                        0   \n",
       "2                        0                        0   \n",
       "3                        0                        0   \n",
       "4                        0                        0   \n",
       "\n",
       "   alchemy_category_law_crime  alchemy_category_recreation  \\\n",
       "0                           0                            0   \n",
       "1                           0                            0   \n",
       "2                           0                            0   \n",
       "3                           0                            0   \n",
       "4                           0                            0   \n",
       "\n",
       "   alchemy_category_religion  alchemy_category_science_technology  \\\n",
       "0                          0                                    0   \n",
       "1                          0                                    1   \n",
       "2                          1                                    0   \n",
       "3                          1                                    0   \n",
       "4                          0                                    0   \n",
       "\n",
       "   alchemy_category_sports  alchemy_category_unknown  alchemy_category_weather  \n",
       "0                        1                         0                         0  \n",
       "1                        0                         0                         0  \n",
       "2                        0                         0                         0  \n",
       "3                        0                         0                         0  \n",
       "4                        0                         0                         0  \n",
       "\n",
       "[5 rows x 40 columns]"
      ]
     },
     "execution_count": 20,
     "metadata": {},
     "output_type": "execute_result"
    }
   ],
   "source": [
    "#one-hot encoding for categorical data \n",
    "column_names_to_one_hot = [\"alchemy_category\"]\n",
    "train_df = pd.get_dummies(train_df, columns=column_names_to_one_hot)\n",
    "train_df.head()"
   ]
  },
  {
   "cell_type": "markdown",
   "id": "b6fdb287",
   "metadata": {},
   "source": [
    "## 2.3 Outlier removal"
   ]
  },
  {
   "cell_type": "code",
   "execution_count": 21,
   "id": "a8ad3487",
   "metadata": {},
   "outputs": [],
   "source": [
    "#here we are using IQR for outlier removal as there are many outliers\n",
    "#function to plot outliers\n",
    "def outlierPlot(p):\n",
    "    sns.boxplot(x=p)\n",
    "    plt.figure(figsize=(16,5))\n",
    "    plt.subplot(1,2,1)\n",
    "    sns.distplot(p)\n",
    "\n",
    "#function for getting upper and lower limit\n",
    "def upperLower(dfcolumnName):\n",
    "    percentile25 = dfcolumnName.quantile(0.25)\n",
    "    percentile75 = dfcolumnName.quantile(0.75)\n",
    "    iqr = percentile75 - percentile25\n",
    "    upper_limit = percentile75 + 1.5 * iqr\n",
    "    lower_limit = percentile25 - 1.5 * iqr\n",
    "    return upper_limit,lower_limit\n",
    "\n",
    "#functopn for caaping i.e removing outlieers\n",
    "def capping(df,upper_limit,lower_limit,column_name):\n",
    "    new_df_cap = df.copy()\n",
    "    new_df_cap[column_name] = np.where(\n",
    "    new_df_cap[column_name] > upper_limit,\n",
    "    upper_limit,\n",
    "    np.where(\n",
    "        new_df_cap[column_name] < lower_limit,\n",
    "        lower_limit,\n",
    "        new_df_cap[column_name]\n",
    "        )\n",
    "    )\n",
    "    return new_df_cap[column_name]"
   ]
  },
  {
   "cell_type": "code",
   "execution_count": 22,
   "id": "9d8ca06b",
   "metadata": {},
   "outputs": [
    {
     "data": {
      "text/plain": [
       "array([0.300004  , 0.625228  , 0.60333432, ..., 0.502369  , 0.371516  ,\n",
       "       0.56931   ])"
      ]
     },
     "execution_count": 22,
     "metadata": {},
     "output_type": "execute_result"
    }
   ],
   "source": [
    "train_df['alchemy_category_score'].unique()"
   ]
  },
  {
   "cell_type": "code",
   "execution_count": 23,
   "id": "b6a9330f",
   "metadata": {},
   "outputs": [
    {
     "name": "stderr",
     "output_type": "stream",
     "text": [
      "C:\\Users\\Vishwa\\anaconda3\\lib\\site-packages\\seaborn\\distributions.py:2557: FutureWarning: `distplot` is a deprecated function and will be removed in a future version. Please adapt your code to use either `displot` (a figure-level function with similar flexibility) or `histplot` (an axes-level function for histograms).\n",
      "  warnings.warn(msg, FutureWarning)\n"
     ]
    },
    {
     "data": {
      "image/png": "[encoded data removed]",
      "text/plain": [
       "<Figure size 432x288 with 1 Axes>"
      ]
     },
     "metadata": {
      "needs_background": "light"
     },
     "output_type": "display_data"
    },
    {
     "data": {
      "image/png": "[encoded data removed]",
      "text/plain": [
       "<Figure size 1152x360 with 1 Axes>"
      ]
     },
     "metadata": {
      "needs_background": "light"
     },
     "output_type": "display_data"
    }
   ],
   "source": [
    "outlierPlot(train_df['alchemy_category_score'])"
   ]
  },
  {
   "cell_type": "code",
   "execution_count": 24,
   "id": "3744fc2c",
   "metadata": {},
   "outputs": [
    {
     "name": "stderr",
     "output_type": "stream",
     "text": [
      "C:\\Users\\Vishwa\\anaconda3\\lib\\site-packages\\seaborn\\distributions.py:2557: FutureWarning: `distplot` is a deprecated function and will be removed in a future version. Please adapt your code to use either `displot` (a figure-level function with similar flexibility) or `histplot` (an axes-level function for histograms).\n",
      "  warnings.warn(msg, FutureWarning)\n"
     ]
    },
    {
     "data": {
      "image/png": "[encoded data removed]",
      "text/plain": [
       "<Figure size 432x288 with 1 Axes>"
      ]
     },
     "metadata": {
      "needs_background": "light"
     },
     "output_type": "display_data"
    },
    {
     "data": {
      "image/png": "[encoded data removed]",
      "text/plain": [
       "<Figure size 1152x360 with 1 Axes>"
      ]
     },
     "metadata": {
      "needs_background": "light"
     },
     "output_type": "display_data"
    }
   ],
   "source": [
    "upper_limit,lower_limit = upperLower(train_df['alchemy_category_score'])\n",
    "train_df['alchemy_category_score'] = capping(train_df,upper_limit,lower_limit,'alchemy_category_score')\n",
    "outlierPlot(train_df['alchemy_category_score'])"
   ]
  },
  {
   "cell_type": "code",
   "execution_count": 25,
   "id": "a42ced3b",
   "metadata": {},
   "outputs": [
    {
     "data": {
      "text/plain": [
       "array([2.30769231, 1.7125    , 1.4       , ..., 3.51470588, 1.43087558,\n",
       "       2.44086021])"
      ]
     },
     "execution_count": 25,
     "metadata": {},
     "output_type": "execute_result"
    }
   ],
   "source": [
    "train_df['avgLinkWordLength'].unique()"
   ]
  },
  {
   "cell_type": "code",
   "execution_count": 26,
   "id": "724183aa",
   "metadata": {},
   "outputs": [
    {
     "name": "stderr",
     "output_type": "stream",
     "text": [
      "C:\\Users\\Vishwa\\anaconda3\\lib\\site-packages\\seaborn\\distributions.py:2557: FutureWarning: `distplot` is a deprecated function and will be removed in a future version. Please adapt your code to use either `displot` (a figure-level function with similar flexibility) or `histplot` (an axes-level function for histograms).\n",
      "  warnings.warn(msg, FutureWarning)\n"
     ]
    },
    {
     "data": {
      "image/png": "[encoded data removed]",
      "text/plain": [
       "<Figure size 432x288 with 1 Axes>"
      ]
     },
     "metadata": {
      "needs_background": "light"
     },
     "output_type": "display_data"
    },
    {
     "data": {
      "image/png": "[encoded data removed]",
      "text/plain": [
       "<Figure size 1152x360 with 1 Axes>"
      ]
     },
     "metadata": {
      "needs_background": "light"
     },
     "output_type": "display_data"
    }
   ],
   "source": [
    "outlierPlot(train_df['avgLinkWordLength'])"
   ]
  },
  {
   "cell_type": "code",
   "execution_count": 27,
   "id": "dba263f0",
   "metadata": {},
   "outputs": [
    {
     "name": "stderr",
     "output_type": "stream",
     "text": [
      "C:\\Users\\Vishwa\\anaconda3\\lib\\site-packages\\seaborn\\distributions.py:2557: FutureWarning: `distplot` is a deprecated function and will be removed in a future version. Please adapt your code to use either `displot` (a figure-level function with similar flexibility) or `histplot` (an axes-level function for histograms).\n",
      "  warnings.warn(msg, FutureWarning)\n"
     ]
    },
    {
     "data": {
      "image/png": "[encoded data removed]",
      "text/plain": [
       "<Figure size 432x288 with 1 Axes>"
      ]
     },
     "metadata": {
      "needs_background": "light"
     },
     "output_type": "display_data"
    },
    {
     "data": {
      "image/png": "[encoded data removed]",
      "text/plain": [
       "<Figure size 1152x360 with 1 Axes>"
      ]
     },
     "metadata": {
      "needs_background": "light"
     },
     "output_type": "display_data"
    }
   ],
   "source": [
    "upper_limit,lower_limit = upperLower(train_df['avgLinkWordLength'])\n",
    "train_df['avgLinkWordLength'] = capping(train_df,upper_limit,lower_limit,'avgLinkWordLength')\n",
    "outlierPlot(train_df['avgLinkWordLength'])"
   ]
  },
  {
   "cell_type": "code",
   "execution_count": 28,
   "id": "0f64c31e",
   "metadata": {},
   "outputs": [
    {
     "name": "stderr",
     "output_type": "stream",
     "text": [
      "C:\\Users\\Vishwa\\anaconda3\\lib\\site-packages\\seaborn\\distributions.py:2557: FutureWarning: `distplot` is a deprecated function and will be removed in a future version. Please adapt your code to use either `displot` (a figure-level function with similar flexibility) or `histplot` (an axes-level function for histograms).\n",
      "  warnings.warn(msg, FutureWarning)\n"
     ]
    },
    {
     "data": {
      "image/png": "[encoded data removed]",
      "text/plain": [
       "<Figure size 432x288 with 1 Axes>"
      ]
     },
     "metadata": {
      "needs_background": "light"
     },
     "output_type": "display_data"
    },
    {
     "data": {
      "image/png": "[encoded data removed]",
      "text/plain": [
       "<Figure size 1152x360 with 1 Axes>"
      ]
     },
     "metadata": {
      "needs_background": "light"
     },
     "output_type": "display_data"
    }
   ],
   "source": [
    "outlierPlot(train_df['AvglinkWithOneCommonWord'])\n",
    "#no outliers found"
   ]
  },
  {
   "cell_type": "code",
   "execution_count": 29,
   "id": "b08ba038",
   "metadata": {},
   "outputs": [
    {
     "name": "stderr",
     "output_type": "stream",
     "text": [
      "C:\\Users\\Vishwa\\anaconda3\\lib\\site-packages\\seaborn\\distributions.py:2557: FutureWarning: `distplot` is a deprecated function and will be removed in a future version. Please adapt your code to use either `displot` (a figure-level function with similar flexibility) or `histplot` (an axes-level function for histograms).\n",
      "  warnings.warn(msg, FutureWarning)\n"
     ]
    },
    {
     "data": {
      "image/png": "[encoded data removed]",
      "text/plain": [
       "<Figure size 432x288 with 1 Axes>"
      ]
     },
     "metadata": {
      "needs_background": "light"
     },
     "output_type": "display_data"
    },
    {
     "data": {
      "image/png": "[encoded data removed]",
      "text/plain": [
       "<Figure size 1152x360 with 1 Axes>"
      ]
     },
     "metadata": {
      "needs_background": "light"
     },
     "output_type": "display_data"
    }
   ],
   "source": [
    "outlierPlot(train_df['AvglinkWithTwoCommonWord'])"
   ]
  },
  {
   "cell_type": "code",
   "execution_count": 30,
   "id": "b945d5b7",
   "metadata": {},
   "outputs": [
    {
     "name": "stderr",
     "output_type": "stream",
     "text": [
      "C:\\Users\\Vishwa\\anaconda3\\lib\\site-packages\\seaborn\\distributions.py:2557: FutureWarning: `distplot` is a deprecated function and will be removed in a future version. Please adapt your code to use either `displot` (a figure-level function with similar flexibility) or `histplot` (an axes-level function for histograms).\n",
      "  warnings.warn(msg, FutureWarning)\n"
     ]
    },
    {
     "data": {
      "image/png": "[encoded data removed]",
      "text/plain": [
       "<Figure size 432x288 with 1 Axes>"
      ]
     },
     "metadata": {
      "needs_background": "light"
     },
     "output_type": "display_data"
    },
    {
     "data": {
      "image/png": "[encoded data removed]",
      "text/plain": [
       "<Figure size 1152x360 with 1 Axes>"
      ]
     },
     "metadata": {
      "needs_background": "light"
     },
     "output_type": "display_data"
    }
   ],
   "source": [
    "\n",
    "upper_limit,lower_limit = upperLower(train_df['AvglinkWithTwoCommonWord'])\n",
    "train_df['AvglinkWithTwoCommonWord'] = capping(train_df,upper_limit,lower_limit,'AvglinkWithTwoCommonWord')\n",
    "outlierPlot(train_df['AvglinkWithTwoCommonWord'])"
   ]
  },
  {
   "cell_type": "code",
   "execution_count": 31,
   "id": "3ebfd848",
   "metadata": {},
   "outputs": [
    {
     "name": "stderr",
     "output_type": "stream",
     "text": [
      "C:\\Users\\Vishwa\\anaconda3\\lib\\site-packages\\seaborn\\distributions.py:2557: FutureWarning: `distplot` is a deprecated function and will be removed in a future version. Please adapt your code to use either `displot` (a figure-level function with similar flexibility) or `histplot` (an axes-level function for histograms).\n",
      "  warnings.warn(msg, FutureWarning)\n"
     ]
    },
    {
     "data": {
      "image/png": "[encoded data removed]",
      "text/plain": [
       "<Figure size 432x288 with 1 Axes>"
      ]
     },
     "metadata": {
      "needs_background": "light"
     },
     "output_type": "display_data"
    },
    {
     "data": {
      "image/png": "[encoded data removed]",
      "text/plain": [
       "<Figure size 1152x360 with 1 Axes>"
      ]
     },
     "metadata": {
      "needs_background": "light"
     },
     "output_type": "display_data"
    }
   ],
   "source": [
    "outlierPlot(train_df['AvglinkWithThreeCommonWord'])"
   ]
  },
  {
   "cell_type": "code",
   "execution_count": 32,
   "id": "52368ed2",
   "metadata": {},
   "outputs": [
    {
     "name": "stderr",
     "output_type": "stream",
     "text": [
      "C:\\Users\\Vishwa\\anaconda3\\lib\\site-packages\\seaborn\\distributions.py:2557: FutureWarning: `distplot` is a deprecated function and will be removed in a future version. Please adapt your code to use either `displot` (a figure-level function with similar flexibility) or `histplot` (an axes-level function for histograms).\n",
      "  warnings.warn(msg, FutureWarning)\n"
     ]
    },
    {
     "data": {
      "image/png": "[encoded data removed]",
      "text/plain": [
       "<Figure size 432x288 with 1 Axes>"
      ]
     },
     "metadata": {
      "needs_background": "light"
     },
     "output_type": "display_data"
    },
    {
     "data": {
      "image/png": "[encoded data removed]",
      "text/plain": [
       "<Figure size 1152x360 with 1 Axes>"
      ]
     },
     "metadata": {
      "needs_background": "light"
     },
     "output_type": "display_data"
    }
   ],
   "source": [
    "upper_limit,lower_limit = upperLower(train_df['AvglinkWithThreeCommonWord'])\n",
    "train_df['AvglinkWithThreeCommonWord'] = capping(train_df,upper_limit,lower_limit,'AvglinkWithThreeCommonWord')\n",
    "outlierPlot(train_df['AvglinkWithThreeCommonWord'])"
   ]
  },
  {
   "cell_type": "code",
   "execution_count": 33,
   "id": "a2e4b203",
   "metadata": {},
   "outputs": [
    {
     "name": "stderr",
     "output_type": "stream",
     "text": [
      "C:\\Users\\Vishwa\\anaconda3\\lib\\site-packages\\seaborn\\distributions.py:2557: FutureWarning: `distplot` is a deprecated function and will be removed in a future version. Please adapt your code to use either `displot` (a figure-level function with similar flexibility) or `histplot` (an axes-level function for histograms).\n",
      "  warnings.warn(msg, FutureWarning)\n"
     ]
    },
    {
     "data": {
      "image/png": "[encoded data removed]",
      "text/plain": [
       "<Figure size 432x288 with 1 Axes>"
      ]
     },
     "metadata": {
      "needs_background": "light"
     },
     "output_type": "display_data"
    },
    {
     "data": {
      "image/png": "[encoded data removed]",
      "text/plain": [
       "<Figure size 1152x360 with 1 Axes>"
      ]
     },
     "metadata": {
      "needs_background": "light"
     },
     "output_type": "display_data"
    }
   ],
   "source": [
    "outlierPlot(train_df['AvglinkWithFourCommonWord'])"
   ]
  },
  {
   "cell_type": "code",
   "execution_count": 34,
   "id": "0f514394",
   "metadata": {},
   "outputs": [
    {
     "name": "stderr",
     "output_type": "stream",
     "text": [
      "C:\\Users\\Vishwa\\anaconda3\\lib\\site-packages\\seaborn\\distributions.py:2557: FutureWarning: `distplot` is a deprecated function and will be removed in a future version. Please adapt your code to use either `displot` (a figure-level function with similar flexibility) or `histplot` (an axes-level function for histograms).\n",
      "  warnings.warn(msg, FutureWarning)\n"
     ]
    },
    {
     "data": {
      "image/png": "[encoded data removed]",
      "text/plain": [
       "<Figure size 432x288 with 1 Axes>"
      ]
     },
     "metadata": {
      "needs_background": "light"
     },
     "output_type": "display_data"
    },
    {
     "data": {
      "image/png": "[encoded data removed]",
      "text/plain": [
       "<Figure size 1152x360 with 1 Axes>"
      ]
     },
     "metadata": {
      "needs_background": "light"
     },
     "output_type": "display_data"
    }
   ],
   "source": [
    "upper_limit,lower_limit = upperLower(train_df['AvglinkWithFourCommonWord'])\n",
    "train_df['AvglinkWithFourCommonWord'] = capping(train_df,upper_limit,lower_limit,'AvglinkWithFourCommonWord')\n",
    "outlierPlot(train_df['AvglinkWithFourCommonWord'])"
   ]
  },
  {
   "cell_type": "code",
   "execution_count": 35,
   "id": "4c059872",
   "metadata": {},
   "outputs": [
    {
     "name": "stderr",
     "output_type": "stream",
     "text": [
      "C:\\Users\\Vishwa\\anaconda3\\lib\\site-packages\\seaborn\\distributions.py:2557: FutureWarning: `distplot` is a deprecated function and will be removed in a future version. Please adapt your code to use either `displot` (a figure-level function with similar flexibility) or `histplot` (an axes-level function for histograms).\n",
      "  warnings.warn(msg, FutureWarning)\n"
     ]
    },
    {
     "data": {
      "image/png": "[encoded data removed]",
      "text/plain": [
       "<Figure size 432x288 with 1 Axes>"
      ]
     },
     "metadata": {
      "needs_background": "light"
     },
     "output_type": "display_data"
    },
    {
     "data": {
      "image/png": "[encoded data removed]",
      "text/plain": [
       "<Figure size 1152x360 with 1 Axes>"
      ]
     },
     "metadata": {
      "needs_background": "light"
     },
     "output_type": "display_data"
    }
   ],
   "source": [
    "outlierPlot(train_df['redundancyMeasure'])"
   ]
  },
  {
   "cell_type": "code",
   "execution_count": 36,
   "id": "b71a67a2",
   "metadata": {},
   "outputs": [
    {
     "name": "stderr",
     "output_type": "stream",
     "text": [
      "C:\\Users\\Vishwa\\anaconda3\\lib\\site-packages\\seaborn\\distributions.py:2557: FutureWarning: `distplot` is a deprecated function and will be removed in a future version. Please adapt your code to use either `displot` (a figure-level function with similar flexibility) or `histplot` (an axes-level function for histograms).\n",
      "  warnings.warn(msg, FutureWarning)\n"
     ]
    },
    {
     "data": {
      "image/png": "[encoded data removed]",
      "text/plain": [
       "<Figure size 432x288 with 1 Axes>"
      ]
     },
     "metadata": {
      "needs_background": "light"
     },
     "output_type": "display_data"
    },
    {
     "data": {
      "image/png": "[encoded data removed]",
      "text/plain": [
       "<Figure size 1152x360 with 1 Axes>"
      ]
     },
     "metadata": {
      "needs_background": "light"
     },
     "output_type": "display_data"
    }
   ],
   "source": [
    "upper_limit,lower_limit = upperLower(train_df['redundancyMeasure'])\n",
    "train_df['redundancyMeasure'] = capping(train_df,upper_limit,lower_limit,'redundancyMeasure')\n",
    "outlierPlot(train_df['redundancyMeasure'])"
   ]
  },
  {
   "cell_type": "code",
   "execution_count": 37,
   "id": "64a1322b",
   "metadata": {},
   "outputs": [
    {
     "name": "stderr",
     "output_type": "stream",
     "text": [
      "C:\\Users\\Vishwa\\anaconda3\\lib\\site-packages\\seaborn\\distributions.py:2557: FutureWarning: `distplot` is a deprecated function and will be removed in a future version. Please adapt your code to use either `displot` (a figure-level function with similar flexibility) or `histplot` (an axes-level function for histograms).\n",
      "  warnings.warn(msg, FutureWarning)\n"
     ]
    },
    {
     "data": {
      "image/png": "[encoded data removed]",
      "text/plain": [
       "<Figure size 432x288 with 1 Axes>"
      ]
     },
     "metadata": {
      "needs_background": "light"
     },
     "output_type": "display_data"
    },
    {
     "data": {
      "image/png": "[encoded data removed]",
      "text/plain": [
       "<Figure size 1152x360 with 1 Axes>"
      ]
     },
     "metadata": {
      "needs_background": "light"
     },
     "output_type": "display_data"
    }
   ],
   "source": [
    "outlierPlot(train_df['embedRatio'])\n",
    "#train_df['embedRatio'].unique()"
   ]
  },
  {
   "cell_type": "markdown",
   "id": "838507a4",
   "metadata": {},
   "source": [
    "## 2.4 dropping column with all 0 values"
   ]
  },
  {
   "cell_type": "code",
   "execution_count": 38,
   "id": "c6317cab",
   "metadata": {},
   "outputs": [
    {
     "data": {
      "text/plain": [
       "array([0], dtype=int64)"
      ]
     },
     "execution_count": 38,
     "metadata": {},
     "output_type": "execute_result"
    }
   ],
   "source": [
    "train_df['framebased'].unique()"
   ]
  },
  {
   "cell_type": "code",
   "execution_count": 39,
   "id": "017272b0",
   "metadata": {},
   "outputs": [],
   "source": [
    "train_df.drop(axis=\"columns\", labels=\"framebased\", inplace=True)"
   ]
  },
  {
   "cell_type": "code",
   "execution_count": 40,
   "id": "345edeff",
   "metadata": {},
   "outputs": [
    {
     "data": {
      "text/plain": [
       "(7395, 39)"
      ]
     },
     "execution_count": 40,
     "metadata": {},
     "output_type": "execute_result"
    }
   ],
   "source": [
    "train_df.shape"
   ]
  },
  {
   "cell_type": "markdown",
   "id": "180e4d54",
   "metadata": {},
   "source": [
    "# 3.NLP Preprocessing"
   ]
  },
  {
   "cell_type": "code",
   "execution_count": 41,
   "id": "1405e86d",
   "metadata": {},
   "outputs": [],
   "source": [
    "m = train_df['url'].str.extract('(?<=http://)(.*?)(?=/)|(?<=https://)(.*?)(?=/)')\n",
    "m = m[0].fillna(m[1]).fillna(train_df['url'])\n",
    "train_df['url'] = m"
   ]
  },
  {
   "cell_type": "code",
   "execution_count": 42,
   "id": "5579b985",
   "metadata": {},
   "outputs": [
    {
     "data": {
      "text/html": [
       "<div>\n",
       "<style scoped>\n",
       "    .dataframe tbody tr th:only-of-type {\n",
       "        vertical-align: middle;\n",
       "    }\n",
       "\n",
       "    .dataframe tbody tr th {\n",
       "        vertical-align: top;\n",
       "    }\n",
       "\n",
       "    .dataframe thead th {\n",
       "        text-align: right;\n",
       "    }\n",
       "</style>\n",
       "<table border=\"1\" class=\"dataframe\">\n",
       "  <thead>\n",
       "    <tr style=\"text-align: right;\">\n",
       "      <th></th>\n",
       "      <th>url</th>\n",
       "      <th>webpageDescription</th>\n",
       "      <th>alchemy_category_score</th>\n",
       "      <th>avgLinkWordLength</th>\n",
       "      <th>AvglinkWithOneCommonWord</th>\n",
       "      <th>AvglinkWithTwoCommonWord</th>\n",
       "      <th>AvglinkWithThreeCommonWord</th>\n",
       "      <th>AvglinkWithFourCommonWord</th>\n",
       "      <th>redundancyMeasure</th>\n",
       "      <th>embedRatio</th>\n",
       "      <th>...</th>\n",
       "      <th>alchemy_category_culture_politics</th>\n",
       "      <th>alchemy_category_gaming</th>\n",
       "      <th>alchemy_category_health</th>\n",
       "      <th>alchemy_category_law_crime</th>\n",
       "      <th>alchemy_category_recreation</th>\n",
       "      <th>alchemy_category_religion</th>\n",
       "      <th>alchemy_category_science_technology</th>\n",
       "      <th>alchemy_category_sports</th>\n",
       "      <th>alchemy_category_unknown</th>\n",
       "      <th>alchemy_category_weather</th>\n",
       "    </tr>\n",
       "  </thead>\n",
       "  <tbody>\n",
       "    <tr>\n",
       "      <th>0</th>\n",
       "      <td>www.ocweekly.com</td>\n",
       "      <td>{\"url\":\"ocweekly 2013 04 11 news deported mexi...</td>\n",
       "      <td>0.300004</td>\n",
       "      <td>2.307692</td>\n",
       "      <td>0.424749</td>\n",
       "      <td>0.190635</td>\n",
       "      <td>0.036789</td>\n",
       "      <td>0.020067</td>\n",
       "      <td>0.439444</td>\n",
       "      <td>0.0</td>\n",
       "      <td>...</td>\n",
       "      <td>0</td>\n",
       "      <td>0</td>\n",
       "      <td>0</td>\n",
       "      <td>0</td>\n",
       "      <td>0</td>\n",
       "      <td>0</td>\n",
       "      <td>0</td>\n",
       "      <td>1</td>\n",
       "      <td>0</td>\n",
       "      <td>0</td>\n",
       "    </tr>\n",
       "    <tr>\n",
       "      <th>1</th>\n",
       "      <td>www.youbeauty.com</td>\n",
       "      <td>{\"title\":\"10 Exotic Fruits Vegetables 10 exoti...</td>\n",
       "      <td>0.625228</td>\n",
       "      <td>1.712500</td>\n",
       "      <td>0.492063</td>\n",
       "      <td>0.301587</td>\n",
       "      <td>0.005291</td>\n",
       "      <td>0.000000</td>\n",
       "      <td>0.488178</td>\n",
       "      <td>0.0</td>\n",
       "      <td>...</td>\n",
       "      <td>0</td>\n",
       "      <td>0</td>\n",
       "      <td>0</td>\n",
       "      <td>0</td>\n",
       "      <td>0</td>\n",
       "      <td>0</td>\n",
       "      <td>1</td>\n",
       "      <td>0</td>\n",
       "      <td>0</td>\n",
       "      <td>0</td>\n",
       "    </tr>\n",
       "    <tr>\n",
       "      <th>2</th>\n",
       "      <td>www.you-made-that.com</td>\n",
       "      <td>{\"title\":\"Skinny German Chocolate Cookies \",\"b...</td>\n",
       "      <td>0.603334</td>\n",
       "      <td>1.400000</td>\n",
       "      <td>0.207547</td>\n",
       "      <td>0.018868</td>\n",
       "      <td>0.000000</td>\n",
       "      <td>0.000000</td>\n",
       "      <td>0.513166</td>\n",
       "      <td>0.0</td>\n",
       "      <td>...</td>\n",
       "      <td>0</td>\n",
       "      <td>0</td>\n",
       "      <td>0</td>\n",
       "      <td>0</td>\n",
       "      <td>0</td>\n",
       "      <td>1</td>\n",
       "      <td>0</td>\n",
       "      <td>0</td>\n",
       "      <td>0</td>\n",
       "      <td>0</td>\n",
       "    </tr>\n",
       "    <tr>\n",
       "      <th>3</th>\n",
       "      <td>drpullen.com</td>\n",
       "      <td>{\"title\":\"Carpe Diem DrPullen com Medical and ...</td>\n",
       "      <td>0.603334</td>\n",
       "      <td>1.600000</td>\n",
       "      <td>0.303030</td>\n",
       "      <td>0.000000</td>\n",
       "      <td>0.000000</td>\n",
       "      <td>0.000000</td>\n",
       "      <td>0.461538</td>\n",
       "      <td>0.0</td>\n",
       "      <td>...</td>\n",
       "      <td>0</td>\n",
       "      <td>0</td>\n",
       "      <td>0</td>\n",
       "      <td>0</td>\n",
       "      <td>0</td>\n",
       "      <td>1</td>\n",
       "      <td>0</td>\n",
       "      <td>0</td>\n",
       "      <td>0</td>\n",
       "      <td>0</td>\n",
       "    </tr>\n",
       "    <tr>\n",
       "      <th>4</th>\n",
       "      <td>bradcolbow.com</td>\n",
       "      <td>{\"title\":\"Brad Colbow Independent Web Designer...</td>\n",
       "      <td>0.850000</td>\n",
       "      <td>3.967213</td>\n",
       "      <td>0.596330</td>\n",
       "      <td>0.449541</td>\n",
       "      <td>0.300000</td>\n",
       "      <td>0.162662</td>\n",
       "      <td>0.505411</td>\n",
       "      <td>0.0</td>\n",
       "      <td>...</td>\n",
       "      <td>0</td>\n",
       "      <td>0</td>\n",
       "      <td>0</td>\n",
       "      <td>0</td>\n",
       "      <td>0</td>\n",
       "      <td>0</td>\n",
       "      <td>0</td>\n",
       "      <td>0</td>\n",
       "      <td>0</td>\n",
       "      <td>0</td>\n",
       "    </tr>\n",
       "  </tbody>\n",
       "</table>\n",
       "<p>5 rows × 39 columns</p>\n",
       "</div>"
      ],
      "text/plain": [
       "                     url                                 webpageDescription  \\\n",
       "0       www.ocweekly.com  {\"url\":\"ocweekly 2013 04 11 news deported mexi...   \n",
       "1      www.youbeauty.com  {\"title\":\"10 Exotic Fruits Vegetables 10 exoti...   \n",
       "2  www.you-made-that.com  {\"title\":\"Skinny German Chocolate Cookies \",\"b...   \n",
       "3           drpullen.com  {\"title\":\"Carpe Diem DrPullen com Medical and ...   \n",
       "4         bradcolbow.com  {\"title\":\"Brad Colbow Independent Web Designer...   \n",
       "\n",
       "   alchemy_category_score  avgLinkWordLength  AvglinkWithOneCommonWord  \\\n",
       "0                0.300004           2.307692                  0.424749   \n",
       "1                0.625228           1.712500                  0.492063   \n",
       "2                0.603334           1.400000                  0.207547   \n",
       "3                0.603334           1.600000                  0.303030   \n",
       "4                0.850000           3.967213                  0.596330   \n",
       "\n",
       "   AvglinkWithTwoCommonWord  AvglinkWithThreeCommonWord  \\\n",
       "0                  0.190635                    0.036789   \n",
       "1                  0.301587                    0.005291   \n",
       "2                  0.018868                    0.000000   \n",
       "3                  0.000000                    0.000000   \n",
       "4                  0.449541                    0.300000   \n",
       "\n",
       "   AvglinkWithFourCommonWord  redundancyMeasure  embedRatio  ...  \\\n",
       "0                   0.020067           0.439444         0.0  ...   \n",
       "1                   0.000000           0.488178         0.0  ...   \n",
       "2                   0.000000           0.513166         0.0  ...   \n",
       "3                   0.000000           0.461538         0.0  ...   \n",
       "4                   0.162662           0.505411         0.0  ...   \n",
       "\n",
       "   alchemy_category_culture_politics  alchemy_category_gaming  \\\n",
       "0                                  0                        0   \n",
       "1                                  0                        0   \n",
       "2                                  0                        0   \n",
       "3                                  0                        0   \n",
       "4                                  0                        0   \n",
       "\n",
       "   alchemy_category_health  alchemy_category_law_crime  \\\n",
       "0                        0                           0   \n",
       "1                        0                           0   \n",
       "2                        0                           0   \n",
       "3                        0                           0   \n",
       "4                        0                           0   \n",
       "\n",
       "   alchemy_category_recreation  alchemy_category_religion  \\\n",
       "0                            0                          0   \n",
       "1                            0                          0   \n",
       "2                            0                          1   \n",
       "3                            0                          1   \n",
       "4                            0                          0   \n",
       "\n",
       "   alchemy_category_science_technology  alchemy_category_sports  \\\n",
       "0                                    0                        1   \n",
       "1                                    1                        0   \n",
       "2                                    0                        0   \n",
       "3                                    0                        0   \n",
       "4                                    0                        0   \n",
       "\n",
       "   alchemy_category_unknown  alchemy_category_weather  \n",
       "0                         0                         0  \n",
       "1                         0                         0  \n",
       "2                         0                         0  \n",
       "3                         0                         0  \n",
       "4                         0                         0  \n",
       "\n",
       "[5 rows x 39 columns]"
      ]
     },
     "execution_count": 42,
     "metadata": {},
     "output_type": "execute_result"
    }
   ],
   "source": [
    "train_df.head()"
   ]
  },
  {
   "cell_type": "code",
   "execution_count": 43,
   "id": "44931105",
   "metadata": {},
   "outputs": [
    {
     "name": "stdout",
     "output_type": "stream",
     "text": [
      "0       {\"url\":\"ocweekly 2013 04 11 news deported mexi...\n",
      "1       {\"title\":\"10 Exotic Fruits Vegetables 10 exoti...\n",
      "2       {\"title\":\"Skinny German Chocolate Cookies \",\"b...\n",
      "3       {\"title\":\"Carpe Diem DrPullen com Medical and ...\n",
      "4       {\"title\":\"Brad Colbow Independent Web Designer...\n",
      "                              ...                        \n",
      "5911    {\"title\":\"Diamonds Are A Girl s Best Hair Remo...\n",
      "5912    {\"title\":\"Man arrested for wearing POLICE t sh...\n",
      "5913    {\"title\":\"Cake Batter Truffles The Girl Who At...\n",
      "5914    {\"title\":\"Avocado Recipes California Avocado C...\n",
      "5915    {\"title\":\"Driving while inTEXTicated My Though...\n",
      "Name: webpageDescription, Length: 7395, dtype: object\n"
     ]
    }
   ],
   "source": [
    "print(train_df['webpageDescription'])"
   ]
  },
  {
   "cell_type": "code",
   "execution_count": 44,
   "id": "f8d134c9",
   "metadata": {},
   "outputs": [],
   "source": [
    "train_df['webpageDescription'].replace(to_replace=r'\"title\":', value=\"\",inplace=True,regex=True)\n",
    "train_df['webpageDescription'].replace(to_replace=r'\"url\":',value=\"\",inplace=True,regex=True)\n",
    "train_df['webpageDescription'].replace(to_replace=r'\"body\":',value=\"\",inplace=True,regex=True)\n",
    "train_df['webpageDescription'].replace(to_replace=r'{|}',value=\"\",inplace=True,regex=True)"
   ]
  },
  {
   "cell_type": "code",
   "execution_count": 45,
   "id": "346709db",
   "metadata": {},
   "outputs": [
    {
     "data": {
      "text/html": [
       "<div>\n",
       "<style scoped>\n",
       "    .dataframe tbody tr th:only-of-type {\n",
       "        vertical-align: middle;\n",
       "    }\n",
       "\n",
       "    .dataframe tbody tr th {\n",
       "        vertical-align: top;\n",
       "    }\n",
       "\n",
       "    .dataframe thead th {\n",
       "        text-align: right;\n",
       "    }\n",
       "</style>\n",
       "<table border=\"1\" class=\"dataframe\">\n",
       "  <thead>\n",
       "    <tr style=\"text-align: right;\">\n",
       "      <th></th>\n",
       "      <th>url</th>\n",
       "      <th>webpageDescription</th>\n",
       "      <th>alchemy_category_score</th>\n",
       "      <th>avgLinkWordLength</th>\n",
       "      <th>AvglinkWithOneCommonWord</th>\n",
       "      <th>AvglinkWithTwoCommonWord</th>\n",
       "      <th>AvglinkWithThreeCommonWord</th>\n",
       "      <th>AvglinkWithFourCommonWord</th>\n",
       "      <th>redundancyMeasure</th>\n",
       "      <th>embedRatio</th>\n",
       "      <th>...</th>\n",
       "      <th>alchemy_category_culture_politics</th>\n",
       "      <th>alchemy_category_gaming</th>\n",
       "      <th>alchemy_category_health</th>\n",
       "      <th>alchemy_category_law_crime</th>\n",
       "      <th>alchemy_category_recreation</th>\n",
       "      <th>alchemy_category_religion</th>\n",
       "      <th>alchemy_category_science_technology</th>\n",
       "      <th>alchemy_category_sports</th>\n",
       "      <th>alchemy_category_unknown</th>\n",
       "      <th>alchemy_category_weather</th>\n",
       "    </tr>\n",
       "  </thead>\n",
       "  <tbody>\n",
       "    <tr>\n",
       "      <th>0</th>\n",
       "      <td>www.ocweekly.com</td>\n",
       "      <td>\"ocweekly 2013 04 11 news deported mexicans ba...</td>\n",
       "      <td>0.300004</td>\n",
       "      <td>2.307692</td>\n",
       "      <td>0.424749</td>\n",
       "      <td>0.190635</td>\n",
       "      <td>0.036789</td>\n",
       "      <td>0.020067</td>\n",
       "      <td>0.439444</td>\n",
       "      <td>0.0</td>\n",
       "      <td>...</td>\n",
       "      <td>0</td>\n",
       "      <td>0</td>\n",
       "      <td>0</td>\n",
       "      <td>0</td>\n",
       "      <td>0</td>\n",
       "      <td>0</td>\n",
       "      <td>0</td>\n",
       "      <td>1</td>\n",
       "      <td>0</td>\n",
       "      <td>0</td>\n",
       "    </tr>\n",
       "    <tr>\n",
       "      <th>1</th>\n",
       "      <td>www.youbeauty.com</td>\n",
       "      <td>\"10 Exotic Fruits Vegetables 10 exotic fruits ...</td>\n",
       "      <td>0.625228</td>\n",
       "      <td>1.712500</td>\n",
       "      <td>0.492063</td>\n",
       "      <td>0.301587</td>\n",
       "      <td>0.005291</td>\n",
       "      <td>0.000000</td>\n",
       "      <td>0.488178</td>\n",
       "      <td>0.0</td>\n",
       "      <td>...</td>\n",
       "      <td>0</td>\n",
       "      <td>0</td>\n",
       "      <td>0</td>\n",
       "      <td>0</td>\n",
       "      <td>0</td>\n",
       "      <td>0</td>\n",
       "      <td>1</td>\n",
       "      <td>0</td>\n",
       "      <td>0</td>\n",
       "      <td>0</td>\n",
       "    </tr>\n",
       "    <tr>\n",
       "      <th>2</th>\n",
       "      <td>www.you-made-that.com</td>\n",
       "      <td>\"Skinny German Chocolate Cookies \",\"These litt...</td>\n",
       "      <td>0.603334</td>\n",
       "      <td>1.400000</td>\n",
       "      <td>0.207547</td>\n",
       "      <td>0.018868</td>\n",
       "      <td>0.000000</td>\n",
       "      <td>0.000000</td>\n",
       "      <td>0.513166</td>\n",
       "      <td>0.0</td>\n",
       "      <td>...</td>\n",
       "      <td>0</td>\n",
       "      <td>0</td>\n",
       "      <td>0</td>\n",
       "      <td>0</td>\n",
       "      <td>0</td>\n",
       "      <td>1</td>\n",
       "      <td>0</td>\n",
       "      <td>0</td>\n",
       "      <td>0</td>\n",
       "      <td>0</td>\n",
       "    </tr>\n",
       "    <tr>\n",
       "      <th>3</th>\n",
       "      <td>drpullen.com</td>\n",
       "      <td>\"Carpe Diem DrPullen com Medical and Health Bl...</td>\n",
       "      <td>0.603334</td>\n",
       "      <td>1.600000</td>\n",
       "      <td>0.303030</td>\n",
       "      <td>0.000000</td>\n",
       "      <td>0.000000</td>\n",
       "      <td>0.000000</td>\n",
       "      <td>0.461538</td>\n",
       "      <td>0.0</td>\n",
       "      <td>...</td>\n",
       "      <td>0</td>\n",
       "      <td>0</td>\n",
       "      <td>0</td>\n",
       "      <td>0</td>\n",
       "      <td>0</td>\n",
       "      <td>1</td>\n",
       "      <td>0</td>\n",
       "      <td>0</td>\n",
       "      <td>0</td>\n",
       "      <td>0</td>\n",
       "    </tr>\n",
       "    <tr>\n",
       "      <th>4</th>\n",
       "      <td>bradcolbow.com</td>\n",
       "      <td>\"Brad Colbow Independent Web Designer Illustra...</td>\n",
       "      <td>0.850000</td>\n",
       "      <td>3.967213</td>\n",
       "      <td>0.596330</td>\n",
       "      <td>0.449541</td>\n",
       "      <td>0.300000</td>\n",
       "      <td>0.162662</td>\n",
       "      <td>0.505411</td>\n",
       "      <td>0.0</td>\n",
       "      <td>...</td>\n",
       "      <td>0</td>\n",
       "      <td>0</td>\n",
       "      <td>0</td>\n",
       "      <td>0</td>\n",
       "      <td>0</td>\n",
       "      <td>0</td>\n",
       "      <td>0</td>\n",
       "      <td>0</td>\n",
       "      <td>0</td>\n",
       "      <td>0</td>\n",
       "    </tr>\n",
       "  </tbody>\n",
       "</table>\n",
       "<p>5 rows × 39 columns</p>\n",
       "</div>"
      ],
      "text/plain": [
       "                     url                                 webpageDescription  \\\n",
       "0       www.ocweekly.com  \"ocweekly 2013 04 11 news deported mexicans ba...   \n",
       "1      www.youbeauty.com  \"10 Exotic Fruits Vegetables 10 exotic fruits ...   \n",
       "2  www.you-made-that.com  \"Skinny German Chocolate Cookies \",\"These litt...   \n",
       "3           drpullen.com  \"Carpe Diem DrPullen com Medical and Health Bl...   \n",
       "4         bradcolbow.com  \"Brad Colbow Independent Web Designer Illustra...   \n",
       "\n",
       "   alchemy_category_score  avgLinkWordLength  AvglinkWithOneCommonWord  \\\n",
       "0                0.300004           2.307692                  0.424749   \n",
       "1                0.625228           1.712500                  0.492063   \n",
       "2                0.603334           1.400000                  0.207547   \n",
       "3                0.603334           1.600000                  0.303030   \n",
       "4                0.850000           3.967213                  0.596330   \n",
       "\n",
       "   AvglinkWithTwoCommonWord  AvglinkWithThreeCommonWord  \\\n",
       "0                  0.190635                    0.036789   \n",
       "1                  0.301587                    0.005291   \n",
       "2                  0.018868                    0.000000   \n",
       "3                  0.000000                    0.000000   \n",
       "4                  0.449541                    0.300000   \n",
       "\n",
       "   AvglinkWithFourCommonWord  redundancyMeasure  embedRatio  ...  \\\n",
       "0                   0.020067           0.439444         0.0  ...   \n",
       "1                   0.000000           0.488178         0.0  ...   \n",
       "2                   0.000000           0.513166         0.0  ...   \n",
       "3                   0.000000           0.461538         0.0  ...   \n",
       "4                   0.162662           0.505411         0.0  ...   \n",
       "\n",
       "   alchemy_category_culture_politics  alchemy_category_gaming  \\\n",
       "0                                  0                        0   \n",
       "1                                  0                        0   \n",
       "2                                  0                        0   \n",
       "3                                  0                        0   \n",
       "4                                  0                        0   \n",
       "\n",
       "   alchemy_category_health  alchemy_category_law_crime  \\\n",
       "0                        0                           0   \n",
       "1                        0                           0   \n",
       "2                        0                           0   \n",
       "3                        0                           0   \n",
       "4                        0                           0   \n",
       "\n",
       "   alchemy_category_recreation  alchemy_category_religion  \\\n",
       "0                            0                          0   \n",
       "1                            0                          0   \n",
       "2                            0                          1   \n",
       "3                            0                          1   \n",
       "4                            0                          0   \n",
       "\n",
       "   alchemy_category_science_technology  alchemy_category_sports  \\\n",
       "0                                    0                        1   \n",
       "1                                    1                        0   \n",
       "2                                    0                        0   \n",
       "3                                    0                        0   \n",
       "4                                    0                        0   \n",
       "\n",
       "   alchemy_category_unknown  alchemy_category_weather  \n",
       "0                         0                         0  \n",
       "1                         0                         0  \n",
       "2                         0                         0  \n",
       "3                         0                         0  \n",
       "4                         0                         0  \n",
       "\n",
       "[5 rows x 39 columns]"
      ]
     },
     "execution_count": 45,
     "metadata": {},
     "output_type": "execute_result"
    }
   ],
   "source": [
    "train_df.head()"
   ]
  },
  {
   "cell_type": "code",
   "execution_count": 46,
   "id": "558a7f50",
   "metadata": {},
   "outputs": [
    {
     "name": "stdout",
     "output_type": "stream",
     "text": [
      "shape of train list :  (5916,) || shape of test list :  (1479,)\n"
     ]
    }
   ],
   "source": [
    "# splitting dataframe by row index\n",
    "testglove_df = train_df['webpageDescription'].iloc[:1479,]\n",
    "trainglove_df = train_df['webpageDescription'].iloc[1479:,]\n",
    "\n",
    "print(\"shape of train list : \",trainglove_df.shape,\"|| shape of test list : \",testglove_df.shape)"
   ]
  },
  {
   "cell_type": "code",
   "execution_count": 47,
   "id": "0332ac7d",
   "metadata": {},
   "outputs": [
    {
     "name": "stderr",
     "output_type": "stream",
     "text": [
      "400001it [00:20, 19705.82it/s]"
     ]
    },
    {
     "name": "stdout",
     "output_type": "stream",
     "text": [
      "Found 400001 word vectors.\n"
     ]
    },
    {
     "name": "stderr",
     "output_type": "stream",
     "text": [
      "\n"
     ]
    }
   ],
   "source": [
    "# load the GloVe vectors in a dictionary:\n",
    "\n",
    "embeddings_index = {}\n",
    "f = open('glove.6B.300d.txt', encoding=\"utf8\")\n",
    "for line in tqdm(f):\n",
    "    values = line.split()\n",
    "    word = values[0]\n",
    "    coefs = np.asarray(values[1:], dtype='float32')\n",
    "    embeddings_index[word] = coefs\n",
    "f.close()\n",
    "\n",
    "print('Found %s word vectors.' % len(embeddings_index))"
   ]
  },
  {
   "cell_type": "code",
   "execution_count": 48,
   "id": "c6431232",
   "metadata": {},
   "outputs": [],
   "source": [
    "stop_words = set(stopwords.words(\"english\"))\n",
    "wordnet = WordNetLemmatizer()\n",
    "# this function creates a normalized vector for the whole sentence\n",
    "def sent2vec(s):\n",
    "    words = str(s).lower()\n",
    "    pattern = re.compile('http[s]?://(?:[a-zA-Z]|[0-9]|[$-_@.&+]|[!*\\(\\),]|(?:%[0-9a-fA-F][0-9a-fA-F]))+')\n",
    "    words = pattern.sub('', words)\n",
    "    words = re.sub(r\"[,.\\\"!@#$%^&*(){}?/;`~:<>+=-]\", \"\", words)\n",
    "    words = word_tokenize(words)\n",
    "    words = [w for w in words if not w in stop_words]\n",
    "    words = [w for w in words if w.isalpha()]\n",
    "    words = [wordnet.lemmatize(word) for word in words if not word in set(stop_words)]\n",
    "    #SS = nltk.SnowballStemmer(\"english\")\n",
    "    #words = [SS.stem(w) for w in words if not w in stop_words]\n",
    "    words = ' '.join(words)\n",
    "    M = []\n",
    "    for w in words:\n",
    "        try:\n",
    "            M.append(embeddings_index[w])\n",
    "        except:\n",
    "            continue\n",
    "    M = np.array(M)\n",
    "    v = M.sum(axis=0)\n",
    "    if type(v) != np.ndarray:\n",
    "        return np.zeros(300)\n",
    "    return v / np.sqrt((v ** 2).sum())"
   ]
  },
  {
   "cell_type": "code",
   "execution_count": 49,
   "id": "e7748b42",
   "metadata": {},
   "outputs": [
    {
     "name": "stderr",
     "output_type": "stream",
     "text": [
      "100%|██████████| 5916/5916 [00:17<00:00, 335.16it/s]\n",
      "100%|██████████| 1479/1479 [00:04<00:00, 342.74it/s]\n"
     ]
    }
   ],
   "source": [
    "# create sentence vectors using the above function for training and validation set\n",
    "xtrain_glove = [sent2vec(x) for x in tqdm(trainglove_df)]\n",
    "xtest_glove = [sent2vec(x) for x in tqdm(testglove_df)]"
   ]
  },
  {
   "cell_type": "code",
   "execution_count": 50,
   "id": "8ef23611",
   "metadata": {},
   "outputs": [],
   "source": [
    "xtrain_glove = np.array(xtrain_glove)\n",
    "xtest_glove = np.array(xtest_glove)"
   ]
  },
  {
   "cell_type": "markdown",
   "id": "94cf7650",
   "metadata": {},
   "source": [
    "# 4.feature scaling and joining vectorize data with other feature columns"
   ]
  },
  {
   "cell_type": "code",
   "execution_count": 51,
   "id": "67200211",
   "metadata": {},
   "outputs": [
    {
     "data": {
      "text/html": [
       "<div>\n",
       "<style scoped>\n",
       "    .dataframe tbody tr th:only-of-type {\n",
       "        vertical-align: middle;\n",
       "    }\n",
       "\n",
       "    .dataframe tbody tr th {\n",
       "        vertical-align: top;\n",
       "    }\n",
       "\n",
       "    .dataframe thead th {\n",
       "        text-align: right;\n",
       "    }\n",
       "</style>\n",
       "<table border=\"1\" class=\"dataframe\">\n",
       "  <thead>\n",
       "    <tr style=\"text-align: right;\">\n",
       "      <th></th>\n",
       "      <th>url</th>\n",
       "      <th>webpageDescription</th>\n",
       "      <th>alchemy_category_score</th>\n",
       "      <th>avgLinkWordLength</th>\n",
       "      <th>AvglinkWithOneCommonWord</th>\n",
       "      <th>AvglinkWithTwoCommonWord</th>\n",
       "      <th>AvglinkWithThreeCommonWord</th>\n",
       "      <th>AvglinkWithFourCommonWord</th>\n",
       "      <th>redundancyMeasure</th>\n",
       "      <th>embedRatio</th>\n",
       "      <th>...</th>\n",
       "      <th>alchemy_category_culture_politics</th>\n",
       "      <th>alchemy_category_gaming</th>\n",
       "      <th>alchemy_category_health</th>\n",
       "      <th>alchemy_category_law_crime</th>\n",
       "      <th>alchemy_category_recreation</th>\n",
       "      <th>alchemy_category_religion</th>\n",
       "      <th>alchemy_category_science_technology</th>\n",
       "      <th>alchemy_category_sports</th>\n",
       "      <th>alchemy_category_unknown</th>\n",
       "      <th>alchemy_category_weather</th>\n",
       "    </tr>\n",
       "  </thead>\n",
       "  <tbody>\n",
       "    <tr>\n",
       "      <th>0</th>\n",
       "      <td>www.ocweekly.com</td>\n",
       "      <td>\"ocweekly 2013 04 11 news deported mexicans ba...</td>\n",
       "      <td>0.300004</td>\n",
       "      <td>2.307692</td>\n",
       "      <td>0.424749</td>\n",
       "      <td>0.190635</td>\n",
       "      <td>0.036789</td>\n",
       "      <td>0.020067</td>\n",
       "      <td>0.439444</td>\n",
       "      <td>0.0</td>\n",
       "      <td>...</td>\n",
       "      <td>0</td>\n",
       "      <td>0</td>\n",
       "      <td>0</td>\n",
       "      <td>0</td>\n",
       "      <td>0</td>\n",
       "      <td>0</td>\n",
       "      <td>0</td>\n",
       "      <td>1</td>\n",
       "      <td>0</td>\n",
       "      <td>0</td>\n",
       "    </tr>\n",
       "    <tr>\n",
       "      <th>1</th>\n",
       "      <td>www.youbeauty.com</td>\n",
       "      <td>\"10 Exotic Fruits Vegetables 10 exotic fruits ...</td>\n",
       "      <td>0.625228</td>\n",
       "      <td>1.712500</td>\n",
       "      <td>0.492063</td>\n",
       "      <td>0.301587</td>\n",
       "      <td>0.005291</td>\n",
       "      <td>0.000000</td>\n",
       "      <td>0.488178</td>\n",
       "      <td>0.0</td>\n",
       "      <td>...</td>\n",
       "      <td>0</td>\n",
       "      <td>0</td>\n",
       "      <td>0</td>\n",
       "      <td>0</td>\n",
       "      <td>0</td>\n",
       "      <td>0</td>\n",
       "      <td>1</td>\n",
       "      <td>0</td>\n",
       "      <td>0</td>\n",
       "      <td>0</td>\n",
       "    </tr>\n",
       "    <tr>\n",
       "      <th>2</th>\n",
       "      <td>www.you-made-that.com</td>\n",
       "      <td>\"Skinny German Chocolate Cookies \",\"These litt...</td>\n",
       "      <td>0.603334</td>\n",
       "      <td>1.400000</td>\n",
       "      <td>0.207547</td>\n",
       "      <td>0.018868</td>\n",
       "      <td>0.000000</td>\n",
       "      <td>0.000000</td>\n",
       "      <td>0.513166</td>\n",
       "      <td>0.0</td>\n",
       "      <td>...</td>\n",
       "      <td>0</td>\n",
       "      <td>0</td>\n",
       "      <td>0</td>\n",
       "      <td>0</td>\n",
       "      <td>0</td>\n",
       "      <td>1</td>\n",
       "      <td>0</td>\n",
       "      <td>0</td>\n",
       "      <td>0</td>\n",
       "      <td>0</td>\n",
       "    </tr>\n",
       "    <tr>\n",
       "      <th>3</th>\n",
       "      <td>drpullen.com</td>\n",
       "      <td>\"Carpe Diem DrPullen com Medical and Health Bl...</td>\n",
       "      <td>0.603334</td>\n",
       "      <td>1.600000</td>\n",
       "      <td>0.303030</td>\n",
       "      <td>0.000000</td>\n",
       "      <td>0.000000</td>\n",
       "      <td>0.000000</td>\n",
       "      <td>0.461538</td>\n",
       "      <td>0.0</td>\n",
       "      <td>...</td>\n",
       "      <td>0</td>\n",
       "      <td>0</td>\n",
       "      <td>0</td>\n",
       "      <td>0</td>\n",
       "      <td>0</td>\n",
       "      <td>1</td>\n",
       "      <td>0</td>\n",
       "      <td>0</td>\n",
       "      <td>0</td>\n",
       "      <td>0</td>\n",
       "    </tr>\n",
       "    <tr>\n",
       "      <th>4</th>\n",
       "      <td>bradcolbow.com</td>\n",
       "      <td>\"Brad Colbow Independent Web Designer Illustra...</td>\n",
       "      <td>0.850000</td>\n",
       "      <td>3.967213</td>\n",
       "      <td>0.596330</td>\n",
       "      <td>0.449541</td>\n",
       "      <td>0.300000</td>\n",
       "      <td>0.162662</td>\n",
       "      <td>0.505411</td>\n",
       "      <td>0.0</td>\n",
       "      <td>...</td>\n",
       "      <td>0</td>\n",
       "      <td>0</td>\n",
       "      <td>0</td>\n",
       "      <td>0</td>\n",
       "      <td>0</td>\n",
       "      <td>0</td>\n",
       "      <td>0</td>\n",
       "      <td>0</td>\n",
       "      <td>0</td>\n",
       "      <td>0</td>\n",
       "    </tr>\n",
       "  </tbody>\n",
       "</table>\n",
       "<p>5 rows × 39 columns</p>\n",
       "</div>"
      ],
      "text/plain": [
       "                     url                                 webpageDescription  \\\n",
       "0       www.ocweekly.com  \"ocweekly 2013 04 11 news deported mexicans ba...   \n",
       "1      www.youbeauty.com  \"10 Exotic Fruits Vegetables 10 exotic fruits ...   \n",
       "2  www.you-made-that.com  \"Skinny German Chocolate Cookies \",\"These litt...   \n",
       "3           drpullen.com  \"Carpe Diem DrPullen com Medical and Health Bl...   \n",
       "4         bradcolbow.com  \"Brad Colbow Independent Web Designer Illustra...   \n",
       "\n",
       "   alchemy_category_score  avgLinkWordLength  AvglinkWithOneCommonWord  \\\n",
       "0                0.300004           2.307692                  0.424749   \n",
       "1                0.625228           1.712500                  0.492063   \n",
       "2                0.603334           1.400000                  0.207547   \n",
       "3                0.603334           1.600000                  0.303030   \n",
       "4                0.850000           3.967213                  0.596330   \n",
       "\n",
       "   AvglinkWithTwoCommonWord  AvglinkWithThreeCommonWord  \\\n",
       "0                  0.190635                    0.036789   \n",
       "1                  0.301587                    0.005291   \n",
       "2                  0.018868                    0.000000   \n",
       "3                  0.000000                    0.000000   \n",
       "4                  0.449541                    0.300000   \n",
       "\n",
       "   AvglinkWithFourCommonWord  redundancyMeasure  embedRatio  ...  \\\n",
       "0                   0.020067           0.439444         0.0  ...   \n",
       "1                   0.000000           0.488178         0.0  ...   \n",
       "2                   0.000000           0.513166         0.0  ...   \n",
       "3                   0.000000           0.461538         0.0  ...   \n",
       "4                   0.162662           0.505411         0.0  ...   \n",
       "\n",
       "   alchemy_category_culture_politics  alchemy_category_gaming  \\\n",
       "0                                  0                        0   \n",
       "1                                  0                        0   \n",
       "2                                  0                        0   \n",
       "3                                  0                        0   \n",
       "4                                  0                        0   \n",
       "\n",
       "   alchemy_category_health  alchemy_category_law_crime  \\\n",
       "0                        0                           0   \n",
       "1                        0                           0   \n",
       "2                        0                           0   \n",
       "3                        0                           0   \n",
       "4                        0                           0   \n",
       "\n",
       "   alchemy_category_recreation  alchemy_category_religion  \\\n",
       "0                            0                          0   \n",
       "1                            0                          0   \n",
       "2                            0                          1   \n",
       "3                            0                          1   \n",
       "4                            0                          0   \n",
       "\n",
       "   alchemy_category_science_technology  alchemy_category_sports  \\\n",
       "0                                    0                        1   \n",
       "1                                    1                        0   \n",
       "2                                    0                        0   \n",
       "3                                    0                        0   \n",
       "4                                    0                        0   \n",
       "\n",
       "   alchemy_category_unknown  alchemy_category_weather  \n",
       "0                         0                         0  \n",
       "1                         0                         0  \n",
       "2                         0                         0  \n",
       "3                         0                         0  \n",
       "4                         0                         0  \n",
       "\n",
       "[5 rows x 39 columns]"
      ]
     },
     "execution_count": 51,
     "metadata": {},
     "output_type": "execute_result"
    }
   ],
   "source": [
    "train_df.head()"
   ]
  },
  {
   "cell_type": "code",
   "execution_count": 52,
   "id": "fcb1447d",
   "metadata": {},
   "outputs": [],
   "source": [
    "#dropping unrelated columns\n",
    "train_df.drop(axis=\"columns\", labels=\"url\", inplace=True)\n",
    "train_df.drop(axis=\"columns\", labels=\"webpageDescription\", inplace=True)\n",
    "train_df.drop(axis=\"columns\", labels=\"label\", inplace=True)\n",
    "train_df.drop(axis=\"columns\", labels=\"indicator\", inplace=True)\n",
    "train_df.drop(axis=\"columns\", labels=\"id\", inplace=True)"
   ]
  },
  {
   "cell_type": "code",
   "execution_count": 53,
   "id": "f209f231",
   "metadata": {},
   "outputs": [
    {
     "data": {
      "text/html": [
       "<div>\n",
       "<style scoped>\n",
       "    .dataframe tbody tr th:only-of-type {\n",
       "        vertical-align: middle;\n",
       "    }\n",
       "\n",
       "    .dataframe tbody tr th {\n",
       "        vertical-align: top;\n",
       "    }\n",
       "\n",
       "    .dataframe thead th {\n",
       "        text-align: right;\n",
       "    }\n",
       "</style>\n",
       "<table border=\"1\" class=\"dataframe\">\n",
       "  <thead>\n",
       "    <tr style=\"text-align: right;\">\n",
       "      <th></th>\n",
       "      <th>alchemy_category_score</th>\n",
       "      <th>avgLinkWordLength</th>\n",
       "      <th>AvglinkWithOneCommonWord</th>\n",
       "      <th>AvglinkWithTwoCommonWord</th>\n",
       "      <th>AvglinkWithThreeCommonWord</th>\n",
       "      <th>AvglinkWithFourCommonWord</th>\n",
       "      <th>redundancyMeasure</th>\n",
       "      <th>embedRatio</th>\n",
       "      <th>frameTagRatio</th>\n",
       "      <th>domainLink</th>\n",
       "      <th>...</th>\n",
       "      <th>alchemy_category_culture_politics</th>\n",
       "      <th>alchemy_category_gaming</th>\n",
       "      <th>alchemy_category_health</th>\n",
       "      <th>alchemy_category_law_crime</th>\n",
       "      <th>alchemy_category_recreation</th>\n",
       "      <th>alchemy_category_religion</th>\n",
       "      <th>alchemy_category_science_technology</th>\n",
       "      <th>alchemy_category_sports</th>\n",
       "      <th>alchemy_category_unknown</th>\n",
       "      <th>alchemy_category_weather</th>\n",
       "    </tr>\n",
       "  </thead>\n",
       "  <tbody>\n",
       "    <tr>\n",
       "      <th>0</th>\n",
       "      <td>0.300004</td>\n",
       "      <td>2.307692</td>\n",
       "      <td>0.424749</td>\n",
       "      <td>0.190635</td>\n",
       "      <td>0.036789</td>\n",
       "      <td>0.020067</td>\n",
       "      <td>0.439444</td>\n",
       "      <td>0.0</td>\n",
       "      <td>0.029235</td>\n",
       "      <td>0</td>\n",
       "      <td>...</td>\n",
       "      <td>0</td>\n",
       "      <td>0</td>\n",
       "      <td>0</td>\n",
       "      <td>0</td>\n",
       "      <td>0</td>\n",
       "      <td>0</td>\n",
       "      <td>0</td>\n",
       "      <td>1</td>\n",
       "      <td>0</td>\n",
       "      <td>0</td>\n",
       "    </tr>\n",
       "    <tr>\n",
       "      <th>1</th>\n",
       "      <td>0.625228</td>\n",
       "      <td>1.712500</td>\n",
       "      <td>0.492063</td>\n",
       "      <td>0.301587</td>\n",
       "      <td>0.005291</td>\n",
       "      <td>0.000000</td>\n",
       "      <td>0.488178</td>\n",
       "      <td>0.0</td>\n",
       "      <td>0.042431</td>\n",
       "      <td>0</td>\n",
       "      <td>...</td>\n",
       "      <td>0</td>\n",
       "      <td>0</td>\n",
       "      <td>0</td>\n",
       "      <td>0</td>\n",
       "      <td>0</td>\n",
       "      <td>0</td>\n",
       "      <td>1</td>\n",
       "      <td>0</td>\n",
       "      <td>0</td>\n",
       "      <td>0</td>\n",
       "    </tr>\n",
       "    <tr>\n",
       "      <th>2</th>\n",
       "      <td>0.603334</td>\n",
       "      <td>1.400000</td>\n",
       "      <td>0.207547</td>\n",
       "      <td>0.018868</td>\n",
       "      <td>0.000000</td>\n",
       "      <td>0.000000</td>\n",
       "      <td>0.513166</td>\n",
       "      <td>0.0</td>\n",
       "      <td>0.059937</td>\n",
       "      <td>0</td>\n",
       "      <td>...</td>\n",
       "      <td>0</td>\n",
       "      <td>0</td>\n",
       "      <td>0</td>\n",
       "      <td>0</td>\n",
       "      <td>0</td>\n",
       "      <td>1</td>\n",
       "      <td>0</td>\n",
       "      <td>0</td>\n",
       "      <td>0</td>\n",
       "      <td>0</td>\n",
       "    </tr>\n",
       "    <tr>\n",
       "      <th>3</th>\n",
       "      <td>0.603334</td>\n",
       "      <td>1.600000</td>\n",
       "      <td>0.303030</td>\n",
       "      <td>0.000000</td>\n",
       "      <td>0.000000</td>\n",
       "      <td>0.000000</td>\n",
       "      <td>0.461538</td>\n",
       "      <td>0.0</td>\n",
       "      <td>0.150327</td>\n",
       "      <td>0</td>\n",
       "      <td>...</td>\n",
       "      <td>0</td>\n",
       "      <td>0</td>\n",
       "      <td>0</td>\n",
       "      <td>0</td>\n",
       "      <td>0</td>\n",
       "      <td>1</td>\n",
       "      <td>0</td>\n",
       "      <td>0</td>\n",
       "      <td>0</td>\n",
       "      <td>0</td>\n",
       "    </tr>\n",
       "    <tr>\n",
       "      <th>4</th>\n",
       "      <td>0.850000</td>\n",
       "      <td>3.967213</td>\n",
       "      <td>0.596330</td>\n",
       "      <td>0.449541</td>\n",
       "      <td>0.300000</td>\n",
       "      <td>0.162662</td>\n",
       "      <td>0.505411</td>\n",
       "      <td>0.0</td>\n",
       "      <td>0.007825</td>\n",
       "      <td>0</td>\n",
       "      <td>...</td>\n",
       "      <td>0</td>\n",
       "      <td>0</td>\n",
       "      <td>0</td>\n",
       "      <td>0</td>\n",
       "      <td>0</td>\n",
       "      <td>0</td>\n",
       "      <td>0</td>\n",
       "      <td>0</td>\n",
       "      <td>0</td>\n",
       "      <td>0</td>\n",
       "    </tr>\n",
       "  </tbody>\n",
       "</table>\n",
       "<p>5 rows × 34 columns</p>\n",
       "</div>"
      ],
      "text/plain": [
       "   alchemy_category_score  avgLinkWordLength  AvglinkWithOneCommonWord  \\\n",
       "0                0.300004           2.307692                  0.424749   \n",
       "1                0.625228           1.712500                  0.492063   \n",
       "2                0.603334           1.400000                  0.207547   \n",
       "3                0.603334           1.600000                  0.303030   \n",
       "4                0.850000           3.967213                  0.596330   \n",
       "\n",
       "   AvglinkWithTwoCommonWord  AvglinkWithThreeCommonWord  \\\n",
       "0                  0.190635                    0.036789   \n",
       "1                  0.301587                    0.005291   \n",
       "2                  0.018868                    0.000000   \n",
       "3                  0.000000                    0.000000   \n",
       "4                  0.449541                    0.300000   \n",
       "\n",
       "   AvglinkWithFourCommonWord  redundancyMeasure  embedRatio  frameTagRatio  \\\n",
       "0                   0.020067           0.439444         0.0       0.029235   \n",
       "1                   0.000000           0.488178         0.0       0.042431   \n",
       "2                   0.000000           0.513166         0.0       0.059937   \n",
       "3                   0.000000           0.461538         0.0       0.150327   \n",
       "4                   0.162662           0.505411         0.0       0.007825   \n",
       "\n",
       "   domainLink  ...  alchemy_category_culture_politics  \\\n",
       "0           0  ...                                  0   \n",
       "1           0  ...                                  0   \n",
       "2           0  ...                                  0   \n",
       "3           0  ...                                  0   \n",
       "4           0  ...                                  0   \n",
       "\n",
       "   alchemy_category_gaming  alchemy_category_health  \\\n",
       "0                        0                        0   \n",
       "1                        0                        0   \n",
       "2                        0                        0   \n",
       "3                        0                        0   \n",
       "4                        0                        0   \n",
       "\n",
       "   alchemy_category_law_crime  alchemy_category_recreation  \\\n",
       "0                           0                            0   \n",
       "1                           0                            0   \n",
       "2                           0                            0   \n",
       "3                           0                            0   \n",
       "4                           0                            0   \n",
       "\n",
       "   alchemy_category_religion  alchemy_category_science_technology  \\\n",
       "0                          0                                    0   \n",
       "1                          0                                    1   \n",
       "2                          1                                    0   \n",
       "3                          1                                    0   \n",
       "4                          0                                    0   \n",
       "\n",
       "   alchemy_category_sports  alchemy_category_unknown  alchemy_category_weather  \n",
       "0                        1                         0                         0  \n",
       "1                        0                         0                         0  \n",
       "2                        0                         0                         0  \n",
       "3                        0                         0                         0  \n",
       "4                        0                         0                         0  \n",
       "\n",
       "[5 rows x 34 columns]"
      ]
     },
     "execution_count": 53,
     "metadata": {},
     "output_type": "execute_result"
    }
   ],
   "source": [
    "train_df.head()"
   ]
  },
  {
   "cell_type": "code",
   "execution_count": 54,
   "id": "469dc796",
   "metadata": {},
   "outputs": [],
   "source": [
    "#robust scaling is used to handle outliers\n",
    "from sklearn.preprocessing import RobustScaler\n",
    "scaler = RobustScaler()\n",
    "train_df = pd.DataFrame(scaler.fit_transform(train_df), columns=train_df.columns)"
   ]
  },
  {
   "cell_type": "code",
   "execution_count": 55,
   "id": "e728711c",
   "metadata": {},
   "outputs": [
    {
     "data": {
      "text/html": [
       "<div>\n",
       "<style scoped>\n",
       "    .dataframe tbody tr th:only-of-type {\n",
       "        vertical-align: middle;\n",
       "    }\n",
       "\n",
       "    .dataframe tbody tr th {\n",
       "        vertical-align: top;\n",
       "    }\n",
       "\n",
       "    .dataframe thead th {\n",
       "        text-align: right;\n",
       "    }\n",
       "</style>\n",
       "<table border=\"1\" class=\"dataframe\">\n",
       "  <thead>\n",
       "    <tr style=\"text-align: right;\">\n",
       "      <th></th>\n",
       "      <th>alchemy_category_score</th>\n",
       "      <th>avgLinkWordLength</th>\n",
       "      <th>AvglinkWithOneCommonWord</th>\n",
       "      <th>AvglinkWithTwoCommonWord</th>\n",
       "      <th>AvglinkWithThreeCommonWord</th>\n",
       "      <th>AvglinkWithFourCommonWord</th>\n",
       "      <th>redundancyMeasure</th>\n",
       "      <th>embedRatio</th>\n",
       "      <th>frameTagRatio</th>\n",
       "      <th>domainLink</th>\n",
       "      <th>...</th>\n",
       "      <th>alchemy_category_culture_politics</th>\n",
       "      <th>alchemy_category_gaming</th>\n",
       "      <th>alchemy_category_health</th>\n",
       "      <th>alchemy_category_law_crime</th>\n",
       "      <th>alchemy_category_recreation</th>\n",
       "      <th>alchemy_category_religion</th>\n",
       "      <th>alchemy_category_science_technology</th>\n",
       "      <th>alchemy_category_sports</th>\n",
       "      <th>alchemy_category_unknown</th>\n",
       "      <th>alchemy_category_weather</th>\n",
       "    </tr>\n",
       "  </thead>\n",
       "  <tbody>\n",
       "    <tr>\n",
       "      <th>0</th>\n",
       "      <td>-1.789332</td>\n",
       "      <td>0.214023</td>\n",
       "      <td>-0.205378</td>\n",
       "      <td>-0.060690</td>\n",
       "      <td>-0.286543</td>\n",
       "      <td>-0.033126</td>\n",
       "      <td>-0.326195</td>\n",
       "      <td>0.0</td>\n",
       "      <td>-0.367895</td>\n",
       "      <td>0.0</td>\n",
       "      <td>...</td>\n",
       "      <td>0.0</td>\n",
       "      <td>0.0</td>\n",
       "      <td>0.0</td>\n",
       "      <td>0.0</td>\n",
       "      <td>0.0</td>\n",
       "      <td>0.0</td>\n",
       "      <td>0.0</td>\n",
       "      <td>1.0</td>\n",
       "      <td>0.0</td>\n",
       "      <td>0.0</td>\n",
       "    </tr>\n",
       "    <tr>\n",
       "      <th>1</th>\n",
       "      <td>0.129150</td>\n",
       "      <td>-0.366432</td>\n",
       "      <td>0.038308</td>\n",
       "      <td>0.509063</td>\n",
       "      <td>-0.570028</td>\n",
       "      <td>-0.341540</td>\n",
       "      <td>0.033176</td>\n",
       "      <td>0.0</td>\n",
       "      <td>-0.074371</td>\n",
       "      <td>0.0</td>\n",
       "      <td>...</td>\n",
       "      <td>0.0</td>\n",
       "      <td>0.0</td>\n",
       "      <td>0.0</td>\n",
       "      <td>0.0</td>\n",
       "      <td>0.0</td>\n",
       "      <td>0.0</td>\n",
       "      <td>1.0</td>\n",
       "      <td>0.0</td>\n",
       "      <td>0.0</td>\n",
       "      <td>0.0</td>\n",
       "    </tr>\n",
       "    <tr>\n",
       "      <th>2</th>\n",
       "      <td>0.000000</td>\n",
       "      <td>-0.671195</td>\n",
       "      <td>-0.991674</td>\n",
       "      <td>-0.942739</td>\n",
       "      <td>-0.617647</td>\n",
       "      <td>-0.341540</td>\n",
       "      <td>0.217434</td>\n",
       "      <td>0.0</td>\n",
       "      <td>0.315022</td>\n",
       "      <td>0.0</td>\n",
       "      <td>...</td>\n",
       "      <td>0.0</td>\n",
       "      <td>0.0</td>\n",
       "      <td>0.0</td>\n",
       "      <td>0.0</td>\n",
       "      <td>0.0</td>\n",
       "      <td>1.0</td>\n",
       "      <td>0.0</td>\n",
       "      <td>0.0</td>\n",
       "      <td>0.0</td>\n",
       "      <td>0.0</td>\n",
       "    </tr>\n",
       "    <tr>\n",
       "      <th>3</th>\n",
       "      <td>0.000000</td>\n",
       "      <td>-0.476147</td>\n",
       "      <td>-0.646014</td>\n",
       "      <td>-1.039629</td>\n",
       "      <td>-0.617647</td>\n",
       "      <td>-0.341540</td>\n",
       "      <td>-0.163269</td>\n",
       "      <td>0.0</td>\n",
       "      <td>2.325633</td>\n",
       "      <td>0.0</td>\n",
       "      <td>...</td>\n",
       "      <td>0.0</td>\n",
       "      <td>0.0</td>\n",
       "      <td>0.0</td>\n",
       "      <td>0.0</td>\n",
       "      <td>0.0</td>\n",
       "      <td>1.0</td>\n",
       "      <td>0.0</td>\n",
       "      <td>0.0</td>\n",
       "      <td>0.0</td>\n",
       "      <td>0.0</td>\n",
       "    </tr>\n",
       "    <tr>\n",
       "      <th>4</th>\n",
       "      <td>1.455070</td>\n",
       "      <td>1.832454</td>\n",
       "      <td>0.415766</td>\n",
       "      <td>1.268827</td>\n",
       "      <td>2.082353</td>\n",
       "      <td>2.158460</td>\n",
       "      <td>0.160251</td>\n",
       "      <td>0.0</td>\n",
       "      <td>-0.844149</td>\n",
       "      <td>0.0</td>\n",
       "      <td>...</td>\n",
       "      <td>0.0</td>\n",
       "      <td>0.0</td>\n",
       "      <td>0.0</td>\n",
       "      <td>0.0</td>\n",
       "      <td>0.0</td>\n",
       "      <td>0.0</td>\n",
       "      <td>0.0</td>\n",
       "      <td>0.0</td>\n",
       "      <td>0.0</td>\n",
       "      <td>0.0</td>\n",
       "    </tr>\n",
       "  </tbody>\n",
       "</table>\n",
       "<p>5 rows × 34 columns</p>\n",
       "</div>"
      ],
      "text/plain": [
       "   alchemy_category_score  avgLinkWordLength  AvglinkWithOneCommonWord  \\\n",
       "0               -1.789332           0.214023                 -0.205378   \n",
       "1                0.129150          -0.366432                  0.038308   \n",
       "2                0.000000          -0.671195                 -0.991674   \n",
       "3                0.000000          -0.476147                 -0.646014   \n",
       "4                1.455070           1.832454                  0.415766   \n",
       "\n",
       "   AvglinkWithTwoCommonWord  AvglinkWithThreeCommonWord  \\\n",
       "0                 -0.060690                   -0.286543   \n",
       "1                  0.509063                   -0.570028   \n",
       "2                 -0.942739                   -0.617647   \n",
       "3                 -1.039629                   -0.617647   \n",
       "4                  1.268827                    2.082353   \n",
       "\n",
       "   AvglinkWithFourCommonWord  redundancyMeasure  embedRatio  frameTagRatio  \\\n",
       "0                  -0.033126          -0.326195         0.0      -0.367895   \n",
       "1                  -0.341540           0.033176         0.0      -0.074371   \n",
       "2                  -0.341540           0.217434         0.0       0.315022   \n",
       "3                  -0.341540          -0.163269         0.0       2.325633   \n",
       "4                   2.158460           0.160251         0.0      -0.844149   \n",
       "\n",
       "   domainLink  ...  alchemy_category_culture_politics  \\\n",
       "0         0.0  ...                                0.0   \n",
       "1         0.0  ...                                0.0   \n",
       "2         0.0  ...                                0.0   \n",
       "3         0.0  ...                                0.0   \n",
       "4         0.0  ...                                0.0   \n",
       "\n",
       "   alchemy_category_gaming  alchemy_category_health  \\\n",
       "0                      0.0                      0.0   \n",
       "1                      0.0                      0.0   \n",
       "2                      0.0                      0.0   \n",
       "3                      0.0                      0.0   \n",
       "4                      0.0                      0.0   \n",
       "\n",
       "   alchemy_category_law_crime  alchemy_category_recreation  \\\n",
       "0                         0.0                          0.0   \n",
       "1                         0.0                          0.0   \n",
       "2                         0.0                          0.0   \n",
       "3                         0.0                          0.0   \n",
       "4                         0.0                          0.0   \n",
       "\n",
       "   alchemy_category_religion  alchemy_category_science_technology  \\\n",
       "0                        0.0                                  0.0   \n",
       "1                        0.0                                  1.0   \n",
       "2                        1.0                                  0.0   \n",
       "3                        1.0                                  0.0   \n",
       "4                        0.0                                  0.0   \n",
       "\n",
       "   alchemy_category_sports  alchemy_category_unknown  alchemy_category_weather  \n",
       "0                      1.0                       0.0                       0.0  \n",
       "1                      0.0                       0.0                       0.0  \n",
       "2                      0.0                       0.0                       0.0  \n",
       "3                      0.0                       0.0                       0.0  \n",
       "4                      0.0                       0.0                       0.0  \n",
       "\n",
       "[5 rows x 34 columns]"
      ]
     },
     "execution_count": 55,
     "metadata": {},
     "output_type": "execute_result"
    }
   ],
   "source": [
    "train_df.head()"
   ]
  },
  {
   "cell_type": "code",
   "execution_count": 56,
   "id": "1205235e",
   "metadata": {},
   "outputs": [],
   "source": [
    "train_df.reset_index(inplace=True, drop=True)"
   ]
  },
  {
   "cell_type": "code",
   "execution_count": 57,
   "id": "6a13c741",
   "metadata": {},
   "outputs": [
    {
     "ename": "NameError",
     "evalue": "name 'df_webpageDescription' is not defined",
     "output_type": "error",
     "traceback": [
      "\u001b[1;31m---------------------------------------------------------------------------\u001b[0m",
      "\u001b[1;31mNameError\u001b[0m                                 Traceback (most recent call last)",
      "\u001b[1;32m<ipython-input-57-4f08b37bb069>\u001b[0m in \u001b[0;36m<module>\u001b[1;34m\u001b[0m\n\u001b[1;32m----> 1\u001b[1;33m \u001b[0mhorizontal_concat\u001b[0m \u001b[1;33m=\u001b[0m \u001b[0mpd\u001b[0m\u001b[1;33m.\u001b[0m\u001b[0mconcat\u001b[0m\u001b[1;33m(\u001b[0m\u001b[1;33m[\u001b[0m\u001b[0mdf_webpageDescription\u001b[0m\u001b[1;33m,\u001b[0m\u001b[0mtrain_df\u001b[0m\u001b[1;33m]\u001b[0m\u001b[1;33m,\u001b[0m \u001b[0maxis\u001b[0m\u001b[1;33m=\u001b[0m\u001b[1;36m1\u001b[0m\u001b[1;33m)\u001b[0m\u001b[1;33m\u001b[0m\u001b[1;33m\u001b[0m\u001b[0m\n\u001b[0m",
      "\u001b[1;31mNameError\u001b[0m: name 'df_webpageDescription' is not defined"
     ]
    }
   ],
   "source": [
    "horizontal_concat = pd.concat([df_webpageDescription,train_df], axis=1)"
   ]
  },
  {
   "cell_type": "code",
   "execution_count": null,
   "id": "46346ee8",
   "metadata": {},
   "outputs": [],
   "source": [
    "horizontal_concat.shape"
   ]
  },
  {
   "cell_type": "code",
   "execution_count": null,
   "id": "18a989b3",
   "metadata": {},
   "outputs": [],
   "source": [
    "#horizontal_concat.head()"
   ]
  },
  {
   "cell_type": "markdown",
   "id": "56202628",
   "metadata": {},
   "source": [
    "# 5.Train test split"
   ]
  },
  {
   "cell_type": "code",
   "execution_count": null,
   "id": "34446485",
   "metadata": {},
   "outputs": [],
   "source": [
    "#X_test_df = df_webpageDescription.iloc[:1479,:]\n",
    "#X_train_df  = df_webpageDescription.iloc[1479:,:]\n",
    "\n",
    "\n",
    "#X_test_df = horizontal_concat.iloc[:1479,:]\n",
    "#X_train_df  = horizontal_concat.iloc[1479:,:]\n",
    "#print(\"Shape of new dataframes - {} , {}\".format(X_test_df.shape, X_train_df.shape))"
   ]
  },
  {
   "cell_type": "code",
   "execution_count": null,
   "id": "7d9da99c",
   "metadata": {},
   "outputs": [],
   "source": [
    "Y_train_df = train['label']\n",
    "print(\"Y_train_df shape : \",Y_train_df.shape)"
   ]
  },
  {
   "cell_type": "markdown",
   "id": "3edbbd9f",
   "metadata": {},
   "source": [
    "# 6.Model"
   ]
  },
  {
   "cell_type": "markdown",
   "id": "eaf80f55",
   "metadata": {},
   "source": [
    "## 6.1 logistic regression"
   ]
  },
  {
   "cell_type": "code",
   "execution_count": 75,
   "id": "154d9756",
   "metadata": {},
   "outputs": [],
   "source": [
    "\"\"\"using logistic regression\"\"\"\n",
    "from sklearn.linear_model import LogisticRegression\n",
    "\n",
    "# instantiate the model (using the default parameters)\n",
    "logreg = LogisticRegression(max_iter = 1500)\n",
    "\n",
    "# fit the model with data\n",
    "logreg.fit(xtrain_glove, Y_train_df)\n",
    "\n",
    "#[:,1] this is applied to take positive probablities\n",
    "y_pred_logreg=logreg.predict_proba(xtest_glove)[:,1]"
   ]
  },
  {
   "cell_type": "code",
   "execution_count": null,
   "id": "eb70b019",
   "metadata": {},
   "outputs": [],
   "source": [
    "test[\"label\"] = y_pred_logreg\n",
    "submission_log = test[[\"id\",\"label\"]]\n",
    "submission_log.to_csv(\"glove_scaled_allcolumns_1500itnolgbfs_submission032.csv\",index=False)"
   ]
  },
  {
   "cell_type": "markdown",
   "id": "3addd988",
   "metadata": {},
   "source": [
    "## 6.2 SVM"
   ]
  },
  {
   "cell_type": "code",
   "execution_count": 76,
   "id": "3ac05cf2",
   "metadata": {},
   "outputs": [
    {
     "data": {
      "text/plain": [
       "SVC(kernel='linear', probability=True)"
      ]
     },
     "execution_count": 76,
     "metadata": {},
     "output_type": "execute_result"
    }
   ],
   "source": [
    "#Import svm model\n",
    "from sklearn import svm\n",
    "\n",
    "#Create a svm Classifier\n",
    "clf = svm.SVC(kernel='linear',probability=True) # Linear Kernel\n",
    "\n",
    "#Train the model using the training sets\n",
    "clf.fit(xtrain_glove, Y_train_df)"
   ]
  },
  {
   "cell_type": "code",
   "execution_count": null,
   "id": "98f29361",
   "metadata": {},
   "outputs": [],
   "source": [
    "#Predict the response for test dataset\n",
    "y_pred_svm = clf.predict_proba(xtest_glove)[:,1]"
   ]
  },
  {
   "cell_type": "code",
   "execution_count": null,
   "id": "b555c87c",
   "metadata": {},
   "outputs": [],
   "source": [
    "test[\"label\"] = y_pred_svm\n",
    "submission_log = test[[\"id\",\"label\"]]\n",
    "submission_log.to_csv(\"glove_scaled_allcolumns_svm_submission020.csv\",index=False)"
   ]
  },
  {
   "cell_type": "code",
   "execution_count": null,
   "id": "0f570895",
   "metadata": {},
   "outputs": [],
   "source": []
  },
  {
   "cell_type": "markdown",
   "id": "d9514484",
   "metadata": {},
   "source": [
    "## 6.3 Random forest"
   ]
  },
  {
   "cell_type": "code",
   "execution_count": 77,
   "id": "cb0c6e0f",
   "metadata": {},
   "outputs": [],
   "source": [
    "# importing random forest classifier from assemble module\n",
    "from sklearn.ensemble import RandomForestClassifier"
   ]
  },
  {
   "cell_type": "code",
   "execution_count": 78,
   "id": "58e4e5be",
   "metadata": {},
   "outputs": [],
   "source": [
    "# creating a RF classifier\n",
    "clf = RandomForestClassifier(n_estimators = 1000) \n",
    "clf.fit(xtrain_glove, Y_train_df)\n",
    "# performing predictions on the test dataset\n",
    "y_pred_rf = clf.predict_proba(xtest_glove)[:,1]"
   ]
  },
  {
   "cell_type": "code",
   "execution_count": null,
   "id": "da30039d",
   "metadata": {},
   "outputs": [],
   "source": [
    "test[\"label\"] = y_pred_rf \n",
    "submission_log = test[[\"id\",\"label\"]]\n",
    "submission_log.to_csv(\"glove_scaled_allcolumns_randomforest_submission022.csv\",index=False)"
   ]
  },
  {
   "cell_type": "markdown",
   "id": "e28c6fdf",
   "metadata": {},
   "source": [
    "## 6.4 Simple Xgboost classifier"
   ]
  },
  {
   "cell_type": "code",
   "execution_count": null,
   "id": "74fdf9c9",
   "metadata": {},
   "outputs": [],
   "source": [
    "# Fitting a simple xgboost on glove features\n",
    "clf = xgb.XGBClassifier(nthread=10, silent=False)\n",
    "clf.fit(xtrain_glove, Y_train_df)\n",
    "predictions = clf.predict_proba(xtest_glove)[:,1]"
   ]
  },
  {
   "cell_type": "code",
   "execution_count": null,
   "id": "1ca004bc",
   "metadata": {},
   "outputs": [],
   "source": [
    "test[\"label\"] = predictions\n",
    "submission_log = test[[\"id\",\"label\"]]\n",
    "submission_log.to_csv(\"glove_scaled_allcolumns_xgboost_submission029.csv\",index=False)"
   ]
  },
  {
   "cell_type": "markdown",
   "id": "ec7e9546",
   "metadata": {},
   "source": [
    "## 6.5 MLP classifer"
   ]
  },
  {
   "cell_type": "code",
   "execution_count": 81,
   "id": "bb74d7b3",
   "metadata": {},
   "outputs": [],
   "source": [
    "from sklearn.neural_network import MLPClassifier\n",
    "\n",
    "mlp = MLPClassifier(alpha=1, max_iter=1000)\n",
    "mlp.fit(xtrain_glove, Y_train_df)\n",
    "\n",
    "y_test_pred = mlp.predict_proba(xtest_glove)[:,1]"
   ]
  },
  {
   "cell_type": "code",
   "execution_count": null,
   "id": "54276d12",
   "metadata": {},
   "outputs": [],
   "source": [
    "test[\"label\"] = y_test_pred\n",
    "submission_log = test[[\"id\",\"label\"]]\n",
    "submission_log.to_csv(\"glove_scaled_mlp_submission0612202_1209.csv\",index=False)"
   ]
  },
  {
   "cell_type": "markdown",
   "id": "4d14dff3",
   "metadata": {},
   "source": [
    "## 6.6 Stacking"
   ]
  },
  {
   "cell_type": "code",
   "execution_count": null,
   "id": "5507f431",
   "metadata": {},
   "outputs": [],
   "source": [
    "# Define estimators\n",
    "from sklearn.ensemble import StackingClassifier\n",
    "from sklearn.linear_model import LogisticRegression\n",
    "\n",
    "estimator_list = [\n",
    "    ('svm_rbf',svm_rbf),\n",
    "    ('mlp',MLPClassifier(alpha=1, max_iter=1000))]\n",
    "\n",
    "# Build stack model\n",
    "stack_model = StackingClassifier(\n",
    "    estimators=estimator_list, final_estimator=LogisticRegression()\n",
    ")\n",
    "\n",
    "# Train stacked model\n",
    "stack_model.fit(xtrain_glove, Y_train_df)\n",
    "\n",
    "# Make predictions\n",
    "y_train_pred = stack_model.predict_proba(xtrain_glove)\n",
    "y_test_pred = stack_model.predict(xtest_glove)\n",
    "\n",
    "# Training set model performance\n",
    "stack_model_train_accuracy = accuracy_score(Y_train_df, y_train_pred) # Calculate Accuracy\n",
    "stack_model_train_mcc = matthews_corrcoef(Y_train_df, y_train_pred) # Calculate MCC\n",
    "stack_model_train_f1 = f1_score(Y_train_df, y_train_pred, average='weighted') # Calculate F1-score\n",
    "\n",
    "print('Model performance for Training set')\n",
    "print('- Accuracy: %s' % stack_model_train_accuracy)\n",
    "print('- MCC: %s' % stack_model_train_mcc)\n",
    "print('- F1 score: %s' % stack_model_train_f1)"
   ]
  },
  {
   "cell_type": "code",
   "execution_count": 82,
   "id": "0cc1a928",
   "metadata": {},
   "outputs": [
    {
     "ename": "NameError",
     "evalue": "name 'stack_model' is not defined",
     "output_type": "error",
     "traceback": [
      "\u001b[1;31m---------------------------------------------------------------------------\u001b[0m",
      "\u001b[1;31mNameError\u001b[0m                                 Traceback (most recent call last)",
      "\u001b[1;32m<ipython-input-82-18d0b72a5a2b>\u001b[0m in \u001b[0;36m<module>\u001b[1;34m\u001b[0m\n\u001b[1;32m----> 1\u001b[1;33m \u001b[0my_test_pred\u001b[0m \u001b[1;33m=\u001b[0m \u001b[0mstack_model\u001b[0m\u001b[1;33m.\u001b[0m\u001b[0mpredict_proba\u001b[0m\u001b[1;33m(\u001b[0m\u001b[0mxtest_glove\u001b[0m\u001b[1;33m)\u001b[0m\u001b[1;33m[\u001b[0m\u001b[1;33m:\u001b[0m\u001b[1;33m,\u001b[0m\u001b[1;36m1\u001b[0m\u001b[1;33m]\u001b[0m\u001b[1;33m\u001b[0m\u001b[1;33m\u001b[0m\u001b[0m\n\u001b[0m",
      "\u001b[1;31mNameError\u001b[0m: name 'stack_model' is not defined"
     ]
    }
   ],
   "source": [
    "y_test_pred = stack_model.predict_proba(xtest_glove)[:,1]"
   ]
  },
  {
   "cell_type": "code",
   "execution_count": null,
   "id": "a699c069",
   "metadata": {},
   "outputs": [],
   "source": [
    "test[\"label\"] = y_test_pred\n",
    "submission_log = test[[\"id\",\"label\"]]\n",
    "submission_log.to_csv(\"glove_scaled_stack_submission0612202_1221.csv\",index=False)"
   ]
  }
 ],
 "metadata": {
  "kernelspec": {
   "display_name": "Python 3",
   "language": "python",
   "name": "python3"
  },
  "language_info": {
   "codemirror_mode": {
    "name": "ipython",
    "version": 3
   },
   "file_extension": ".py",
   "mimetype": "text/x-python",
   "name": "python",
   "nbconvert_exporter": "python",
   "pygments_lexer": "ipython3",
   "version": "3.8.8"
  }
 },
 "nbformat": 4,
 "nbformat_minor": 5
}
